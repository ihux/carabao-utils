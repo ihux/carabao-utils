{
 "cells": [
  {
   "cell_type": "code",
   "execution_count": 2,
   "id": "5060c979-2e67-4a35-88be-1ea57b5ca822",
   "metadata": {},
   "outputs": [
    {
     "ename": "IndentationError",
     "evalue": "unexpected indent (screen.py, line 354)",
     "output_type": "error",
     "traceback": [
      "Traceback \u001b[0;36m(most recent call last)\u001b[0m:\n",
      "\u001b[0m  File \u001b[1;32m~/Bluenetics/Git/Neural/carabao-utils/venv/lib/python3.11/site-packages/IPython/core/interactiveshell.py:3526\u001b[0m in \u001b[1;35mrun_code\u001b[0m\n    exec(code_obj, self.user_global_ns, self.user_ns)\u001b[0m\n",
      "\u001b[0;36m  Cell \u001b[0;32mIn[2], line 3\u001b[0;36m\n\u001b[0;31m    import carabao.screen\u001b[0;36m\n",
      "\u001b[0;36m  File \u001b[0;32m~/Bluenetics/Git/Neural/carabao-utils/venv/lib/python3.11/site-packages/carabao/screen.py:354\u001b[0;36m\u001b[0m\n\u001b[0;31m    def initrecorder(self):\u001b[0m\n\u001b[0m    ^\u001b[0m\n\u001b[0;31mIndentationError\u001b[0m\u001b[0;31m:\u001b[0m unexpected indent\n"
     ]
    }
   ],
   "source": [
    "# setup neural playground\n",
    "import carabao\n",
    "import carabao.screen\n",
    "import carabao.cell\n",
    "\n",
    "import importlib\n",
    "importlib.reload(carabao)         # reload module\n",
    "importlib.reload(carabao.screen)  # reload module\n",
    "importlib.reload(carabao.cell)    # reload module"
   ]
  },
  {
   "cell_type": "code",
   "execution_count": 81,
   "id": "7d381a79-6467-4d2f-bd05-99c4b2f735f2",
   "metadata": {
    "scrolled": true
   },
   "outputs": [
    {
     "name": "stdout",
     "output_type": "stream",
     "text": [
      "mon: <carabao.screen.Monitor object at 0x117fbc490>\n",
      "mon1: <carabao.screen.Monitor object at 0x1206ba9d0>\n",
      "mon is mon1: False\n",
      "mon == mon1: False\n"
     ]
    },
    {
     "ename": "AttributeError",
     "evalue": "'numpy.ndarray' object has no attribute 'plot'",
     "output_type": "error",
     "traceback": [
      "\u001b[0;31m---------------------------------------------------------------------------\u001b[0m",
      "\u001b[0;31mAttributeError\u001b[0m                            Traceback (most recent call last)",
      "Cell \u001b[0;32mIn[81], line 62\u001b[0m\n\u001b[1;32m     59\u001b[0m mini\u001b[38;5;241m.\u001b[39mcells\n\u001b[1;32m     61\u001b[0m u \u001b[38;5;241m=\u001b[39m \u001b[38;5;241m1\u001b[39m; \n\u001b[0;32m---> 62\u001b[0m col \u001b[38;5;241m=\u001b[39m \u001b[43mmini\u001b[49m\u001b[38;5;241;43m.\u001b[39;49m\u001b[43mplot\u001b[49m\u001b[43m(\u001b[49m\u001b[38;5;241;43m0\u001b[39;49m\u001b[43m)\u001b[49m\n\u001b[1;32m     64\u001b[0m \u001b[38;5;66;03m#c,col = mini.iter(u,c,col);   # iteration 0\u001b[39;00m\n\u001b[1;32m     65\u001b[0m \u001b[38;5;66;03m#c,col = mini.iter(u,c,col);   # iteration 1\u001b[39;00m\n",
      "Cell \u001b[0;32mIn[81], line 19\u001b[0m, in \u001b[0;36mMini.plot\u001b[0;34m(self, j)\u001b[0m\n\u001b[1;32m     17\u001b[0m \u001b[38;5;28;01mdef\u001b[39;00m \u001b[38;5;21mplot\u001b[39m(\u001b[38;5;28mself\u001b[39m,j):\n\u001b[1;32m     18\u001b[0m     \u001b[38;5;28;01mfor\u001b[39;00m i \u001b[38;5;129;01min\u001b[39;00m \u001b[38;5;28mrange\u001b[39m(\u001b[38;5;241m0\u001b[39m,\u001b[38;5;241m3\u001b[39m):\n\u001b[0;32m---> 19\u001b[0m         \u001b[38;5;28;43mself\u001b[39;49m\u001b[38;5;241;43m.\u001b[39;49m\u001b[43mcells\u001b[49m\u001b[43m[\u001b[49m\u001b[43mi\u001b[49m\u001b[43m]\u001b[49m\u001b[38;5;241;43m.\u001b[39;49m\u001b[43mplot\u001b[49m\u001b[43m(\u001b[49m\u001b[43mi\u001b[49m\u001b[38;5;241;43m*\u001b[39;49m\u001b[38;5;28;43mself\u001b[39;49m\u001b[38;5;241;43m.\u001b[39;49m\u001b[43mfac\u001b[49m\u001b[43m,\u001b[49m\u001b[43mj\u001b[49m\u001b[43m)\u001b[49m    \u001b[38;5;66;03m# plot at monitor location i,j\u001b[39;00m\n\u001b[1;32m     20\u001b[0m     \u001b[38;5;28mself\u001b[39m\u001b[38;5;241m.\u001b[39mmon\u001b[38;5;241m.\u001b[39mtext(\u001b[38;5;241m1\u001b[39m,\u001b[38;5;241m0.25\u001b[39m,\u001b[38;5;124m'\u001b[39m\u001b[38;5;124m<INIT>\u001b[39m\u001b[38;5;124m'\u001b[39m)\n\u001b[1;32m     21\u001b[0m     \u001b[38;5;28;01mreturn\u001b[39;00m j\u001b[38;5;241m+\u001b[39m\u001b[38;5;241m1\u001b[39m\n",
      "File \u001b[0;32m~/Bluenetics/Git/Neural/carabao-utils/venv/lib/python3.11/site-packages/carabao/cell.py:220\u001b[0m, in \u001b[0;36mCell.plot\u001b[0;34m(self, i, j, q, Q)\u001b[0m\n\u001b[1;32m    219\u001b[0m \u001b[38;5;28;01mdef\u001b[39;00m \u001b[38;5;21mplot\u001b[39m(\u001b[38;5;28mself\u001b[39m,i\u001b[38;5;241m=\u001b[39m\u001b[38;5;28;01mNone\u001b[39;00m,j\u001b[38;5;241m=\u001b[39m\u001b[38;5;28;01mNone\u001b[39;00m,q\u001b[38;5;241m=\u001b[39m\u001b[38;5;28;01mNone\u001b[39;00m,Q\u001b[38;5;241m=\u001b[39m\u001b[38;5;28;01mNone\u001b[39;00m):\n\u001b[0;32m--> 220\u001b[0m     \u001b[38;5;28;43mself\u001b[39;49m\u001b[38;5;241;43m.\u001b[39;49m\u001b[43mmon\u001b[49m\u001b[38;5;241;43m.\u001b[39;49m\u001b[43mplot\u001b[49m(\u001b[38;5;28mself\u001b[39m,i,j,q,Q)\n",
      "\u001b[0;31mAttributeError\u001b[0m: 'numpy.ndarray' object has no attribute 'plot'"
     ]
    },
    {
     "data": {
      "image/png": "[encoded data removed]",
      "text/plain": [
       "<Figure size 640x480 with 1 Axes>"
      ]
     },
     "metadata": {},
     "output_type": "display_data"
    },
    {
     "data": {
      "image/png": "[encoded data removed]",
      "text/plain": [
       "<Figure size 640x480 with 1 Axes>"
      ]
     },
     "metadata": {},
     "output_type": "display_data"
    }
   ],
   "source": [
    "# minicolumn: explore a 3 x 1 minicolumn\n",
    "\n",
    "from carabao.screen import Monitor\n",
    "from carabao.cell import Cell,toy\n",
    "from numpy import ones\n",
    "\n",
    "class Mini:\n",
    "    fac = 1.0\n",
    "    def __init__(self,mon,k,g,K,P):\n",
    "        self.mon = mon\n",
    "        \n",
    "        self.cells = []\n",
    "        for i in range(0,3):\n",
    "            cell = Cell(mon,k[i],g,K[i],P[i])\n",
    "            self.cells.append(cell)\n",
    "\n",
    "    def plot(self,j):\n",
    "        for i in range(0,3):\n",
    "            self.cells[i].plot(i*self.fac,j)    # plot at monitor location i,j\n",
    "        self.mon.text(1,0.25,'<INIT>')\n",
    "        return j+1\n",
    "\n",
    "    def phase(self,ph,u,c,j):\n",
    "        \"\"\"\n",
    "        c,col = mini.phase(1,u,c,j)\n",
    "        c,col = mini.phase(2,u,c,j)\n",
    "        c,col = mini.phase(3,u,c,j)\n",
    "        \"\"\"\n",
    "        n = 0\n",
    "        for i in range(0,len(self.cells)):\n",
    "            cell = self.cells[i]\n",
    "            c = cell.phase(ph,u,c)\n",
    "            cell.plot(i*self.fac,j);\n",
    "            n += cell.mon.hash(cell)\n",
    "        cell.mon.text(j+1,0.25,mon.ascii(n))\n",
    "        halfline = \"===============================\"\n",
    "        print(\"%s%s\" % (halfline,halfline))\n",
    "        return c,j+1\n",
    "\n",
    "    def iter(self,u,c,col):\n",
    "        c,col = self.phase(1,u,c,col);  \n",
    "        c,col = self.phase(2,u,c,col);  \n",
    "        c,col = self.phase(3,u,c,col);  \n",
    "        return c,col\n",
    "        \n",
    "k,g,K,P,c = toy('mini3')\n",
    "mon = Monitor(m=3,n=7)\n",
    "mini = Mini(mon,k,g,K,P)\n",
    "\n",
    "print(\"mon:\",mon)\n",
    "mon1 = mon.__copy__()\n",
    "print(\"mon1:\",mon1)\n",
    "print(\"mon is mon1:\",mon is mon1)\n",
    "print(\"mon == mon1:\",mon == mon1)\n",
    "\n",
    "u = 1; \n",
    "col = mini.plot(0)\n",
    "\n",
    "#c,col = mini.iter(u,c,col);   # iteration 0\n",
    "#c,col = mini.iter(u,c,col);   # iteration 1"
   ]
  },
  {
   "cell_type": "code",
   "execution_count": null,
   "id": "a6d96e1d-204a-4e64-8efc-96779057d1c0",
   "metadata": {},
   "outputs": [],
   "source": []
  },
  {
   "cell_type": "code",
   "execution_count": null,
   "id": "2e8af8b2-b0d8-4701-b6ba-a2b92b380687",
   "metadata": {},
   "outputs": [],
   "source": []
  }
 ],
 "metadata": {
  "kernelspec": {
   "display_name": "Python 3 (ipykernel)",
   "language": "python",
   "name": "python3"
  },
  "language_info": {
   "codemirror_mode": {
    "name": "ipython",
    "version": 3
   },
   "file_extension": ".py",
   "mimetype": "text/x-python",
   "name": "python",
   "nbconvert_exporter": "python",
   "pygments_lexer": "ipython3",
   "version": "3.11.5"
  }
 },
 "nbformat": 4,
 "nbformat_minor": 5
}
