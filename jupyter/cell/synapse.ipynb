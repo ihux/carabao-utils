{
 "cells": [
  {
   "cell_type": "code",
   "execution_count": 1,
   "id": "5413d4c4-8377-4e63-917e-3b9551fe0a88",
   "metadata": {},
   "outputs": [],
   "source": [
    "# class Synapse (copyright Neuronycs 2023)\n",
    "\n",
    "from numpy import arange, array, ones, transpose\n",
    "\n",
    "#=============================================================================================\n",
    "# class Synapses\n",
    "#=============================================================================================\n",
    "\n",
    "class Synapses:\n",
    "    \"\"\"\n",
    "    Synapses: class\n",
    "        syn = Synapses(K,P,eta,theta,(plus,minus))   # full arg list\n",
    "        syn = Synapses(K,P)       # eta=0.5, plus=minus=0.02\n",
    "        syn = Synapses(g)         # P=one \n",
    "\n",
    "        P = syn.P                 # permanences\n",
    "\n",
    "        W = syn.W()               # synaptic weight matrix\n",
    "        V = syn.V(c)              # presynaptic signals\n",
    "        E = syn.E(c)              # empowering matrix\n",
    "        L = syn.L(c)              # learning mask\n",
    "        D = syn.D(c)              # learning deltas\n",
    "        s = syn.s(c)              # spike vector\n",
    "        o = syn.one               # [1,1,...,1] matrix (1 x ns)\n",
    "\n",
    "        syn.P = syn.sat(P)        # truncate P matrix to range [0,1]\n",
    "    \"\"\"\n",
    "    def __init__(self,K,P=None,eta=0.5,theta=2,delta=(0.02,0.02)):\n",
    "        self.K = array(K)         # always store as numpy array\n",
    "        self.P = array(P)         # always store as numpy array\n",
    "        self.eta = eta            # synaptic threshold\n",
    "        self.theta = theta        # spiking threshold\n",
    "        self.delta = delta        # learning delta (plus,minus)\n",
    "    \n",
    "    def W(self):                  # binary weights\n",
    "        return (self.P >= self.eta)*1\n",
    "    \n",
    "    def V(self,c):                    # pre-synaptic signals\n",
    "        kmax = len(c)\n",
    "        V = 0*self.K\n",
    "        for mu in range(0,self.K.shape[0]):\n",
    "            for nu in range(0,self.K.shape[1]):\n",
    "                k = self.K[mu,nu]\n",
    "                V[mu,nu] = c[k] if k < kmax else 0;\n",
    "        return V\n",
    "\n",
    "    def E(self,c):                     # E = V(c) * W(P)\n",
    "        return self.V(c) * self.W()    # empowerment matrix\n",
    "\n",
    "    def L(self,c):\n",
    "        one = ones(K.shape)\n",
    "        return transpose(array([self.s(c)])) @ array([one[0]])\n",
    "\n",
    "    def D(self,c):                     # D = (2*plus * V - minus) * L\n",
    "        L = self.L(c);  V = self.V(c);  \n",
    "        plus,minus = self.delta\n",
    "        return (2*plus * V - minus) * L\n",
    "        \n",
    "    def s(self,c):                     # spike vector: s = (sum(E')>=theta)\n",
    "        E = self.E(c)\n",
    "        s = [(sum(E[mu]) >= self.theta)\n",
    "             for mu in range(0,E.shape[0])]\n",
    "        return 1*array(s)\n",
    "\n",
    "    def v(self,c):                     # group output\n",
    "        return array([c[k] if k < len(c) else 0\n",
    "                      for k in self.K])\n",
    "        \n",
    "    def sat(X):  # truncates every matrix element of X to range 0.0 ... 1.0\n",
    "        def lt1(X): return 1 + (X-1<=0)*(X-1)\n",
    "        def gt0(X): return (X>=0)*X\n",
    "        return lt1(gt0(X))\n",
    "\n"
   ]
  },
  {
   "cell_type": "code",
   "execution_count": 2,
   "id": "caa16c14-bf58-4428-8f82-5250745ea4b2",
   "metadata": {},
   "outputs": [
    {
     "name": "stdout",
     "output_type": "stream",
     "text": [
      "c: [1, 1, 1, 1, 1, 1, 1, 1, 1, 1]\n",
      "syn.P    array([[0.12, 0.32, 0.54, 0.77, 0.  ],\n",
      "       [0.  , 0.61, 0.45, 0.  , 0.8 ]])\n",
      "syn.W()  array([[0, 0, 1, 1, 0],\n",
      "       [0, 1, 0, 0, 1]])\n",
      "syn.V(c) array([[1, 1, 1, 1, 1],\n",
      "       [1, 1, 1, 1, 1]])\n",
      "syn.E(c) array([[0, 0, 1, 1, 0],\n",
      "       [0, 1, 0, 0, 1]])\n",
      "syn.L(c) array([[1., 1., 1., 1., 1.],\n",
      "       [1., 1., 1., 1., 1.]])\n",
      "syn.D(c) array([[0.02, 0.02, 0.02, 0.02, 0.02],\n",
      "       [0.02, 0.02, 0.02, 0.02, 0.02]])\n",
      "syn.s(c) array([1, 1])\n"
     ]
    }
   ],
   "source": [
    "# synaptic bank\n",
    "\n",
    "from carabao.cell import toy\n",
    "k,g,K,P,c = toy('cell')\n",
    "syn = Synapses(K,P)\n",
    "c = [1,1,1,1,1,1,1,1,1,1]; print(\"c:\",repr(c)) \n",
    "P=syn.P;    print(\"syn.P   \",repr(P))\n",
    "W=syn.W();  print(\"syn.W() \",repr(W))\n",
    "V=syn.V(c); print(\"syn.V(c)\",repr(V)) \n",
    "E=syn.E(c); print(\"syn.E(c)\",repr(E))\n",
    "L=syn.L(c); print(\"syn.L(c)\",repr(L))\n",
    "D=syn.D(c); print(\"syn.D(c)\",repr(D))\n",
    "s=syn.s(c); print(\"syn.s(c)\",repr(s))"
   ]
  },
  {
   "cell_type": "code",
   "execution_count": 3,
   "id": "20847ae5-0d44-4880-ae2d-bd74c59eae4f",
   "metadata": {},
   "outputs": [
    {
     "name": "stdout",
     "output_type": "stream",
     "text": [
      "c: [0, 1, 0, 1, 0, 0, 0, 0, 0, 0]\n",
      "syn.v(c) array([0, 1, 0, 1])\n"
     ]
    }
   ],
   "source": [
    "# synaptic field\n",
    "\n",
    "from carabao.cell import toy\n",
    "k,g,K,P,c = toy('cell')\n",
    "syn = Synapses(g)\n",
    "c = [0,1,0,1,0,0,0,0,0,0]; print(\"c:\",repr(c)) \n",
    "v=syn.v(c); print(\"syn.v(c)\",repr(v)) \n"
   ]
  },
  {
   "cell_type": "code",
   "execution_count": null,
   "id": "6a72332d-4396-4a41-9a2e-8bb88831dfe9",
   "metadata": {},
   "outputs": [],
   "source": []
  },
  {
   "cell_type": "code",
   "execution_count": null,
   "id": "0e301485-3eb1-4961-b6b0-8b0a7d4440b4",
   "metadata": {},
   "outputs": [],
   "source": []
  },
  {
   "cell_type": "code",
   "execution_count": null,
   "id": "c95c90c7-0374-44c1-bf40-9a6e29949191",
   "metadata": {},
   "outputs": [],
   "source": []
  }
 ],
 "metadata": {
  "kernelspec": {
   "display_name": "Python 3 (ipykernel)",
   "language": "python",
   "name": "python3"
  },
  "language_info": {
   "codemirror_mode": {
    "name": "ipython",
    "version": 3
   },
   "file_extension": ".py",
   "mimetype": "text/x-python",
   "name": "python",
   "nbconvert_exporter": "python",
   "pygments_lexer": "ipython3",
   "version": "3.8.9"
  }
 },
 "nbformat": 4,
 "nbformat_minor": 5
}
