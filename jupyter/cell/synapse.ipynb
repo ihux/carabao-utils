{
 "cells": [
  {
   "cell_type": "code",
   "execution_count": 12,
   "id": "caa16c14-bf58-4428-8f82-5250745ea4b2",
   "metadata": {},
   "outputs": [
    {
     "name": "stdout",
     "output_type": "stream",
     "text": [
      "repr M: [[1 1 1 1 1 1 1 1 1 1]] <class 'numpy.ndarray'> (1, 10)\n",
      "c: [1 1 1 1 1 1 1 1 1 1]\n",
      "K    #[1 3 5 7 9; 5 6 7 8 9]\n",
      "P    #[0.12 0.32 0.54 0.77 0; 0 0.61 0.45 0 0.8]\n",
      "syn.W(P)   #[0 0 1 1 0; 0 1 0 0 1]\n",
      "syn.V(c)   #[1 1 1 1 1; 1 1 1 1 1]\n",
      "syn.E(c,P) #[0 0 1 1 0; 0 1 0 0 1]\n",
      "syn.S(c,P) #[1 1 1 1 1; 1 1 1 1 1]\n",
      "syn.L(c,S) #[0.02 0.02 0.02 0.02 0.02; 0.02 0.02 0.02 0.02 0.02]\n",
      "syn.s(c,P) #[1 1]\n",
      "Q1 #[0.18 0.48 0.81 1 0; 0 0.915 0.675 0 1]\n",
      "Q2 #[0 0 0 0.07 0; 0 0 0 0 0.1]\n"
     ]
    }
   ],
   "source": [
    "# synaptic bank\n",
    "\n",
    "from carabao.util import repr\n",
    "from carabao.neuron import Synapses,toy\n",
    "\n",
    "k,g,K,P,c = toy('cell')\n",
    "syn = Synapses(K)\n",
    "c = [1,1,1,1,1,1,1,1,1,1]; print(\"c:\",repr(c)) \n",
    "\n",
    "print(\"K   \",repr(K))\n",
    "print(\"P   \",repr(P))\n",
    "W = syn.W(P);   print(\"syn.W(P)  \",repr(W))\n",
    "V = syn.V(c);   print(\"syn.V(c)  \",repr(V)) \n",
    "E = syn.E(c,P); print(\"syn.E(c,P)\",repr(E))\n",
    "S = syn.S(c,P); print(\"syn.S(c,P)\",repr(S))\n",
    "L = syn.L(c,S); print(\"syn.L(c,S)\",repr(L))\n",
    "s = syn.s(c,P); print(\"syn.s(c,P)\",repr(s))\n",
    "Q1 = syn.sat(1.5*P);  print(\"Q1\",repr(Q1))\n",
    "Q2 = syn.sat(P-0.7*Q1);  print(\"Q2\",repr(Q2))"
   ]
  },
  {
   "cell_type": "code",
   "execution_count": 2,
   "id": "20847ae5-0d44-4880-ae2d-bd74c59eae4f",
   "metadata": {},
   "outputs": [
    {
     "name": "stdout",
     "output_type": "stream",
     "text": [
      "c: [0, 1, 0, 1, 0, 0, 0, 0, 0, 0]\n",
      "syn.v(c) array([0, 1, 0, 1])\n"
     ]
    }
   ],
   "source": [
    "# synaptic field\n",
    "\n",
    "from carabao.cell import toy\n",
    "k,g,K,P,c = toy('cell')\n",
    "syn = Synapses(g)\n",
    "c = [0,1,0,1,0,0,0,0,0,0]; print(\"c:\",repr(c)) \n",
    "v=syn.v(c); print(\"syn.v(c)\",repr(v)) \n"
   ]
  },
  {
   "cell_type": "code",
   "execution_count": 4,
   "id": "6a72332d-4396-4a41-9a2e-8bb88831dfe9",
   "metadata": {},
   "outputs": [
    {
     "name": "stdout",
     "output_type": "stream",
     "text": [
      "Help on class Synapses in module carabao.neuron:\n",
      "\n",
      "class Synapses(builtins.object)\n",
      " |  Synapses(K)\n",
      " |  \n",
      " |  Synapses: class\n",
      " |      syn = Synapses(g)              # construct synaptic field\n",
      " |      syn = Synapses(K)              # construct synaptic bank\n",
      " |  \n",
      " |      syn.parameter(eta,theta,(plus,minus))  # setup synaptic parameters\n",
      " |      syn.parameter()                # eta=0.5, theta=2, plus=minus=0.02\n",
      " |  \n",
      " |      K = syn.K                      # synaptic index matrix\n",
      " |      eta = syn.eta                  # synaptic threshold\n",
      " |      theta = syn.theta              # spiking threshold\n",
      " |      plus,minus = syn.delta         # learning deltas\n",
      " |  \n",
      " |      v = syn.v(c)                   # group activation\n",
      " |      s = syn.s(c,P)                 # spike vector\n",
      " |  \n",
      " |      V = syn.V(c)                   # presynaptic signals\n",
      " |      W = syn.W(P)                   # synaptic weight matrix\n",
      " |      E = syn.E(c,P)                 # empowering matrix\n",
      " |      S = syn.S(c,P)                 # spike matrix (learning mask)\n",
      " |      L = syn.L(c,S)                 # learning matrix (deltas)\n",
      " |  \n",
      " |      P = syn.sat(P)                 # truncate P matrix to range [0,1]\n",
      " |  \n",
      " |  Methods defined here:\n",
      " |  \n",
      " |  E(self, c, P)\n",
      " |  \n",
      " |  L(self, c, S)\n",
      " |  \n",
      " |  S(self, c, P)\n",
      " |  \n",
      " |  V(self, c)\n",
      " |  \n",
      " |  W(self, P)\n",
      " |  \n",
      " |  __init__(self, K)\n",
      " |      Initialize self.  See help(type(self)) for accurate signature.\n",
      " |  \n",
      " |  parameter(self, eta=0.5, theta=2, delta=(0.02, 0.02))\n",
      " |  \n",
      " |  s(self, c, P)\n",
      " |  \n",
      " |  sat(self, X)\n",
      " |  \n",
      " |  v(self, c)\n",
      " |  \n",
      " |  ----------------------------------------------------------------------\n",
      " |  Data descriptors defined here:\n",
      " |  \n",
      " |  __dict__\n",
      " |      dictionary for instance variables (if defined)\n",
      " |  \n",
      " |  __weakref__\n",
      " |      list of weak references to the object (if defined)\n",
      "\n"
     ]
    }
   ],
   "source": [
    "help(Synapses)"
   ]
  },
  {
   "cell_type": "code",
   "execution_count": null,
   "id": "0e301485-3eb1-4961-b6b0-8b0a7d4440b4",
   "metadata": {},
   "outputs": [],
   "source": []
  },
  {
   "cell_type": "code",
   "execution_count": null,
   "id": "c95c90c7-0374-44c1-bf40-9a6e29949191",
   "metadata": {},
   "outputs": [],
   "source": []
  }
 ],
 "metadata": {
  "kernelspec": {
   "display_name": "Python 3 (ipykernel)",
   "language": "python",
   "name": "python3"
  },
  "language_info": {
   "codemirror_mode": {
    "name": "ipython",
    "version": 3
   },
   "file_extension": ".py",
   "mimetype": "text/x-python",
   "name": "python",
   "nbconvert_exporter": "python",
   "pygments_lexer": "ipython3",
   "version": "3.8.9"
  }
 },
 "nbformat": 4,
 "nbformat_minor": 5
}
