{
 "cells": [
  {
   "cell_type": "code",
   "execution_count": 162,
   "id": "5413d4c4-8377-4e63-917e-3b9551fe0a88",
   "metadata": {},
   "outputs": [],
   "source": [
    "# class Synapse (copyright Neuronycs 2023)\n",
    "\n",
    "from numpy import arange, array, ones, transpose\n",
    "\n",
    "#=============================================================================================\n",
    "# class Synapses\n",
    "#=============================================================================================\n",
    "\n",
    "class Synapses:\n",
    "    \"\"\"\n",
    "    Synapses: class\n",
    "        syn = Synapses(K,P,eta,theta,(plus,minus))   # full arg list\n",
    "        syn = Synapses(K,P)       # eta=0.5, plus=minus=0.02\n",
    "        syn = Synapses(g)         # P=one \n",
    "\n",
    "        P = syn.P                 # permanences\n",
    "\n",
    "        W = syn.W()               # synaptic weight matrix\n",
    "        V = syn.V(c)              # presynaptic signals\n",
    "        E = syn.E(c)              # empowering matrix\n",
    "        L = syn.L(c)              # learning mask\n",
    "        D = syn.D(c)              # learning deltas\n",
    "        s = syn.s(c)              # spike vector\n",
    "        o = syn.one               # [1,1,...,1] matrix (1 x ns)\n",
    "\n",
    "        syn.P = syn.sat(P)        # truncate P matrix to range [0,1]\n",
    "    \"\"\"\n",
    "    def __init__(self,K,P,eta=0.5,theta=2,delta=(0.02,0.02)):\n",
    "        K = array(K)              # alwasy store as numpy array\n",
    "        self.one = ones(K.shape)\n",
    "        self.K = K\n",
    "        self.P = P if P is not None else self.one\n",
    "        self.eta = eta            # synaptic threshold\n",
    "        self.theta = theta        # spiking threshold\n",
    "        self.delta = delta        # learning delta (plus,minus)\n",
    "    \n",
    "    def W(self):                  # binary weights\n",
    "        return (self.P >= self.eta)*1\n",
    "    \n",
    "    def V(self,c):                    # pre-synaptic signals\n",
    "        kmax = len(c)\n",
    "        V = 0*self.K\n",
    "        for mu in range(0,self.K.shape[0]):\n",
    "            for nu in range(0,self.K.shape[1]):\n",
    "                k = self.K[mu,nu]\n",
    "                V[mu,nu] = c[k] if k < kmax else 0;\n",
    "        return V\n",
    "\n",
    "    def E(self,c):\n",
    "        return self.V(c) * self.W()    # empowerment matrix\n",
    "\n",
    "    def L(self,c):\n",
    "        return transpose(array([self.s(c)])) @ array([self.one[0]])\n",
    "\n",
    "    def D(self,c):\n",
    "        L = self.L(c);  V = self.V(c);  \n",
    "        plus,minus = self.delta\n",
    "        return (2*plus * V - minus)*L\n",
    "        \n",
    "    def s(self,c):                     # spike vector\n",
    "        E = self.E(c)\n",
    "        _s = [(sum(E[mu]) >= self.theta)\n",
    "             for mu in range(0,E.shape[0])]\n",
    "        return 1*array(_s)\n",
    "\n",
    "    def sat(X):  # truncates every matrix element of X to range 0.0 ... 1.0\n",
    "        def lt1(X): return 1 + (X-1<=0)*(X-1)\n",
    "        def gt0(X): return (X>=0)*X\n",
    "        return lt1(gt0(X))\n",
    "\n"
   ]
  },
  {
   "cell_type": "code",
   "execution_count": 163,
   "id": "caa16c14-bf58-4428-8f82-5250745ea4b2",
   "metadata": {},
   "outputs": [
    {
     "name": "stdout",
     "output_type": "stream",
     "text": [
      "repr M: [[1 1 1 1 1 1 1 1 1 1]] <class 'numpy.ndarray'> (1, 10)\n",
      "c: [1 1 1 1 1 1 1 1 1 1]\n",
      "syn.P    #[0.2 0.4 0.6; 0.3 0.5 0.7]\n",
      "syn.W()  #[0 0 1; 0 1 1]\n",
      "syn.V(c) #[1 1 1; 1 1 1]\n",
      "syn.E(c) #[0 0 1; 0 1 1]\n",
      "syn.L(c) #[0 0 0; 1 1 1]\n",
      "syn.D(c) #[0 0 0; 0.02 0.02 0.02]\n",
      "syn.s(c) #[0 1]\n",
      "syn.one #[1 1 1; 1 1 1]\n"
     ]
    }
   ],
   "source": [
    "syn = Synapses(K,P)\n",
    "c = [1,1,1,1,1,1,1,1,1,1]; print(\"c:\",repr(c)) \n",
    "P=syn.P;    print(\"syn.P   \",repr(P))\n",
    "W=syn.W();  print(\"syn.W() \",repr(W))\n",
    "V=syn.V(c); print(\"syn.V(c)\",repr(V)) \n",
    "E=syn.E(c); print(\"syn.E(c)\",repr(E))\n",
    "L=syn.L(c); print(\"syn.L(c)\",repr(L))\n",
    "D=syn.D(c); print(\"syn.D(c)\",repr(D))\n",
    "s=syn.s(c); print(\"syn.s(c)\",repr(s))\n",
    "o=syn.one;  print(\"syn.one\",repr(o))"
   ]
  },
  {
   "cell_type": "code",
   "execution_count": null,
   "id": "20847ae5-0d44-4880-ae2d-bd74c59eae4f",
   "metadata": {},
   "outputs": [],
   "source": []
  },
  {
   "cell_type": "code",
   "execution_count": null,
   "id": "6a72332d-4396-4a41-9a2e-8bb88831dfe9",
   "metadata": {},
   "outputs": [],
   "source": []
  }
 ],
 "metadata": {
  "kernelspec": {
   "display_name": "Python 3 (ipykernel)",
   "language": "python",
   "name": "python3"
  },
  "language_info": {
   "codemirror_mode": {
    "name": "ipython",
    "version": 3
   },
   "file_extension": ".py",
   "mimetype": "text/x-python",
   "name": "python",
   "nbconvert_exporter": "python",
   "pygments_lexer": "ipython3",
   "version": "3.11.5"
  }
 },
 "nbformat": 4,
 "nbformat_minor": 5
}
