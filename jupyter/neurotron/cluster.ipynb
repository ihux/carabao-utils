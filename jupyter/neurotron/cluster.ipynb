{
 "cells": [
  {
   "cell_type": "code",
   "execution_count": 228,
   "id": "c1c65d7b-21f8-49c5-b71a-1abb1746d9e0",
   "metadata": {},
   "outputs": [],
   "source": [
    "#===============================================================================\n",
    "# class Map\n",
    "#===============================================================================\n",
    "\n",
    "class Map:\n",
    "    def __init__(self,cluster=None):\n",
    "        self.cluster = cluster\n",
    "\n",
    "    def permanence(self,p):    # encode permanence\n",
    "        \"\"\"\n",
    "        self.permanence(p): convert permanence to symbolic string\n",
    "        >>> o = Map()\n",
    "        >>> o.permanence(0.52)\n",
    "        'B'\n",
    "        >>> o.permanence([-1,0,0.01,0.49,0.5,0.99,1,2])\n",
    "        '<0yaAY1>'\n",
    "        \"\"\"\n",
    "        def upper(x):\n",
    "            return chr(int(65+(x-0.5)*100//2))\n",
    "        def lower(x):\n",
    "            return chr(int(65+32+(0.5-x)*100//2))\n",
    "\n",
    "        if isinstance(p,list):\n",
    "            s = ''\n",
    "            for k in range(len(p)):\n",
    "                s += self.permanence(p[k])\n",
    "            return s\n",
    "\n",
    "        if p < 0:\n",
    "            return '<'\n",
    "        elif p == 0:\n",
    "            return '0'\n",
    "        elif p == 1:\n",
    "            return '1'\n",
    "        elif p > 1:\n",
    "            return '>'\n",
    "        elif p < 0.5:\n",
    "            return lower(p)\n",
    "        elif p >= 0.5:\n",
    "            return upper(p)\n",
    "        else:\n",
    "            return '?'\n",
    "\n",
    "    def symbol(self,x):\n",
    "        \"\"\"\n",
    "        self.symbol(x): convert index to symbol or vice versa\n",
    "        >>> o = Map()\n",
    "        >>> o.symbol(1)\n",
    "        'B'\n",
    "        >>> o.symbol([0,1,25,26,27,51,52])\n",
    "        'ABZabz52'\n",
    "        \"\"\"\n",
    "        def symb(x):\n",
    "            if x < 26:\n",
    "                return chr(65+x)\n",
    "            elif x < 52:\n",
    "                return chr(71+x)\n",
    "            else:\n",
    "                return str(x)\n",
    "\n",
    "        if isinstance(x,int):\n",
    "            return symb(x)\n",
    "        elif isinstance(x,list):\n",
    "            s = ''\n",
    "            for k in range(len(x)):\n",
    "                s += self.symbol(x[k])\n",
    "            return s\n",
    "\n",
    "    def bar(self,n):                   # bar string of length n\n",
    "            str = ''\n",
    "            for k in range(n): str += '-'\n",
    "            return str\n"
   ]
  },
  {
   "cell_type": "code",
   "execution_count": 229,
   "id": "f0c22555-3d6e-449a-ad33-b4fde20bd30e",
   "metadata": {},
   "outputs": [
    {
     "name": "stdout",
     "output_type": "stream",
     "text": [
      "a\n"
     ]
    },
    {
     "data": {
      "text/plain": [
       "'-----'"
      ]
     },
     "execution_count": 229,
     "metadata": {},
     "output_type": "execute_result"
    }
   ],
   "source": [
    "o=Map()\n",
    "print(o.symbol(26))\n",
    "str(67)\n",
    "o.symbol([0,1,25,26,27,51,52])\n",
    "o.bar(5)"
   ]
  },
  {
   "cell_type": "code",
   "execution_count": 233,
   "id": "e5903542-07d5-403d-8235-ab98a3870aff",
   "metadata": {},
   "outputs": [],
   "source": [
    "\"\"\"\n",
    "class Cluster(): parameter definition for neurotron clusters\n",
    "clu = Cluster(m,n,d,s)\n",
    "\"\"\"\n",
    "\n",
    "from numpy import array\n",
    "\n",
    "#=========================================================================\n",
    "# class Cluster\n",
    "#=========================================================================\n",
    "\n",
    "class Cluster:\n",
    "    def __init__(self,m=4,n=10,d=2,s=5,f=10,g=3):\n",
    "        def _zeros(d,s):\n",
    "            return [[0 for j in range(s)] for i in range(d)]\n",
    "        def _tensor(m,n,d,s):\n",
    "            return [[_zeros(d,s) for j in range(n)] for i in range(m)]\n",
    "            \n",
    "        self.shape = (m,n,d,s)\n",
    "        self.P = _tensor(m,n,d,s)     # prediction permanences\n",
    "        self.K = _tensor(m,n,d,s)     # prediction indices\n",
    "        self.F = _tensor(m,n,1,f)     # excitation weights\n",
    "        self.G = _tensor(m,n,1,g)     # collaboration weights\n",
    "        \n",
    "        self.U = array(_zeros(m,n))\n",
    "        self.Q = array(_zeros(m,n))\n",
    "        self.D = array(_zeros(m,n))\n",
    "        self.B = array(_zeros(m,n))\n",
    "        self.X = array(_zeros(m,n))\n",
    "        self.Y = array(_zeros(m,n))\n",
    "        self.S = array(_zeros(m,n))\n",
    "        self.L = array(_zeros(m,n))\n",
    "\n",
    "    def kappa(self,i,j=None):\n",
    "        \"\"\"\n",
    "        self.kappa():  convert matrix indices to linear index or vice versa\n",
    "        >>> o = Cluster(m=4,n=10)\n",
    "        >>> k = o.kappa(i:=1,j:=3)  # k = i+j*m \n",
    "        13\n",
    "        >>> ij = o.kappa(k:=13)    # i = k%m, j = k//m\n",
    "        (1,3)\n",
    "        \"\"\"\n",
    "\n",
    "        m,n,d,s = self.shape\n",
    "        if j is None:\n",
    "            k = i\n",
    "            return (k%m,k//m)\n",
    "        else:\n",
    "            return i + j*m\n",
    "\n",
    "    \n",
    "    def Pmap(self):\n",
    "            \n",
    "        def head(n,c):\n",
    "            str = ''\n",
    "            for k in range(n): \n",
    "                if k == 1:\n",
    "                    str += '('\n",
    "                elif k == 2:\n",
    "                    str += c\n",
    "                elif k == 3:\n",
    "                    str += ')'\n",
    "                else:\n",
    "                    str += '-'\n",
    "            return str\n",
    "\n",
    "        def title(n,x):\n",
    "            return '-%03g-' % x\n",
    "            \n",
    "        def weights(i,j,d):\n",
    "            m,n,dd,s = self.shape\n",
    "            map = Map()\n",
    "            W = self.P[i][j][d]\n",
    "            str = ''\n",
    "            for k in range(s):\n",
    "               str += map.permanence(W[k])\n",
    "            return str\n",
    "\n",
    "        def headline(n,s):\n",
    "            map = Map()\n",
    "            line = '+'\n",
    "            for j in range(n):\n",
    "                #line += title(s,23) + '+'\n",
    "                line += map.bar(s) + '+'\n",
    "            return line\n",
    "                           \n",
    "        m,n,d,s = self.shape\n",
    "        head = headline(n,s)\n",
    "        str = ''\n",
    "        for i in range(m):\n",
    "            print(head)\n",
    "            for mu in range(d):\n",
    "                line = '|'\n",
    "                for j in range(n):\n",
    "                    line += weights(i,j,0) + '|'\n",
    "                print(line)\n",
    "        print(head)\n"
   ]
  },
  {
   "cell_type": "code",
   "execution_count": 234,
   "id": "090d79ea-fa89-40de-91bb-1b5f2c6a4b15",
   "metadata": {},
   "outputs": [
    {
     "data": {
      "text/plain": [
       "'<0yaAY1>'"
      ]
     },
     "execution_count": 234,
     "metadata": {},
     "output_type": "execute_result"
    }
   ],
   "source": [
    "clu = Cluster(4,9,2,5)\n",
    "o=Map(clu)\n",
    "o.permanence(0.5)\n",
    "o.permanence([-1,0,0.01,0.49,0.5,0.99,1,2])"
   ]
  },
  {
   "cell_type": "code",
   "execution_count": 235,
   "id": "7f63304e-bf6a-44e9-a52a-46f3a6b2e861",
   "metadata": {},
   "outputs": [
    {
     "name": "stdout",
     "output_type": "stream",
     "text": [
      "+-----+-----+-----+-----+-----+-----+-----+-----+-----+\n",
      "|00000|00000|00000|00000|00000|00000|00000|00000|00000|\n",
      "|00000|00000|00000|00000|00000|00000|00000|00000|00000|\n",
      "+-----+-----+-----+-----+-----+-----+-----+-----+-----+\n",
      "|00000|00000|00000|00000|00000|00000|00000|00000|00000|\n",
      "|00000|00000|00000|00000|00000|00000|00000|00000|00000|\n",
      "+-----+-----+-----+-----+-----+-----+-----+-----+-----+\n",
      "|00000|00000|00000|00000|00000|00000|00000|00000|00000|\n",
      "|00000|00000|00000|00000|00000|00000|00000|00000|00000|\n",
      "+-----+-----+-----+-----+-----+-----+-----+-----+-----+\n",
      "|00000|00000|00000|00000|00000|00000|00000|00000|00000|\n",
      "|00000|00000|00000|00000|00000|00000|00000|00000|00000|\n",
      "+-----+-----+-----+-----+-----+-----+-----+-----+-----+\n"
     ]
    }
   ],
   "source": [
    "clu.Pmap()"
   ]
  },
  {
   "cell_type": "code",
   "execution_count": null,
   "id": "8e084630-cc45-4111-b590-58a751a159d2",
   "metadata": {},
   "outputs": [],
   "source": []
  },
  {
   "cell_type": "code",
   "execution_count": null,
   "id": "0754b533-2e16-4b0a-9d79-f6f1527d7e5d",
   "metadata": {},
   "outputs": [],
   "source": []
  }
 ],
 "metadata": {
  "kernelspec": {
   "display_name": "Python 3 (ipykernel)",
   "language": "python",
   "name": "python3"
  },
  "language_info": {
   "codemirror_mode": {
    "name": "ipython",
    "version": 3
   },
   "file_extension": ".py",
   "mimetype": "text/x-python",
   "name": "python",
   "nbconvert_exporter": "python",
   "pygments_lexer": "ipython3",
   "version": "3.11.5"
  }
 },
 "nbformat": 4,
 "nbformat_minor": 5
}
