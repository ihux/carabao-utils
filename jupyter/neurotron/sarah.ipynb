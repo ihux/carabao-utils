{
 "cells": [
  {
   "cell_type": "code",
   "execution_count": 22,
   "id": "c1380b1d-6814-44b8-bb8c-47c3b5a2c41e",
   "metadata": {},
   "outputs": [],
   "source": [
    "# Sarah loves music\n",
    "\n",
    "from carabao.neurotron import Pulse,Terminal,Synapses,toy\n",
    "from carabao.util import repr\n",
    "from numpy import array\n",
    "\n",
    "#===================================================================================\n",
    "# class: Core\n",
    "#===================================================================================\n",
    "\n",
    "class Core:\n",
    "    \"\"\"\n",
    "    class Core: implements a Neurotron core functionality\n",
    "    >>> core = Core(k,excite,predict,depress,(10,3))\n",
    "    \"\"\"\n",
    "    def __init__(self,k, e,d,p, name=\"\"):\n",
    "        self.k = k\n",
    "        self.name = name\n",
    "\n",
    "        self.excite  = Terminal(e.w[k],e.theta,'excite')\n",
    "        self.depress = Terminal(d.w[k],d.theta,'depress')\n",
    "        self.predict = Terminal(p.W[k],p.theta,'predict')\n",
    "\n",
    "    def __call__(self,f,c,V,log=None):\n",
    "        e = self.excite.empower(f)\n",
    "        u = self.excite.spike(e)\n",
    "        if log is not None: \n",
    "            print(\"   \",log,self.name,\"e:\",repr(e), \"u:\",u)\n",
    "\n",
    "        v = self.depress.empower(c)\n",
    "        d = self.depress.spike(v) \n",
    "        if log is not None: \n",
    "            print(\"   \",log,self.name,\"v:\",repr(v), \"d:\",d)\n",
    "\n",
    "        E = self.predict.empower(V)\n",
    "        s = self.predict.spike(E)\n",
    "        if log is not None: \n",
    "            print(\"   \",log,self.name,\"E:\",repr(E), \"s:\",repr(s))\n",
    "\n",
    "    def __repr__(self):\n",
    "        return \"Core('%s',%g\"% (self.name,self.k) + \")\"\n",
    "        \n",
    "#===================================================================================\n",
    "# class: Neurotron\n",
    "#===================================================================================\n",
    "\n",
    "class Neurotron:\n",
    "    \"\"\"\n",
    "    class Neurotron: full functionality\n",
    "    >>> par = toy('sarah')\n",
    "    >>> cell0 = Neurotron(k:=0,par,(10,3),'cell0')\n",
    "    >>> print(cell0)\n",
    "    \"\"\"\n",
    "    def __init__(self,k,par,partition,name=None):\n",
    "        self.k = k\n",
    "        self.partition = partition\n",
    "        self.name = name\n",
    "        \n",
    "        self.u = Pulse(1,1)\n",
    "        self.p = 0\n",
    "        self.d = Pulse(2,3)\n",
    "        self.y = 0\n",
    "        \n",
    "        epar,dpar,ppar = par\n",
    "\n",
    "        self.excite  = Terminal(epar.w[k],epar.theta,'excite')\n",
    "        self.excite.synapses = Synapses(epar.k[k],epar.p[k],epar.eta)\n",
    "\n",
    "        self.depress = Terminal(dpar.w[k],dpar.theta,'depress')\n",
    "        self.depress.synapses = Synapses(dpar.g[k],dpar.p[k],dpar.eta)\n",
    "    \n",
    "        self.predict = Terminal(ppar.W[k],ppar.theta,'predict')\n",
    "        self.predict.synapses = Synapses(ppar.K[k],ppar.P[k],ppar.eta)\n",
    "\n",
    "    def __call__(self,x,log=None):\n",
    "        nf,nc = self.partition; k = self.k\n",
    "        f = x[:nf];  c = x[nf:nf+nc]\n",
    "        \n",
    "        if log is not None:\n",
    "           print(\"f:\",f,\", c:\",c)\n",
    "            \n",
    "        u = self.excite(f,\"=> excite-%g\" % k)[0]\n",
    "        self.u(u,' - u%g:' % k)\n",
    "        \n",
    "        d = self.depress(c,\"=> depress-%g\" % k)[0]\n",
    "        self.d(d,' - d%g:' % k)\n",
    "        \n",
    "        self.s = self.predict(c,\"=> predict-%g\" % k)\n",
    "        #b = self.s.max()\n",
    "\n",
    "    def __repr__(self):\n",
    "        #state = \"), <updy> = <%g%g%g%g>\" % (self.u,self.p,self.d,self.y)\n",
    "        return \"Neurotron('%s',%g\"% (self.name,self.k) + \"\"\n",
    " "
   ]
  },
  {
   "cell_type": "code",
   "execution_count": 23,
   "id": "4e3eff2b-747a-4b98-b3bb-6d713f93c09f",
   "metadata": {},
   "outputs": [
    {
     "name": "stdout",
     "output_type": "stream",
     "text": [
      "Terminal('excite',#[1 1 0 1 1 1 0 1 0 1],6) @ {#[0 1 2 3 4 5 6 7 8 9], #[1 1 0 1 1 1 0 1 0 1] @ 0.5}\n",
      "decode 'Sarah': [1 1 0 1 1 1 0 1 0 1] -> #[1 1 0 1 1 1 0 1 0 1] -> #[1 1 0 1 1 1 0 1 0 1] -> :[1]\n",
      "decode 'loves': [0 1 1 1 0 1 1 0 1 1] -> #[1 1 0 1 1 1 0 1 0 1] -> #[0 1 0 1 0 1 0 0 0 1] -> :[0]\n",
      "decode 'music': [1 1 1 0 0 1 0 1 1 1] -> #[1 1 0 1 1 1 0 1 0 1] -> #[1 1 0 0 0 1 0 1 0 1] -> :[0]\n",
      "empower 'Sarah': [1 1 0 1 1 1 0 1 0 1] -> #[1 1 0 1 1 1 0 1 0 1]\n",
      "         spike: #[1 1 0 1 1 1 0 1 0 1] -> :[1]\n",
      "empower 'loves': [0 1 1 1 0 1 1 0 1 1] -> #[0 1 0 1 0 1 0 0 0 1]\n",
      "         spike: #[0 1 0 1 0 1 0 0 0 1] -> :[0]\n"
     ]
    }
   ],
   "source": [
    "#=========================================================================\n",
    "# Sarah Loves music\n",
    "#=========================================================================\n",
    "\n",
    "f = [1,1,0,1,1,1,0,1,0,1];  c = [1,1,1]; x = f+c\n",
    "par,token = toy('sarah')\n",
    "cell = Neurotron(0,par,(len(f),len(c)),'cell0') \n",
    "\n",
    "print(cell.excite)\n",
    "\n",
    "E = cell.excite(token['Sarah'],\"decode 'Sarah':\")\n",
    "E = cell.excite(token['loves'],\"decode 'loves':\")\n",
    "E = cell.excite(token['music'],\"decode 'music':\")\n",
    "\n",
    "# or broken down to the intermediate steps:\n",
    "\n",
    "E = cell.excite.empower(token['Sarah'],\"empower 'Sarah':\")\n",
    "s = cell.excite.spike(E,'         spike:')\n",
    "\n",
    "E = cell.excite.empower(token['loves'],\"empower 'loves':\")\n",
    "s = cell.excite.spike(E,'         spike:')\n"
   ]
  },
  {
   "cell_type": "code",
   "execution_count": 24,
   "id": "494f4109-6afa-423d-b19b-bc817fac057e",
   "metadata": {},
   "outputs": [
    {
     "name": "stdout",
     "output_type": "stream",
     "text": [
      "\n",
      "Iteration 1: apply token['Sarah'] + c:[1,1,1]\n",
      "f: [1, 1, 0, 1, 1, 1, 0, 1, 0, 1] , c: [1, 1, 1]\n",
      "=> excite-0 [1 1 0 1 1 1 0 1 0 1] -> #[1 1 0 1 1 1 0 1 0 1] -> #[1 1 0 1 1 1 0 1 0 1] -> :[1]\n",
      " - u0:  1 -> ([1,0],0/4) -> 0\n",
      "=> depress-0 [1 1 1] -> #[1 1 1] -> #[1 1 1] -> :[1]\n",
      " - d0:  1 -> ([1,0,0],0/3) -> 0\n",
      "=> predict-0 [1 1 1] -> #[1 0 0; 1 0 0] -> #[1 0 0; 1 0 0] -> :[0 0]\n",
      "\n",
      "Iteration 2: apply token['Sarah'] + c:[1,1,1]\n",
      "f: [1, 1, 0, 1, 1, 1, 0, 1, 0, 1] , c: [1, 1, 1]\n",
      "=> excite-0 [1 1 0 1 1 1 0 1 0 1] -> #[1 1 0 1 1 1 0 1 0 1] -> #[1 1 0 1 1 1 0 1 0 1] -> :[1]\n",
      " - u0:  1 -> ([1,1],4/4) -> 1\n",
      "=> depress-0 [1 1 1] -> #[1 1 1] -> #[1 1 1] -> :[1]\n",
      " - d0:  1 -> ([1,1,0],0/3) -> 0\n",
      "=> predict-0 [1 1 1] -> #[1 0 0; 1 0 0] -> #[1 0 0; 1 0 0] -> :[0 0]\n"
     ]
    }
   ],
   "source": [
    "#=========================================================================\n",
    "# iterations on top level\n",
    "#=========================================================================\n",
    "\n",
    "print(\"\\nIteration 1: apply token['Sarah'] + c:[1,1,1]\")\n",
    "cell(token['Sarah']+[1,1,1],'apply')\n",
    "\n",
    "print(\"\\nIteration 2: apply token['Sarah'] + c:[1,1,1]\")\n",
    "cell(token['Sarah']+[1,1,1],'apply')"
   ]
  },
  {
   "cell_type": "code",
   "execution_count": 41,
   "id": "8d52d927-3577-4a51-a388-05d853304798",
   "metadata": {},
   "outputs": [
    {
     "name": "stdout",
     "output_type": "stream",
     "text": [
      "u0:  1 -> ([1,0,0],0/3) -> 0\n",
      "u1:  0 -> ([0,1,0],0/3) -> 0\n",
      "u2:  0 -> ([0,0,1],3/3) -> 1\n",
      "u3:  0 -> ([0,0,0],2/3) -> 1\n",
      "u4:  0 -> ([0,0,0],1/3) -> 1\n",
      "u5:  0 -> ([0,0,0],0/3) -> 0\n"
     ]
    }
   ],
   "source": [
    "u=Pulse(2,3)\n",
    "for i in range(6): u(int(i<1),'u%g:'%i)"
   ]
  },
  {
   "cell_type": "code",
   "execution_count": null,
   "id": "e26f5959-b14d-43a4-a6a0-e9214c612356",
   "metadata": {},
   "outputs": [],
   "source": []
  },
  {
   "cell_type": "code",
   "execution_count": null,
   "id": "a47f4e32-1f82-4526-a74f-9a00b659f221",
   "metadata": {},
   "outputs": [],
   "source": []
  }
 ],
 "metadata": {
  "kernelspec": {
   "display_name": "Python 3 (ipykernel)",
   "language": "python",
   "name": "python3"
  },
  "language_info": {
   "codemirror_mode": {
    "name": "ipython",
    "version": 3
   },
   "file_extension": ".py",
   "mimetype": "text/x-python",
   "name": "python",
   "nbconvert_exporter": "python",
   "pygments_lexer": "ipython3",
   "version": "3.11.5"
  }
 },
 "nbformat": 4,
 "nbformat_minor": 5
}
