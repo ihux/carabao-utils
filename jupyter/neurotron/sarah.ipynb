{
 "cells": [
  {
   "cell_type": "code",
   "execution_count": 1,
   "id": "bf5c6f62-cf32-45e9-b945-bb81a72c21aa",
   "metadata": {},
   "outputs": [],
   "source": [
    "# Sarah loves music\n",
    "###\n",
    "from carabao.neurotron import Pulse\n",
    "from carabao.util import repr\n",
    "from numpy import array\n",
    "from ypstruct import struct\n",
    "\n",
    "#===================================================================================\n",
    "# class: Terminal\n",
    "#===================================================================================\n",
    "\n",
    "class Terminal:\n",
    "    \"\"\"\n",
    "    class Terminal: to model a McCulloch-Pitts-type synapse terminal\n",
    "    >>> w = [1,1,0,1,1,1,0,1,0,1]   # binary weights  \n",
    "    >>> theta = 6                   # spiking threshold\n",
    "    >>> excite = Terminal(w,theta,None,'excite')\n",
    "    \"\"\"\n",
    "    \n",
    "    def __init__(self,W,theta,select=None,log=None):\n",
    "        def matrix(X):\n",
    "            X = array(X)\n",
    "            return X if len(X.shape) > 1 else array([X])\n",
    "\n",
    "        self.select = select        # select unit\n",
    "        self.W = matrix(W)\n",
    "        self.theta = theta          # spiking threshold\n",
    "        self.log = log              # log string\n",
    "        if log is not None:\n",
    "            print(self)\n",
    "\n",
    "    def empower(self,V):            # determine empowerment\n",
    "        return self.W * array(V)\n",
    "\n",
    "    def spike(self,E):              # spike function\n",
    "        S = array([sum(E[k]) for k in range(0,E.shape[0])])\n",
    "        return (S >= self.theta)*1\n",
    "        \n",
    "    def __repr__(self):\n",
    "        head = \"(\" if self.log is None else \"('%s',\" % self.log\n",
    "        par = head + repr(self.W) + \",\" + \"%g)\"%self.theta;\n",
    "        return \"Terminal\" + par\n",
    "\n",
    "#===================================================================================\n",
    "# class: Neurotron\n",
    "#===================================================================================\n",
    "\n",
    "class Core:\n",
    "    \"\"\"\n",
    "    class Core: implements a Neurotron core functionality\n",
    "    >>> core = Core(k,excite,predict,depress)\n",
    "    \"\"\"\n",
    "    def __init__(self,k,excite,depress,predict,log=None):\n",
    "        self.k = k\n",
    "        self.excite  = Terminal(excite.w[k],excite.theta,'excite')\n",
    "        self.depress = Terminal(depress.w[k],depress.theta,'depress')\n",
    "        self.predict = Terminal(predict.W[k],predict.theta,'predict')\n",
    "\n",
    "    def feed(self,f,c,V):\n",
    "        e = self.excite.empower(f)\n",
    "        u = self.excite.spike(e)\n",
    "        print(\"e:\",repr(e), \"u:\",u)\n",
    "\n",
    "        v = self.depress.empower(c)\n",
    "        d = self.depress.spike(v) \n",
    "        print(\"v:\",repr(v), \"d:\",d)\n",
    "\n",
    "        E = self.predict.empower(V)\n",
    "        s = self.predict.spike(E)\n",
    "        print(\"E:\",repr(E), \"s:\",repr(s))\n",
    "     \n",
    "#===================================================================================\n",
    "# helper: set up toy stuff\n",
    "#===================================================================================\n",
    "\n",
    "def toy(mode):\n",
    "    \"\"\"\n",
    "    toy(): setup toy stuff\n",
    "    >>> excite,predict,depress,token = toy('sarah')  # get parameters for 'sarah' app\n",
    "    \"\"\"\n",
    "    def bundle(obj,n):                           # create a bunch of object as a list\n",
    "        return [obj for k in range(0,n)]\n",
    "        \n",
    "    if mode == 'sarah':\n",
    "        token = {'Sarah':[1,1,0,1,1,1,0,1,0,1],\n",
    "                 'likes':[0,1,1,1,0,1,1,0,1,1],\n",
    "                 'music':[1,1,1,0,0,1,0,1,1,1]}\n",
    "\n",
    "        f1 = token['Sarah']\n",
    "        f2 = token['likes']\n",
    "        f3 = token['music']\n",
    "\n",
    "        e = struct();                            # excitation terminal parameters \n",
    "        e.w = [f1,f2,f3]                         # excitation weights  \n",
    "        e.theta = 6                              # spiking threshold\n",
    "        \n",
    "        p = struct()                             # prediction terminal parameters \n",
    "        p.W = bundle([[1,0,0],[0,1,1]],3)        # prediction weights           \n",
    "        p.theta = 2                              # prediction threshold\n",
    "        \n",
    "        d = struct()                             # depression terminal parameters \n",
    "        d.w = bundle([1,1,0],1)                  # depression weights           \n",
    "        d.theta = 1                              # depression threshold\n",
    "\n",
    "        return (e,d,p,token)\n"
   ]
  },
  {
   "cell_type": "code",
   "execution_count": 2,
   "id": "98c43f30-4ab5-481b-b19a-5be0c75a4237",
   "metadata": {},
   "outputs": [
    {
     "name": "stdout",
     "output_type": "stream",
     "text": [
      "Terminal('excite',#[1 1 0 1 1 1 0 1 0 1],2)\n",
      "Terminal('depress',#[1 1 0],1)\n",
      "Terminal('predict',#[1 0 0; 0 1 1],2)\n",
      "e: #[1 1 0 1 1 1 0 1 0 1] u: [1]\n",
      "v: #[1 1 0] d: [1]\n",
      "E: #[1 0 0; 0 1 1] S: :[0 1]\n"
     ]
    }
   ],
   "source": [
    "# working with terminals\n",
    "\n",
    "epar,dpar,ppar,token = toy('sarah')\n",
    "excite  = Terminal(epar.w[0],ppar.theta,None,'excite')\n",
    "depress = Terminal(dpar.w[0],dpar.theta,None,'depress')\n",
    "predict = Terminal(ppar.W[0],ppar.theta,None,'predict')\n",
    "\n",
    "f=[1,1,0,1,1,1,0,1,0,1]\n",
    "c=[1,1,1];  V = [c,c]\n",
    "\n",
    "e = excite.empower(f)\n",
    "u = excite.spike(e)\n",
    "print(\"e:\",repr(e), \"u:\",u)\n",
    "\n",
    "v = depress.empower(c)\n",
    "d = depress.spike(v) \n",
    "print(\"v:\",repr(v), \"d:\",d)\n",
    "\n",
    "E = predict.empower(V)\n",
    "S = predict.spike(E)\n",
    "print(\"E:\",repr(E), \"S:\",repr(S))\n",
    "\n",
    "\n"
   ]
  },
  {
   "cell_type": "code",
   "execution_count": 3,
   "id": "8f004d04-8287-4ce9-8adc-26f1ee7e073d",
   "metadata": {},
   "outputs": [
    {
     "name": "stdout",
     "output_type": "stream",
     "text": [
      "e: #[1 1 0 1 1 1 0 1 0 1] u: [1]\n",
      "E: #[1 0 0; 0 1 1] s: :[0 1]\n",
      "v: #[1 1 0] d: [1 1]\n"
     ]
    }
   ],
   "source": [
    "# working with a Neurotron core\n",
    "\n",
    "epar,dpar,ppar,token = toy('sarah')\n",
    "excite  = Terminal(epar.w[0],ppar.theta,'excite')\n",
    "depress = Terminal(dpar.w[0],dpar.theta,'depress')\n",
    "predict = Terminal(ppar.W[0],ppar.theta,'predict')\n",
    "\n",
    "core = Core(0,epar,dpar,ppar,'core0')\n",
    "\n",
    "f=[1,1,0,1,1,1,0,1,0,1]\n",
    "c=[1,1,1];  V = [c,c]\n",
    "\n",
    "e = core.excite.empower(f)\n",
    "u = core.excite.spike(e)\n",
    "print(\"e:\",repr(e), \"u:\",u)\n",
    "\n",
    "E = core.predict.empower(V)\n",
    "s = core.predict.spike(E)\n",
    "print(\"E:\",repr(E), \"s:\",repr(s))\n",
    "\n",
    "v = core.depress.empower(c)\n",
    "d = core.depress.spike(E) \n",
    "print(\"v:\",repr(v), \"d:\",d)\n"
   ]
  },
  {
   "cell_type": "code",
   "execution_count": 4,
   "id": "f96a99c4-b699-406c-b82e-607e1f2c2dc1",
   "metadata": {},
   "outputs": [
    {
     "name": "stdout",
     "output_type": "stream",
     "text": [
      "e: #[1 1 0 1 1 1 0 1 0 1] u: [1]\n",
      "v: #[1 1 0] d: [1]\n",
      "E: #[1 0 0; 0 1 1] s: :[0 1]\n"
     ]
    }
   ],
   "source": [
    "# feeding the Neurotron core\n",
    "\n",
    "excite,predict,depress,token = toy('sarah')\n",
    "core = Core(0,excite,predict,depress) \n",
    "\n",
    "f=[1,1,0,1,1,1,0,1,0,1]\n",
    "c=[1,1,1]; V = [c,c]\n",
    "\n",
    "core.feed(f,c,V)"
   ]
  },
  {
   "cell_type": "code",
   "execution_count": 5,
   "id": "bf881448-806e-4983-9f75-379bbd8cc13f",
   "metadata": {},
   "outputs": [
    {
     "data": {
      "text/plain": [
       "('#[1 1 0 0 0 1 0 1 0 1]', ':[0]')"
      ]
     },
     "execution_count": 5,
     "metadata": {},
     "output_type": "execute_result"
    }
   ],
   "source": [
    "e = core.excite.empower(token['music'])\n",
    "u = core.excite.spike(e)\n",
    "(repr(e),repr(u))"
   ]
  },
  {
   "cell_type": "code",
   "execution_count": 6,
   "id": "d67f0c57-0d79-494b-9f73-393ed42f43bc",
   "metadata": {},
   "outputs": [
    {
     "name": "stdout",
     "output_type": "stream",
     "text": [
      "Terminal('excite',#[1 1 0 1 1 1 0 1 0 1],6)\n"
     ]
    }
   ],
   "source": [
    "par = toy('sarah')\n",
    "excite  = Terminal(par[0].w[0],par[0].theta,'excite',log='excite')\n"
   ]
  },
  {
   "cell_type": "code",
   "execution_count": null,
   "id": "d6d37051-7c3c-4ca4-bd3e-048a7957a316",
   "metadata": {},
   "outputs": [],
   "source": []
  },
  {
   "cell_type": "code",
   "execution_count": null,
   "id": "62f65f97-7f1f-4ed5-9f87-b1d9afb6218c",
   "metadata": {},
   "outputs": [],
   "source": []
  },
  {
   "cell_type": "code",
   "execution_count": null,
   "id": "2e02042f-9d2d-4df8-bf9b-b668b17d4cd5",
   "metadata": {},
   "outputs": [],
   "source": []
  },
  {
   "cell_type": "code",
   "execution_count": null,
   "id": "c611c2de-3e5f-400d-ab88-877f0ab6a835",
   "metadata": {},
   "outputs": [],
   "source": []
  }
 ],
 "metadata": {
  "kernelspec": {
   "display_name": "Python 3 (ipykernel)",
   "language": "python",
   "name": "python3"
  },
  "language_info": {
   "codemirror_mode": {
    "name": "ipython",
    "version": 3
   },
   "file_extension": ".py",
   "mimetype": "text/x-python",
   "name": "python",
   "nbconvert_exporter": "python",
   "pygments_lexer": "ipython3",
   "version": "3.11.5"
  }
 },
 "nbformat": 4,
 "nbformat_minor": 5
}
