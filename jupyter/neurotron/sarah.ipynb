{
 "cells": [
  {
   "cell_type": "code",
   "execution_count": 2,
   "id": "bf5c6f62-cf32-45e9-b945-bb81a72c21aa",
   "metadata": {},
   "outputs": [],
   "source": [
    "# Sarah loves music\n",
    "\n",
    "from carabao.neurotron import Pulse\n",
    "from carabao.util import repr\n",
    "from numpy import array\n",
    "from ypstruct import struct\n",
    "\n",
    "#===================================================================================\n",
    "# class: Terminal\n",
    "#===================================================================================\n",
    "\n",
    "class Terminal:\n",
    "    \"\"\"\n",
    "    class Terminal: to model a McCulloch-Pitts-type synapse terminal\n",
    "    >>> w = [1,1,0,1,1,1,0,1,0,1]   # binary weights  \n",
    "    >>> theta = 6                   # spiking threshold\n",
    "    >>> excite = Terminal(w,theta,'excitation terminal')\n",
    "    \"\"\"\n",
    "    \n",
    "    def __init__(self,W,theta,log=None):\n",
    "        def matrix(X):\n",
    "            X = array(X)\n",
    "            return X if len(X.shape) > 1 else array([X])\n",
    "\n",
    "        self.W = matrix(W)\n",
    "        self.theta = theta          # spiking threshold\n",
    "        self.log = log              # log string\n",
    "        if log is not None:\n",
    "            print(self)\n",
    "\n",
    "    def E(self,V):                  # empowerment vector function\n",
    "        return self.W * array(V)\n",
    "\n",
    "    def S(self,E):\n",
    "        S = array([sum(E[k]) for k in range(0,E.shape[0])])\n",
    "        return (S >= self.theta)*1\n",
    "        \n",
    "    def __repr__(self):\n",
    "        head = \"(\" if self.log is None else \"('%s',\" % self.log\n",
    "        par = head + repr(self.W) + \",\" + \"%g)\"%self.theta;\n",
    "        return \"Terminal\" + par\n",
    "\n",
    "#===================================================================================\n",
    "# class: Neurotron\n",
    "#===================================================================================\n",
    "\n",
    "class Neurotron:\n",
    "    \"\"\"\n",
    "    class Neurotron: to implement the functionality of a Neurotron\n",
    "    >>> cell = Neurotron(k,(weights,parameters))\n",
    "    \"\"\"\n",
    "\n",
    "#===================================================================================\n",
    "# helper: set up toy stuff\n",
    "#===================================================================================\n",
    "\n",
    "def toy(mode):\n",
    "    \"\"\"\n",
    "    toy(): setup toy stuff\n",
    "    >>> excite,predict = toy('sarah')  # get terminal parameters for 'sarah' app\n",
    "    \"\"\"\n",
    "    if mode == 'sarah':\n",
    "        kdx = range(0,3)\n",
    "\n",
    "        e = struct();                  # excitation terminal parameters \n",
    "        e.w = [[1,1,0,1,1,1,0,1,0,1] \n",
    "               for k in kdx]    # excitation weights  \n",
    "        e.theta = 6                    # spiking threshold\n",
    "        \n",
    "        p = struct()                   # prediction terminal parameters \n",
    "        p.W = [[[1,0,0],[0,1,1]] \n",
    "               for k in kdx];          # prediction weights           \n",
    "        p.theta = 2                    # prediction threshold\n",
    "        \n",
    "        return (e,p)\n"
   ]
  },
  {
   "cell_type": "code",
   "execution_count": 3,
   "id": "98c43f30-4ab5-481b-b19a-5be0c75a4237",
   "metadata": {},
   "outputs": [
    {
     "name": "stdout",
     "output_type": "stream",
     "text": [
      "Terminal('excite',#[1 1 0 1 1 1 0 1 0 1],2)\n",
      "Terminal('predict',#[1 0 0; 0 1 1],2)\n",
      "('#[1 1 0 1 1 1 0 1 0 1]', ':[1]')\n",
      "('#[1 0 0; 0 1 1]', ':[0 1]')\n"
     ]
    }
   ],
   "source": [
    "\n",
    "epar,ppar = toy('sarah')\n",
    "excite = Terminal(epar.w[0],ppar.theta,'excite')\n",
    "predict = Terminal(ppar.W[0],ppar.theta,'predict')\n",
    "\n",
    "f=[1,1,0,1,1,1,0,1,0,1]\n",
    "e = excite.E(f)\n",
    "s = predict.S(e)\n",
    "print((repr(e),repr(s)))\n",
    "\n",
    "c=[1,1,1]\n",
    "E = predict.E(c)\n",
    "S = predict.S(E)\n",
    "print((repr(E),repr(S)))"
   ]
  },
  {
   "cell_type": "code",
   "execution_count": null,
   "id": "8f004d04-8287-4ce9-8adc-26f1ee7e073d",
   "metadata": {},
   "outputs": [],
   "source": []
  },
  {
   "cell_type": "code",
   "execution_count": null,
   "id": "f96a99c4-b699-406c-b82e-607e1f2c2dc1",
   "metadata": {},
   "outputs": [],
   "source": []
  },
  {
   "cell_type": "code",
   "execution_count": null,
   "id": "bf881448-806e-4983-9f75-379bbd8cc13f",
   "metadata": {},
   "outputs": [],
   "source": []
  },
  {
   "cell_type": "code",
   "execution_count": null,
   "id": "d67f0c57-0d79-494b-9f73-393ed42f43bc",
   "metadata": {},
   "outputs": [],
   "source": []
  }
 ],
 "metadata": {
  "kernelspec": {
   "display_name": "Python 3 (ipykernel)",
   "language": "python",
   "name": "python3"
  },
  "language_info": {
   "codemirror_mode": {
    "name": "ipython",
    "version": 3
   },
   "file_extension": ".py",
   "mimetype": "text/x-python",
   "name": "python",
   "nbconvert_exporter": "python",
   "pygments_lexer": "ipython3",
   "version": "3.11.5"
  }
 },
 "nbformat": 4,
 "nbformat_minor": 5
}
