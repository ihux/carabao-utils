{
 "cells": [
  {
   "cell_type": "code",
   "execution_count": 1,
   "id": "bf5c6f62-cf32-45e9-b945-bb81a72c21aa",
   "metadata": {},
   "outputs": [],
   "source": [
    "# Sarah loves music\n",
    "\n",
    "from carabao.neurotron import Pulse,Terminal,Synapses,toy\n",
    "from carabao.util import repr\n",
    "from numpy import array\n",
    "\n",
    "#===================================================================================\n",
    "# class: Core\n",
    "#===================================================================================\n",
    "\n",
    "class Core:\n",
    "    \"\"\"\n",
    "    class Core: implements a Neurotron core functionality\n",
    "    >>> core = Core(k,excite,predict,depress,(10,3))\n",
    "    \"\"\"\n",
    "    def __init__(self,k, e,d,p, name=\"\"):\n",
    "        self.k = k\n",
    "        self.name = name\n",
    "\n",
    "        self.excite  = Terminal(e.w[k],e.theta,'excite')\n",
    "        self.depress = Terminal(d.w[k],d.theta,'depress')\n",
    "        self.predict = Terminal(p.W[k],p.theta,'predict')\n",
    "\n",
    "    def feed(self,f,c,V,log=None):\n",
    "        e = self.excite.empower(f)\n",
    "        u = self.excite.spike(e)\n",
    "        if log is not None: \n",
    "            print(log,self.name,\"e:\",repr(e), \"u:\",u)\n",
    "\n",
    "        v = self.depress.empower(c)\n",
    "        d = self.depress.spike(v) \n",
    "        if log is not None: \n",
    "            print(log,self.name,\"v:\",repr(v), \"d:\",d)\n",
    "\n",
    "        E = self.predict.empower(V)\n",
    "        s = self.predict.spike(E)\n",
    "        if log is not None: \n",
    "            print(log,self.name,\"E:\",repr(E), \"s:\",repr(s))\n",
    "\n",
    "    def __repr__(self):\n",
    "        return \"Core('%s',%g\"% (self.name,self.k) + \")\"\n",
    "        \n",
    "#===================================================================================\n",
    "# class: Neurotron\n",
    "#===================================================================================\n",
    "\n",
    "class Neurotron:\n",
    "    \"\"\"\n",
    "    class Neurotron: full functionality\n",
    "    >>> par = toy('sarah')\n",
    "    >>> cell0 = Neurotron(k:=0,par,(10,3),'cell0')\n",
    "    >>> print(cell0)\n",
    "    \"\"\"\n",
    "    def __init__(self,k,par,partition=None,name=None):\n",
    "        self.k = k\n",
    "        self.partition = partition\n",
    "        self.name = name\n",
    "        \n",
    "        excite,depress,predict = par\n",
    "        \n",
    "        syn = Synapses(excite.k[k],excite.p[k],excite.eta,'syn-e')\n",
    "        self.excite  = Terminal(excite.w[k],excite.theta,syn,'excite')\n",
    "\n",
    "        syn = Synapses(depress.g[k],depress.p[k],depress.eta,'syn-d')\n",
    "        self.depress = Terminal(depress.w[k],depress.theta,syn,'depress')\n",
    "    \n",
    "        syn = Synapses(predict.K[k],predict.P[k],predict.eta,'syn-p')\n",
    "        self.predict = Terminal(predict.W[k],predict.theta,syn,'predict')\n",
    "\n",
    "    def feed(self,f,c,x):\n",
    "        e = self.excite.empower(f)\n",
    "        u = self.excite.spike(e)\n",
    "        print(\"e:\",repr(e), \"u:\",u)\n",
    "\n",
    "        v = self.depress.empower(c)\n",
    "        d = self.depress.spike(v) \n",
    "        print(\"v:\",repr(v), \"d:\",d)\n",
    "\n",
    "        #E = self.predict.empower(V)\n",
    "        #s = self.predict.spike(E)\n",
    "        E,s = self.predict.feed(x)\n",
    "        print(\"E:\",repr(E), \"s:\",repr(s))\n",
    "     \n",
    "    def __repr__(self):\n",
    "        return \"Neurotron('%s',%g\"% (self.name,self.k) + \")\""
   ]
  },
  {
   "cell_type": "code",
   "execution_count": 22,
   "id": "98c43f30-4ab5-481b-b19a-5be0c75a4237",
   "metadata": {},
   "outputs": [
    {
     "name": "stdout",
     "output_type": "stream",
     "text": [
      "e: #[1 1 0 1 1 1 0 1 0 1] u: [1]\n",
      "v: #[1 1 0] d: [1]\n",
      "E: #[1 0 0; 0 1 1] S: :[0 1]\n"
     ]
    }
   ],
   "source": [
    "# working with terminals\n",
    "\n",
    "par,token = toy('sarah');  epar,dpar,ppar = par\n",
    "excite  = Terminal(epar.w[0],ppar.theta,None,'excite')\n",
    "depress = Terminal(dpar.w[0],dpar.theta,None,'depress')\n",
    "predict = Terminal(ppar.W[0],ppar.theta,None,'predict')\n",
    "\n",
    "f=[1,1,0,1,1,1,0,1,0,1]\n",
    "c=[1,1,1];  V = [c,c]\n",
    "\n",
    "e = excite.empower(f)\n",
    "u = excite.spike(e)\n",
    "print(\"e:\",repr(e), \"u:\",u)\n",
    "\n",
    "v = depress.empower(c)\n",
    "d = depress.spike(v) \n",
    "print(\"v:\",repr(v), \"d:\",d)\n",
    "\n",
    "E = predict.empower(V)\n",
    "S = predict.spike(E)\n",
    "print(\"E:\",repr(E), \"S:\",repr(S))\n",
    "\n",
    "\n"
   ]
  },
  {
   "cell_type": "code",
   "execution_count": 23,
   "id": "8f004d04-8287-4ce9-8adc-26f1ee7e073d",
   "metadata": {},
   "outputs": [
    {
     "name": "stdout",
     "output_type": "stream",
     "text": [
      "e: #[1 1 0 1 1 1 0 1 0 1] u: [1]\n",
      "E: #[1 0 0; 0 1 1] s: :[0 1]\n",
      "v: #[1 1 0] d: [1 1]\n"
     ]
    }
   ],
   "source": [
    "# working with a Neurotron core\n",
    "\n",
    "par,token = toy('sarah');  epar,dpar,ppar = par\n",
    "excite  = Terminal(epar.w[0],ppar.theta,'excite')\n",
    "depress = Terminal(dpar.w[0],dpar.theta,'depress')\n",
    "predict = Terminal(ppar.W[0],ppar.theta,'predict')\n",
    "\n",
    "core = Core(0,epar,dpar,ppar,'core0')\n",
    "\n",
    "f=[1,1,0,1,1,1,0,1,0,1]\n",
    "c=[1,1,1];  V = [c,c]\n",
    "\n",
    "e = core.excite.empower(f)\n",
    "u = core.excite.spike(e)\n",
    "print(\"e:\",repr(e), \"u:\",u)\n",
    "\n",
    "E = core.predict.empower(V)\n",
    "s = core.predict.spike(E)\n",
    "print(\"E:\",repr(E), \"s:\",repr(s))\n",
    "\n",
    "v = core.depress.empower(c)\n",
    "d = core.depress.spike(E) \n",
    "print(\"v:\",repr(v), \"d:\",d)\n"
   ]
  },
  {
   "cell_type": "code",
   "execution_count": 24,
   "id": "af1c988a-b335-43a4-8a43-d7338188e372",
   "metadata": {},
   "outputs": [
    {
     "data": {
      "text/plain": [
       "[[1, 1, 1], [1, 1, 1], [1, 1, 1]]"
      ]
     },
     "execution_count": 24,
     "metadata": {},
     "output_type": "execute_result"
    }
   ],
   "source": [
    "dpar.p\n"
   ]
  },
  {
   "cell_type": "code",
   "execution_count": 14,
   "id": "f96a99c4-b699-406c-b82e-607e1f2c2dc1",
   "metadata": {},
   "outputs": [
    {
     "ename": "ValueError",
     "evalue": "not enough values to unpack (expected 4, got 2)",
     "output_type": "error",
     "traceback": [
      "\u001b[0;31m---------------------------------------------------------------------------\u001b[0m",
      "\u001b[0;31mValueError\u001b[0m                                Traceback (most recent call last)",
      "Cell \u001b[0;32mIn[14], line 3\u001b[0m\n\u001b[1;32m      1\u001b[0m \u001b[38;5;66;03m# feeding the Neurotron core\u001b[39;00m\n\u001b[0;32m----> 3\u001b[0m epar,ppar,dpar,token \u001b[38;5;241m=\u001b[39m toy(\u001b[38;5;124m'\u001b[39m\u001b[38;5;124msarah\u001b[39m\u001b[38;5;124m'\u001b[39m)\n\u001b[1;32m      4\u001b[0m core \u001b[38;5;241m=\u001b[39m Core(\u001b[38;5;241m0\u001b[39m,epar,ppar,dpar) \n\u001b[1;32m      6\u001b[0m f\u001b[38;5;241m=\u001b[39m[\u001b[38;5;241m1\u001b[39m,\u001b[38;5;241m1\u001b[39m,\u001b[38;5;241m0\u001b[39m,\u001b[38;5;241m1\u001b[39m,\u001b[38;5;241m1\u001b[39m,\u001b[38;5;241m1\u001b[39m,\u001b[38;5;241m0\u001b[39m,\u001b[38;5;241m1\u001b[39m,\u001b[38;5;241m0\u001b[39m,\u001b[38;5;241m1\u001b[39m];  c\u001b[38;5;241m=\u001b[39m[\u001b[38;5;241m1\u001b[39m,\u001b[38;5;241m1\u001b[39m,\u001b[38;5;241m1\u001b[39m]; \n",
      "\u001b[0;31mValueError\u001b[0m: not enough values to unpack (expected 4, got 2)"
     ]
    }
   ],
   "source": [
    "# feeding the Neurotron core\n",
    "\n",
    "par,token = toy('sarah');\n",
    "core = Core(0,epar,ppar,dpar) \n",
    "\n",
    "f=[1,1,0,1,1,1,0,1,0,1];  c=[1,1,1]; \n",
    "#core.feed(f,c,f+c)"
   ]
  },
  {
   "cell_type": "code",
   "execution_count": 15,
   "id": "bf881448-806e-4983-9f75-379bbd8cc13f",
   "metadata": {},
   "outputs": [
    {
     "data": {
      "text/plain": [
       "('#[0 1 0 1 0 1 0 0 0 1]', ':[0]')"
      ]
     },
     "execution_count": 15,
     "metadata": {},
     "output_type": "execute_result"
    }
   ],
   "source": [
    "e = core.excite.empower(token['loves'])\n",
    "u = core.excite.spike(e)\n",
    "(repr(e),repr(u))"
   ]
  },
  {
   "cell_type": "code",
   "execution_count": null,
   "id": "d6d37051-7c3c-4ca4-bd3e-048a7957a316",
   "metadata": {},
   "outputs": [],
   "source": []
  },
  {
   "cell_type": "code",
   "execution_count": 16,
   "id": "62f65f97-7f1f-4ed5-9f87-b1d9afb6218c",
   "metadata": {},
   "outputs": [
    {
     "name": "stdout",
     "output_type": "stream",
     "text": [
      "Synapses: [0 0 0 0 0 0 0 0 0 0 1 1 0]  ->  #[1 0 0; 1 0 0]\n"
     ]
    }
   ],
   "source": [
    "K = [[10,11,12],[10,11,12]];  P = [[.5,.4,.1],[.6,.2,.3]];  eta = 0.5\n",
    "syn = Synapses(K,P,eta,log='Synapses:')\n",
    "V = syn.feed(x:=[0,0,0,0,0,0,0,0,0,0,1,1,0])"
   ]
  },
  {
   "cell_type": "code",
   "execution_count": 17,
   "id": "c611c2de-3e5f-400d-ab88-877f0ab6a835",
   "metadata": {},
   "outputs": [
    {
     "ename": "ValueError",
     "evalue": "not enough values to unpack (expected 4, got 2)",
     "output_type": "error",
     "traceback": [
      "\u001b[0;31m---------------------------------------------------------------------------\u001b[0m",
      "\u001b[0;31mValueError\u001b[0m                                Traceback (most recent call last)",
      "Cell \u001b[0;32mIn[17], line 4\u001b[0m\n\u001b[1;32m      1\u001b[0m \u001b[38;5;66;03m# Neurotron core with Synapses\u001b[39;00m\n\u001b[1;32m      3\u001b[0m f \u001b[38;5;241m=\u001b[39m [\u001b[38;5;241m1\u001b[39m,\u001b[38;5;241m1\u001b[39m,\u001b[38;5;241m0\u001b[39m,\u001b[38;5;241m1\u001b[39m,\u001b[38;5;241m1\u001b[39m,\u001b[38;5;241m1\u001b[39m,\u001b[38;5;241m0\u001b[39m,\u001b[38;5;241m1\u001b[39m,\u001b[38;5;241m0\u001b[39m,\u001b[38;5;241m1\u001b[39m];  c \u001b[38;5;241m=\u001b[39m [\u001b[38;5;241m1\u001b[39m,\u001b[38;5;241m1\u001b[39m,\u001b[38;5;241m1\u001b[39m]; x \u001b[38;5;241m=\u001b[39m f\u001b[38;5;241m+\u001b[39mc\n\u001b[0;32m----> 4\u001b[0m epar,dpar,ppar,token \u001b[38;5;241m=\u001b[39m toy(\u001b[38;5;124m'\u001b[39m\u001b[38;5;124msarah\u001b[39m\u001b[38;5;124m'\u001b[39m)\n\u001b[1;32m      5\u001b[0m \u001b[38;5;66;03m#core = Core(0,epar,dpar,ppar,[len(f),len(c)],'core0') \u001b[39;00m\n\u001b[1;32m      6\u001b[0m core \u001b[38;5;241m=\u001b[39m Core(\u001b[38;5;241m0\u001b[39m,epar,dpar,ppar,\u001b[38;5;124m'\u001b[39m\u001b[38;5;124mcore0\u001b[39m\u001b[38;5;124m'\u001b[39m) \n",
      "\u001b[0;31mValueError\u001b[0m: not enough values to unpack (expected 4, got 2)"
     ]
    }
   ],
   "source": [
    "# Neurotron core with Synapses\n",
    "\n",
    "f = [1,1,0,1,1,1,0,1,0,1];  c = [1,1,1]; x = f+c\n",
    "epar,dpar,ppar,token = toy('sarah')\n",
    "#core = Core(0,epar,dpar,ppar,[len(f),len(c)],'core0') \n",
    "core = Core(0,epar,dpar,ppar,'core0') \n",
    "print(core)\n",
    "#core.feed(x[:10],x[10:13],x)"
   ]
  },
  {
   "cell_type": "code",
   "execution_count": 18,
   "id": "0c0e03f0-0f64-47f2-b0d5-41a9efaf742e",
   "metadata": {},
   "outputs": [
    {
     "ename": "ValueError",
     "evalue": "not enough values to unpack (expected 4, got 2)",
     "output_type": "error",
     "traceback": [
      "\u001b[0;31m---------------------------------------------------------------------------\u001b[0m",
      "\u001b[0;31mValueError\u001b[0m                                Traceback (most recent call last)",
      "Cell \u001b[0;32mIn[18], line 4\u001b[0m\n\u001b[1;32m      1\u001b[0m \u001b[38;5;66;03m# Neurotron example\u001b[39;00m\n\u001b[1;32m      3\u001b[0m f \u001b[38;5;241m=\u001b[39m [\u001b[38;5;241m1\u001b[39m,\u001b[38;5;241m1\u001b[39m,\u001b[38;5;241m0\u001b[39m,\u001b[38;5;241m1\u001b[39m,\u001b[38;5;241m1\u001b[39m,\u001b[38;5;241m1\u001b[39m,\u001b[38;5;241m0\u001b[39m,\u001b[38;5;241m1\u001b[39m,\u001b[38;5;241m0\u001b[39m,\u001b[38;5;241m1\u001b[39m];  c \u001b[38;5;241m=\u001b[39m [\u001b[38;5;241m1\u001b[39m,\u001b[38;5;241m1\u001b[39m,\u001b[38;5;241m1\u001b[39m]; x \u001b[38;5;241m=\u001b[39m f\u001b[38;5;241m+\u001b[39mc\n\u001b[0;32m----> 4\u001b[0m e,d,p,token \u001b[38;5;241m=\u001b[39m toy(\u001b[38;5;124m'\u001b[39m\u001b[38;5;124msarah\u001b[39m\u001b[38;5;124m'\u001b[39m)\n\u001b[1;32m      5\u001b[0m cell \u001b[38;5;241m=\u001b[39m Neurotron(\u001b[38;5;241m0\u001b[39m,(e,d,p),(\u001b[38;5;28mlen\u001b[39m(f),\u001b[38;5;28mlen\u001b[39m(c)),\u001b[38;5;124m'\u001b[39m\u001b[38;5;124mcell0\u001b[39m\u001b[38;5;124m'\u001b[39m) \n\u001b[1;32m      6\u001b[0m \u001b[38;5;28mprint\u001b[39m(cell,cell\u001b[38;5;241m.\u001b[39mexcite)\n",
      "\u001b[0;31mValueError\u001b[0m: not enough values to unpack (expected 4, got 2)"
     ]
    }
   ],
   "source": [
    "# Neurotron example\n",
    "\n",
    "f = [1,1,0,1,1,1,0,1,0,1];  c = [1,1,1]; x = f+c\n",
    "e,d,p,token = toy('sarah')\n",
    "cell = Neurotron(0,(e,d,p),(len(f),len(c)),'cell0') \n",
    "print(cell,cell.excite)\n",
    "#core.feed(x[:10],x[10:13],x)"
   ]
  },
  {
   "cell_type": "code",
   "execution_count": 19,
   "id": "203594f7-e360-40cf-8e68-a3800245146a",
   "metadata": {},
   "outputs": [
    {
     "name": "stdout",
     "output_type": "stream",
     "text": [
      "Terminal('excite',#[1 1 0 1 1 1 0 1 0 1],6) @ {#[0 1 2 3 4 5 6 7 8 9], #[1 1 0 1 1 1 0 1 0 1] @ 0.5}\n",
      "empower 'Sarah': [1 1 0 1 1 1 0 1 0 1]  ->  #[1 1 0 1 1 1 0 1 0 1]\n",
      "         spike: #[1 1 0 1 1 1 0 1 0 1]  ->  :[1]\n",
      "empower 'loves': [0 1 1 1 0 1 1 0 1 1]  ->  #[0 1 0 1 0 1 0 0 0 1]\n",
      "         spike: #[0 1 0 1 0 1 0 0 0 1]  ->  :[0]\n"
     ]
    }
   ],
   "source": [
    "#=========================================================================\n",
    "# nice demo\n",
    "#=========================================================================\n",
    "f = [1,1,0,1,1,1,0,1,0,1];  c = [1,1,1]; x = f+c\n",
    "par,token = toy('sarah')\n",
    "cell = Neurotron(0,par,(len(f),len(c)),'cell0') \n",
    "\n",
    "print(cell.excite)\n",
    "E = cell.excite.empower(token['Sarah'],\"empower 'Sarah':\")\n",
    "s = cell.excite.spike(E,'         spike:')\n",
    "\n",
    "E = cell.excite.empower(token['loves'],\"empower 'loves':\")\n",
    "s = cell.excite.spike(E,'         spike:')"
   ]
  },
  {
   "cell_type": "code",
   "execution_count": 11,
   "id": "a5e7ebc4-6518-42e7-a5b4-de2046ed21a6",
   "metadata": {},
   "outputs": [
    {
     "data": {
      "text/plain": [
       "[[1, 1, 0, 1, 1, 1, 0, 1, 0, 1],\n",
       " [0, 1, 1, 1, 0, 1, 1, 0, 1, 1],\n",
       " [1, 1, 1, 0, 0, 1, 0, 1, 1, 1]]"
      ]
     },
     "execution_count": 11,
     "metadata": {},
     "output_type": "execute_result"
    }
   ],
   "source": [
    "par[0].w\n",
    "\n"
   ]
  },
  {
   "cell_type": "code",
   "execution_count": null,
   "id": "82e924d3-eb78-4973-912c-68852665cff9",
   "metadata": {},
   "outputs": [],
   "source": []
  },
  {
   "cell_type": "code",
   "execution_count": null,
   "id": "a075d0ed-6f8c-49e2-ad04-240ecd185552",
   "metadata": {},
   "outputs": [],
   "source": []
  },
  {
   "cell_type": "code",
   "execution_count": null,
   "id": "9b20d68b-1d0d-4e3d-9dba-7fce55b1ee87",
   "metadata": {},
   "outputs": [],
   "source": []
  },
  {
   "cell_type": "code",
   "execution_count": null,
   "id": "1b8d2d14-d6f2-4b4f-a35d-413988a998ce",
   "metadata": {},
   "outputs": [],
   "source": []
  }
 ],
 "metadata": {
  "kernelspec": {
   "display_name": "Python 3 (ipykernel)",
   "language": "python",
   "name": "python3"
  },
  "language_info": {
   "codemirror_mode": {
    "name": "ipython",
    "version": 3
   },
   "file_extension": ".py",
   "mimetype": "text/x-python",
   "name": "python",
   "nbconvert_exporter": "python",
   "pygments_lexer": "ipython3",
   "version": "3.11.5"
  }
 },
 "nbformat": 4,
 "nbformat_minor": 5
}
