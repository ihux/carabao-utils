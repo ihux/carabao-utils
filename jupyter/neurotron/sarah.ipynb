{
 "cells": [
  {
   "cell_type": "code",
   "execution_count": 1,
   "id": "bf5c6f62-cf32-45e9-b945-bb81a72c21aa",
   "metadata": {},
   "outputs": [],
   "source": [
    "# Sarah loves music\n",
    "\n",
    "from carabao.neurotron import Pulse,Terminal,Synapses,toy\n",
    "from carabao.util import repr\n",
    "from numpy import array\n",
    "\n",
    "#===================================================================================\n",
    "# class: Core\n",
    "#===================================================================================\n",
    "\n",
    "class Core:\n",
    "    \"\"\"\n",
    "    class Core: implements a Neurotron core functionality\n",
    "    >>> core = Core(k,excite,predict,depress,(10,3))\n",
    "    \"\"\"\n",
    "    def __init__(self,k, e,d,p, name=\"\"):\n",
    "        self.k = k\n",
    "        self.name = name\n",
    "\n",
    "        self.excite  = Terminal(e.w[k],e.theta,'excite')\n",
    "        self.depress = Terminal(d.w[k],d.theta,'depress')\n",
    "        self.predict = Terminal(p.W[k],p.theta,'predict')\n",
    "\n",
    "    def feed(self,f,c,V,log=None):\n",
    "        e = self.excite.empower(f)\n",
    "        u = self.excite.spike(e)\n",
    "        if log is not None: \n",
    "            print(log,self.name,\"e:\",repr(e), \"u:\",u)\n",
    "\n",
    "        v = self.depress.empower(c)\n",
    "        d = self.depress.spike(v) \n",
    "        if log is not None: \n",
    "            print(log,self.name,\"v:\",repr(v), \"d:\",d)\n",
    "\n",
    "        E = self.predict.empower(V)\n",
    "        s = self.predict.spike(E)\n",
    "        if log is not None: \n",
    "            print(log,self.name,\"E:\",repr(E), \"s:\",repr(s))\n",
    "\n",
    "    def __repr__(self):\n",
    "        return \"Core('%s',%g\"% (self.name,self.k) + \")\"\n",
    "        \n",
    "#===================================================================================\n",
    "# class: Neurotron\n",
    "#===================================================================================\n",
    "\n",
    "class Neurotron:\n",
    "    \"\"\"\n",
    "    class Neurotron: full functionality\n",
    "    >>> par = toy('sarah')\n",
    "    >>> cell0 = Neurotron(k:=0,par,(10,3),'cell0')\n",
    "    >>> print(cell0)\n",
    "    \"\"\"\n",
    "    def __init__(self,k,par,partition,name=None):\n",
    "        self.k = k\n",
    "        self.partition = partition\n",
    "        self.name = name\n",
    "        \n",
    "        epar,dpar,ppar = par\n",
    "        \n",
    "        self.excite  = Terminal(epar.w[k],epar.theta,'excite')\n",
    "        self.excite.synapses = Synapses(epar.k[k],epar.p[k],epar.eta)\n",
    "\n",
    "        self.depress = Terminal(dpar.w[k],dpar.theta,'depress')\n",
    "        self.depress.synapses = Synapses(dpar.g[k],dpar.p[k],dpar.eta)\n",
    "    \n",
    "        self.predict = Terminal(ppar.W[k],ppar.theta,'predict')\n",
    "        self.predict.synapses = Synapses(ppar.K[k],ppar.P[k],ppar.eta)\n",
    "\n",
    "    def __call__(self,x,log=None):\n",
    "        nf,nc = self.partition\n",
    "        f = x[:nf];  c = x[nf:nf+nc]\n",
    "        \n",
    "        if log is not None:\n",
    "           print(\"f:\",f,\", c:\",c)\n",
    "            \n",
    "        e = self.excite.empower(f)\n",
    "        u = self.excite.spike(e)\n",
    "        print(\"e:\",repr(e), \"u:\",u)\n",
    "\n",
    "        v = self.depress.empower(c)\n",
    "        d = self.depress.spike(v) \n",
    "        print(\"v:\",repr(v), \"d:\",d)\n",
    "\n",
    "        #E = self.predict.empower(V)\n",
    "        #s = self.predict.spike(E)\n",
    "        E,s = self.predict(x)\n",
    "        print(\"E:\",repr(E), \"s:\",repr(s))\n",
    "     \n",
    "    def __repr__(self):\n",
    "        return \"Neurotron('%s',%g\"% (self.name,self.k) + \")\""
   ]
  },
  {
   "cell_type": "code",
   "execution_count": 2,
   "id": "98c43f30-4ab5-481b-b19a-5be0c75a4237",
   "metadata": {},
   "outputs": [
    {
     "name": "stdout",
     "output_type": "stream",
     "text": [
      "V: [1, 1, 0, 1, 1, 1, 0, 1, 0, 1]\n",
      "W: [[1 1 0 1 1 1 0 1 0 1]]\n",
      "e: #[1 1 0 1 1 1 0 1 0 1] u: [1]\n",
      "V: [1, 1, 1]\n",
      "W: [[1 1 0]]\n",
      "v: #[1 1 0] d: [1]\n",
      "V: [[1, 1, 1], [1, 1, 1]]\n",
      "W: [[1 0 0]\n",
      " [0 1 1]]\n",
      "E: #[1 0 0; 0 1 1] S: :[0 1]\n"
     ]
    }
   ],
   "source": [
    "# working with terminals\n",
    "\n",
    "par,token = toy('sarah');  epar,dpar,ppar = par\n",
    "excite  = Terminal(epar.w[0],ppar.theta,'excite')\n",
    "depress = Terminal(dpar.w[0],dpar.theta,'depress')\n",
    "predict = Terminal(ppar.W[0],ppar.theta,'predict')\n",
    "\n",
    "f=[1,1,0,1,1,1,0,1,0,1]\n",
    "c=[1,1,1];  V = [c,c]\n",
    "\n",
    "e = excite.empower(f)\n",
    "u = excite.spike(e)\n",
    "print(\"e:\",repr(e), \"u:\",u)\n",
    "\n",
    "v = depress.empower(c)\n",
    "d = depress.spike(v) \n",
    "print(\"v:\",repr(v), \"d:\",d)\n",
    "\n",
    "E = predict.empower(V)\n",
    "S = predict.spike(E)\n",
    "print(\"E:\",repr(E), \"S:\",repr(S))\n",
    "\n",
    "\n"
   ]
  },
  {
   "cell_type": "code",
   "execution_count": 3,
   "id": "8f004d04-8287-4ce9-8adc-26f1ee7e073d",
   "metadata": {},
   "outputs": [
    {
     "name": "stdout",
     "output_type": "stream",
     "text": [
      "V: [1, 1, 0, 1, 1, 1, 0, 1, 0, 1]\n",
      "W: [[1 1 0 1 1 1 0 1 0 1]]\n",
      "e: #[1 1 0 1 1 1 0 1 0 1] u: [1]\n",
      "V: [[1, 1, 1], [1, 1, 1]]\n",
      "W: [[1 0 0]\n",
      " [0 1 1]]\n",
      "E: #[1 0 0; 0 1 1] s: :[0 1]\n",
      "V: [1, 1, 1]\n",
      "W: [[1 1 0]]\n",
      "v: #[1 1 0] d: [1 1]\n"
     ]
    }
   ],
   "source": [
    "# working with a Neurotron core\n",
    "\n",
    "par,token = toy('sarah');  epar,dpar,ppar = par\n",
    "excite  = Terminal(epar.w[0],ppar.theta,'excite')\n",
    "depress = Terminal(dpar.w[0],dpar.theta,'depress')\n",
    "predict = Terminal(ppar.W[0],ppar.theta,'predict')\n",
    "\n",
    "core = Core(0,epar,dpar,ppar,'core0')\n",
    "\n",
    "f=[1,1,0,1,1,1,0,1,0,1]\n",
    "c=[1,1,1];  V = [c,c]\n",
    "\n",
    "e = core.excite.empower(f)\n",
    "u = core.excite.spike(e)\n",
    "print(\"e:\",repr(e), \"u:\",u)\n",
    "\n",
    "E = core.predict.empower(V)\n",
    "s = core.predict.spike(E)\n",
    "print(\"E:\",repr(E), \"s:\",repr(s))\n",
    "\n",
    "v = core.depress.empower(c)\n",
    "d = core.depress.spike(E) \n",
    "print(\"v:\",repr(v), \"d:\",d)\n"
   ]
  },
  {
   "cell_type": "code",
   "execution_count": 4,
   "id": "af1c988a-b335-43a4-8a43-d7338188e372",
   "metadata": {},
   "outputs": [
    {
     "data": {
      "text/plain": [
       "[[1, 1, 1], [1, 1, 1], [1, 1, 1]]"
      ]
     },
     "execution_count": 4,
     "metadata": {},
     "output_type": "execute_result"
    }
   ],
   "source": [
    "dpar.p\n"
   ]
  },
  {
   "cell_type": "code",
   "execution_count": 5,
   "id": "f96a99c4-b699-406c-b82e-607e1f2c2dc1",
   "metadata": {},
   "outputs": [],
   "source": [
    "# feeding the Neurotron core\n",
    "\n",
    "par,token = toy('sarah');  epar,ppar,dpar = par\n",
    "core = Core(0,epar,ppar,dpar) \n",
    "\n",
    "f=[1,1,0,1,1,1,0,1,0,1];  c=[1,1,1]; \n",
    "#core.feed(f,c,f+c)"
   ]
  },
  {
   "cell_type": "code",
   "execution_count": 6,
   "id": "bf881448-806e-4983-9f75-379bbd8cc13f",
   "metadata": {},
   "outputs": [
    {
     "name": "stdout",
     "output_type": "stream",
     "text": [
      "V: [0, 1, 1, 1, 0, 1, 1, 0, 1, 1]\n",
      "W: [[1 1 0 1 1 1 0 1 0 1]]\n"
     ]
    },
    {
     "data": {
      "text/plain": [
       "('#[0 1 0 1 0 1 0 0 0 1]', ':[0]')"
      ]
     },
     "execution_count": 6,
     "metadata": {},
     "output_type": "execute_result"
    }
   ],
   "source": [
    "e = core.excite.empower(token['loves'])\n",
    "u = core.excite.spike(e)\n",
    "(repr(e),repr(u))"
   ]
  },
  {
   "cell_type": "code",
   "execution_count": null,
   "id": "d6d37051-7c3c-4ca4-bd3e-048a7957a316",
   "metadata": {},
   "outputs": [],
   "source": []
  },
  {
   "cell_type": "code",
   "execution_count": 7,
   "id": "62f65f97-7f1f-4ed5-9f87-b1d9afb6218c",
   "metadata": {},
   "outputs": [
    {
     "name": "stdout",
     "output_type": "stream",
     "text": [
      "Synapses: [0 0 0 0 0 0 0 0 0 0 1 1 0] -> #[1 0 0; 1 0 0] -> #[1 0 0; 1 0 0]\n"
     ]
    }
   ],
   "source": [
    "K = [[10,11,12],[10,11,12]];  P = [[.5,.4,.1],[.6,.2,.3]];  eta = 0.5\n",
    "syn = Synapses(K,P,eta,log='Synapses:')\n",
    "V = syn(x:=[0,0,0,0,0,0,0,0,0,0,1,1,0])"
   ]
  },
  {
   "cell_type": "code",
   "execution_count": 8,
   "id": "c611c2de-3e5f-400d-ab88-877f0ab6a835",
   "metadata": {},
   "outputs": [
    {
     "name": "stdout",
     "output_type": "stream",
     "text": [
      "Core('core0',0)\n"
     ]
    }
   ],
   "source": [
    "# Neurotron core with Synapses\n",
    "\n",
    "f = [1,1,0,1,1,1,0,1,0,1];  c = [1,1,1]; x = f+c\n",
    "par,token = toy('sarah');  epar,dpar,ppar = par\n",
    "#core = Core(0,epar,dpar,ppar,[len(f),len(c)],'core0') \n",
    "core = Core(0,epar,dpar,ppar,'core0') \n",
    "print(core)\n",
    "#core.feed(x[:10],x[10:13],x)"
   ]
  },
  {
   "cell_type": "code",
   "execution_count": 9,
   "id": "0c0e03f0-0f64-47f2-b0d5-41a9efaf742e",
   "metadata": {},
   "outputs": [
    {
     "name": "stdout",
     "output_type": "stream",
     "text": [
      "Neurotron('cell0',0) Terminal('excite',#[1 1 0 1 1 1 0 1 0 1],6) @ {#[0 1 2 3 4 5 6 7 8 9], #[1 1 0 1 1 1 0 1 0 1] @ 0.5}\n"
     ]
    }
   ],
   "source": [
    "# Neurotron example\n",
    "\n",
    "f = [1,1,0,1,1,1,0,1,0,1];  c = [1,1,1]; x = f+c\n",
    "par,token = toy('sarah')\n",
    "cell = Neurotron(0,par,(len(f),len(c)),'cell0') \n",
    "print(cell,cell.excite)\n",
    "#core.feed(x[:10],x[10:13],x)"
   ]
  },
  {
   "cell_type": "code",
   "execution_count": 10,
   "id": "203594f7-e360-40cf-8e68-a3800245146a",
   "metadata": {},
   "outputs": [
    {
     "name": "stdout",
     "output_type": "stream",
     "text": [
      "Terminal('excite',#[1 1 0 1 1 1 0 1 0 1],6) @ {#[0 1 2 3 4 5 6 7 8 9], #[1 1 0 1 1 1 0 1 0 1] @ 0.5}\n",
      "V: [1, 1, 0, 1, 1, 1, 0, 1, 0, 1]\n",
      "W: [[1 1 0 1 1 1 0 1 0 1]]\n",
      "decode 'Sarah': [1 1 0 1 1 1 0 1 0 1] -> #[1 1 0 1 1 1 0 1 0 1] -> #[1 1 0 1 1 1 0 1 0 1] -> :[1]\n",
      "V: [0, 1, 1, 1, 0, 1, 1, 0, 1, 1]\n",
      "W: [[1 1 0 1 1 1 0 1 0 1]]\n",
      "decode 'loves': [0 1 1 1 0 1 1 0 1 1] -> #[1 1 0 1 1 1 0 1 0 1] -> #[0 1 0 1 0 1 0 0 0 1] -> :[0]\n",
      "V: [1, 1, 1, 0, 0, 1, 0, 1, 1, 1]\n",
      "W: [[1 1 0 1 1 1 0 1 0 1]]\n",
      "decode 'music': [1 1 1 0 0 1 0 1 1 1] -> #[1 1 0 1 1 1 0 1 0 1] -> #[1 1 0 0 0 1 0 1 0 1] -> :[0]\n",
      "V: [1, 1, 0, 1, 1, 1, 0, 1, 0, 1]\n",
      "W: [[1 1 0 1 1 1 0 1 0 1]]\n",
      "empower 'Sarah': [1 1 0 1 1 1 0 1 0 1] -> #[1 1 0 1 1 1 0 1 0 1]\n",
      "         spike: #[1 1 0 1 1 1 0 1 0 1] -> :[1]\n",
      "V: [0, 1, 1, 1, 0, 1, 1, 0, 1, 1]\n",
      "W: [[1 1 0 1 1 1 0 1 0 1]]\n",
      "empower 'loves': [0 1 1 1 0 1 1 0 1 1] -> #[0 1 0 1 0 1 0 0 0 1]\n",
      "         spike: #[0 1 0 1 0 1 0 0 0 1] -> :[0]\n",
      "f: [1, 1, 0, 1, 1, 1, 0, 1, 0, 1] , c: [1, 1, 1]\n",
      "V: [1, 1, 0, 1, 1, 1, 0, 1, 0, 1]\n",
      "W: [[1 1 0 1 1 1 0 1 0 1]]\n",
      "e: #[1 1 0 1 1 1 0 1 0 1] u: [1]\n",
      "V: [1, 1, 1]\n",
      "W: [[1 1 1]]\n",
      "v: #[1 1 1] d: [1]\n",
      "V: [1, 1, 0, 1, 1, 1, 0, 1, 0, 1, 1, 1, 1]\n",
      "W: [[1 0 0]\n",
      " [1 0 0]]\n"
     ]
    },
    {
     "ename": "ValueError",
     "evalue": "operands could not be broadcast together with shapes (2,3) (13,) ",
     "output_type": "error",
     "traceback": [
      "\u001b[0;31m---------------------------------------------------------------------------\u001b[0m",
      "\u001b[0;31mValueError\u001b[0m                                Traceback (most recent call last)",
      "Cell \u001b[0;32mIn[10], line 24\u001b[0m\n\u001b[1;32m     20\u001b[0m s \u001b[38;5;241m=\u001b[39m cell\u001b[38;5;241m.\u001b[39mexcite\u001b[38;5;241m.\u001b[39mspike(E,\u001b[38;5;124m'\u001b[39m\u001b[38;5;124m         spike:\u001b[39m\u001b[38;5;124m'\u001b[39m)\n\u001b[1;32m     22\u001b[0m \u001b[38;5;66;03m# overall\u001b[39;00m\n\u001b[0;32m---> 24\u001b[0m \u001b[43mcell\u001b[49m\u001b[43m(\u001b[49m\u001b[43mtoken\u001b[49m\u001b[43m[\u001b[49m\u001b[38;5;124;43m'\u001b[39;49m\u001b[38;5;124;43mSarah\u001b[39;49m\u001b[38;5;124;43m'\u001b[39;49m\u001b[43m]\u001b[49m\u001b[38;5;241;43m+\u001b[39;49m\u001b[43m[\u001b[49m\u001b[38;5;241;43m1\u001b[39;49m\u001b[43m,\u001b[49m\u001b[38;5;241;43m1\u001b[39;49m\u001b[43m,\u001b[49m\u001b[38;5;241;43m1\u001b[39;49m\u001b[43m]\u001b[49m\u001b[43m,\u001b[49m\u001b[38;5;124;43m'\u001b[39;49m\u001b[38;5;124;43mapply\u001b[39;49m\u001b[38;5;124;43m'\u001b[39;49m\u001b[43m)\u001b[49m\n",
      "Cell \u001b[0;32mIn[1], line 87\u001b[0m, in \u001b[0;36mNeurotron.__call__\u001b[0;34m(self, x, log)\u001b[0m\n\u001b[1;32m     83\u001b[0m \u001b[38;5;28mprint\u001b[39m(\u001b[38;5;124m\"\u001b[39m\u001b[38;5;124mv:\u001b[39m\u001b[38;5;124m\"\u001b[39m,\u001b[38;5;28mrepr\u001b[39m(v), \u001b[38;5;124m\"\u001b[39m\u001b[38;5;124md:\u001b[39m\u001b[38;5;124m\"\u001b[39m,d)\n\u001b[1;32m     85\u001b[0m \u001b[38;5;66;03m#E = self.predict.empower(V)\u001b[39;00m\n\u001b[1;32m     86\u001b[0m \u001b[38;5;66;03m#s = self.predict.spike(E)\u001b[39;00m\n\u001b[0;32m---> 87\u001b[0m E,s \u001b[38;5;241m=\u001b[39m \u001b[38;5;28;43mself\u001b[39;49m\u001b[38;5;241;43m.\u001b[39;49m\u001b[43mpredict\u001b[49m\u001b[43m(\u001b[49m\u001b[43mx\u001b[49m\u001b[43m)\u001b[49m\n\u001b[1;32m     88\u001b[0m \u001b[38;5;28mprint\u001b[39m(\u001b[38;5;124m\"\u001b[39m\u001b[38;5;124mE:\u001b[39m\u001b[38;5;124m\"\u001b[39m,\u001b[38;5;28mrepr\u001b[39m(E), \u001b[38;5;124m\"\u001b[39m\u001b[38;5;124ms:\u001b[39m\u001b[38;5;124m\"\u001b[39m,\u001b[38;5;28mrepr\u001b[39m(s))\n",
      "File \u001b[0;32m~/Bluenetics/Git/Neural/carabao-utils/venv/lib/python3.11/site-packages/carabao/neurotron.py:191\u001b[0m, in \u001b[0;36mTerminal.__call__\u001b[0;34m(self, x, log)\u001b[0m\n\u001b[1;32m    189\u001b[0m \u001b[38;5;28;01mif\u001b[39;00m \u001b[38;5;28mself\u001b[39m\u001b[38;5;241m.\u001b[39msynapses \u001b[38;5;129;01mis\u001b[39;00m \u001b[38;5;28;01mNone\u001b[39;00m:\n\u001b[1;32m    190\u001b[0m     \u001b[38;5;28;01mreturn\u001b[39;00m ([],[])\n\u001b[0;32m--> 191\u001b[0m E \u001b[38;5;241m=\u001b[39m \u001b[38;5;28;43mself\u001b[39;49m\u001b[38;5;241;43m.\u001b[39;49m\u001b[43mempower\u001b[49m\u001b[43m(\u001b[49m\u001b[43mx\u001b[49m\u001b[43m)\u001b[49m\n\u001b[1;32m    192\u001b[0m s \u001b[38;5;241m=\u001b[39m \u001b[38;5;28mself\u001b[39m\u001b[38;5;241m.\u001b[39mspike(E)\n\u001b[1;32m    193\u001b[0m \u001b[38;5;28;01mif\u001b[39;00m log \u001b[38;5;129;01mis\u001b[39;00m \u001b[38;5;129;01mnot\u001b[39;00m \u001b[38;5;28;01mNone\u001b[39;00m:\n",
      "File \u001b[0;32m~/Bluenetics/Git/Neural/carabao-utils/venv/lib/python3.11/site-packages/carabao/neurotron.py:176\u001b[0m, in \u001b[0;36mTerminal.empower\u001b[0;34m(self, V, log)\u001b[0m\n\u001b[1;32m    174\u001b[0m \u001b[38;5;66;03m###########################\u001b[39;00m\n\u001b[1;32m    175\u001b[0m \u001b[38;5;28mprint\u001b[39m(\u001b[38;5;124m\"\u001b[39m\u001b[38;5;124mW:\u001b[39m\u001b[38;5;124m\"\u001b[39m,\u001b[38;5;28mself\u001b[39m\u001b[38;5;241m.\u001b[39mW)\n\u001b[0;32m--> 176\u001b[0m E \u001b[38;5;241m=\u001b[39m \u001b[38;5;28;43mself\u001b[39;49m\u001b[38;5;241;43m.\u001b[39;49m\u001b[43mW\u001b[49m\u001b[43m \u001b[49m\u001b[38;5;241;43m*\u001b[39;49m\u001b[43m \u001b[49m\u001b[43mV\u001b[49m\n\u001b[1;32m    177\u001b[0m \u001b[38;5;28;01mif\u001b[39;00m log \u001b[38;5;129;01mis\u001b[39;00m \u001b[38;5;129;01mnot\u001b[39;00m \u001b[38;5;28;01mNone\u001b[39;00m:\n\u001b[1;32m    178\u001b[0m     \u001b[38;5;28mprint\u001b[39m(log,\u001b[38;5;28mrepr\u001b[39m(V),\u001b[38;5;124m\"\u001b[39m\u001b[38;5;124m->\u001b[39m\u001b[38;5;124m\"\u001b[39m,\u001b[38;5;28mrepr\u001b[39m(E))\n",
      "\u001b[0;31mValueError\u001b[0m: operands could not be broadcast together with shapes (2,3) (13,) "
     ]
    }
   ],
   "source": [
    "#=========================================================================\n",
    "# nice demo\n",
    "#=========================================================================\n",
    "f = [1,1,0,1,1,1,0,1,0,1];  c = [1,1,1]; x = f+c\n",
    "par,token = toy('sarah')\n",
    "cell = Neurotron(0,par,(len(f),len(c)),'cell0') \n",
    "\n",
    "print(cell.excite)\n",
    "\n",
    "E = cell.excite(token['Sarah'],\"decode 'Sarah':\")\n",
    "E = cell.excite(token['loves'],\"decode 'loves':\")\n",
    "E = cell.excite(token['music'],\"decode 'music':\")\n",
    "\n",
    "# or broken down to the intermediate steps:\n",
    "\n",
    "E = cell.excite.empower(token['Sarah'],\"empower 'Sarah':\")\n",
    "s = cell.excite.spike(E,'         spike:')\n",
    "\n",
    "E = cell.excite.empower(token['loves'],\"empower 'loves':\")\n",
    "s = cell.excite.spike(E,'         spike:')\n",
    "\n",
    "# overall\n",
    "\n",
    "cell(token['Sarah']+[1,1,1],'apply')"
   ]
  },
  {
   "cell_type": "code",
   "execution_count": null,
   "id": "9b20d68b-1d0d-4e3d-9dba-7fce55b1ee87",
   "metadata": {},
   "outputs": [],
   "source": [
    "# depession terminal\n",
    "print(cell.depress)\n",
    "v = cell.depress.empower([0,0,0],'empower')\n",
    "s = cell.depress.spike(v,'spike')\n",
    "s = cell.depress(c:=[0,0,0],'apply')\n",
    "\n",
    "print() \n",
    "print(cell.predict)\n",
    "v = cell.predict.empower([1,0,0],'empower') \n",
    "s = cell.predict.spike(v,'spike')\n",
    "s = cell.predict(c:=[1,1,0],'apply')\n"
   ]
  },
  {
   "cell_type": "code",
   "execution_count": null,
   "id": "404d80a6-e513-4a27-aa1f-9701fbe2e4d3",
   "metadata": {},
   "outputs": [],
   "source": [
    "nf,nc=cell.partition\n",
    "(nf,nc)"
   ]
  },
  {
   "cell_type": "code",
   "execution_count": null,
   "id": "61717ac0-f6ca-46e4-a7e2-1ec5537646df",
   "metadata": {},
   "outputs": [],
   "source": []
  },
  {
   "cell_type": "code",
   "execution_count": null,
   "id": "671473fe-e8b1-4c0c-8728-c63b7062f770",
   "metadata": {},
   "outputs": [],
   "source": []
  },
  {
   "cell_type": "code",
   "execution_count": null,
   "id": "61b9d3d3-7286-4f71-ae10-6afebc4e622c",
   "metadata": {},
   "outputs": [],
   "source": []
  },
  {
   "cell_type": "code",
   "execution_count": null,
   "id": "50818ac1-a78c-489c-b4dd-f5bc64f30a25",
   "metadata": {},
   "outputs": [],
   "source": []
  }
 ],
 "metadata": {
  "kernelspec": {
   "display_name": "Python 3 (ipykernel)",
   "language": "python",
   "name": "python3"
  },
  "language_info": {
   "codemirror_mode": {
    "name": "ipython",
    "version": 3
   },
   "file_extension": ".py",
   "mimetype": "text/x-python",
   "name": "python",
   "nbconvert_exporter": "python",
   "pygments_lexer": "ipython3",
   "version": "3.11.5"
  }
 },
 "nbformat": 4,
 "nbformat_minor": 5
}
