{
 "cells": [
  {
   "cell_type": "code",
   "execution_count": 143,
   "id": "e4f390f6-5fcd-45e3-b7a5-77ef47acaa9a",
   "metadata": {},
   "outputs": [],
   "source": [
    "# pulse\n",
    "\n",
    "from numpy import array,zeros\n",
    "from carabao.util import repr\n",
    "\n",
    "class Pulse:\n",
    "    \"\"\"\n",
    "    pulse: pulse unit\n",
    "    >>> pls = Pulse([0.1],[0.3])                       # 0.1: lag, 0.2:  duty\n",
    "    >>> pls = Pulse(lag=[0.1,0,0.1],duty=[0.3,0,0.5])  # 0.1: lag, 0.2:  duty\n",
    "    >>> pls.input(u)                                   # set pulse input\n",
    "    >>> y = pls.output()                               # get pulse output\n",
    "    >>> pls.transition()                               # perform transition\n",
    "    \"\"\"\n",
    "    def __init__(self,lag,duty):\n",
    "        self.lag = lag \n",
    "        self.duty = duty\n",
    "        if len(lag) != len(duty): raise Exception('different length of lag and duty') \n",
    "        m = max(array(lag))+1\n",
    "        n = len(lag)\n",
    "\n",
    "        self.u = zeros(n)         # input\n",
    "        self.s = zeros((m,n))     # shift register\n",
    "        self.c = zeros(n)         # counter\n",
    "\n",
    "    def input(self,u): \n",
    "        for j in range(0,self.s.shape[1]):\n",
    "            i = self.lag[j]\n",
    "            #print(\"input [%g,%g] <- %g\" % (i,j,u[j]))\n",
    "            self.s[i,j] = u[j]\n",
    "            if self.s[0,j] > 0: self.c[j] = self.duty[j]\n",
    "    def state(self): return (self.s,self.c)\n",
    "    def output(self):\n",
    "        return (self.c > 0) + 0\n",
    "    def __repr__(self):\n",
    "        head = \"lag/duty:\" + repr(array([self.lag,self.duty])) + \", \"\n",
    "        y = self.output()\n",
    "        return head + \"s:\" + repr(self.s) + \", c:\" + repr(self.c) + \", y:\" + repr(y)\n",
    "    def transition(self):\n",
    "        for j in range(0,self.s.shape[1]):\n",
    "            #print(\"for j:\",j)\n",
    "            for i in range(1,self.lag[j]+1):\n",
    "                #print(\"    for i:\",i)\n",
    "                #print(\"copy [%g,%g] <- [%g,%g]\" % (i,j,i-1,j))\n",
    "                self.s[i-1,j] = self.s[i,j]\n",
    "            self.c[j] = max(0,self.c[j]- 1)\n",
    "            if self.s[0,j] > 0 : self.c[j] = self.duty[j]\n",
    "        \n",
    "        \n",
    "\n"
   ]
  },
  {
   "cell_type": "code",
   "execution_count": 144,
   "id": "93538a6c-f239-4879-94b6-7554699c35c1",
   "metadata": {},
   "outputs": [
    {
     "name": "stdout",
     "output_type": "stream",
     "text": [
      "lag/duty:#[0 1 2; 1 2 3], s:#[1 0 0; 0 2 0; 0 0 3], c:#[1 0 0], y:#[1 0 0]\n",
      "lag/duty:#[0 1 2; 1 2 3], s:#[0 2 0; 0 0 3; 0 0 0], c:#[1 2 0], y:#[1 1 0]\n",
      "lag/duty:#[0 1 2; 1 2 3], s:#[0 0 3; 0 0 0; 0 0 0], c:#[0 1 3], y:#[0 1 1]\n",
      "lag/duty:#[0 1 2; 1 2 3], s:#[0 0 0; 0 0 0; 0 0 0], c:#[0 0 2], y:#[0 0 1]\n",
      "lag/duty:#[0 1 2; 1 2 3], s:#[0 0 0; 0 0 0; 0 0 0], c:#[0 0 1], y:#[0 0 1]\n",
      "lag/duty:#[0 1 2; 1 2 3], s:#[0 0 0; 0 0 0; 0 0 0], c:#[0 0 0], y:#[0 0 0]\n",
      "lag/duty:#[0 1 2; 1 2 3], s:#[0 0 0; 0 0 0; 0 0 0], c:#[0 0 0], y:#[0 0 0]\n",
      "lag/duty:#[0 1 2; 1 2 3], s:#[0 0 0; 0 0 0; 0 0 0], c:#[0 0 0], y:#[0 0 0]\n",
      "lag/duty:#[0 1 2; 1 2 3], s:#[0 0 0; 0 0 0; 0 0 0], c:#[0 0 0], y:#[0 0 0]\n"
     ]
    },
    {
     "data": {
      "text/plain": [
       "array([0, 0, 0])"
      ]
     },
     "execution_count": 144,
     "metadata": {},
     "output_type": "execute_result"
    }
   ],
   "source": [
    "pls = Pulse([0,1,2],[1,2,3]);\n",
    "pls.transition(); pls.input([1,2,3]); print(pls)\n",
    "pls.transition(); pls.input([0,0,0]); print(pls)\n",
    "pls.transition(); pls.input([0,0,0]); print(pls)\n",
    "pls.transition(); pls.input([0,0,0]); print(pls)\n",
    "pls.transition(); pls.input([0,0,0]); print(pls)\n",
    "pls.transition(); pls.input([0,0,0]); print(pls)\n",
    "pls.transition(); pls.input([0,0,0]); print(pls)\n",
    "pls.transition(); pls.input([0,0,0]); print(pls)\n",
    "pls.transition(); pls.input([0,0,0]); print(pls)\n",
    "#pls.output()\n",
    "(pls.s[0]>0)+0"
   ]
  },
  {
   "cell_type": "code",
   "execution_count": null,
   "id": "1e0c38b9-718b-448c-93da-d545807314cf",
   "metadata": {},
   "outputs": [],
   "source": []
  },
  {
   "cell_type": "code",
   "execution_count": null,
   "id": "16ab7f6c-1ab9-4847-ab76-a2f2897c5ee0",
   "metadata": {},
   "outputs": [],
   "source": []
  }
 ],
 "metadata": {
  "kernelspec": {
   "display_name": "Python 3 (ipykernel)",
   "language": "python",
   "name": "python3"
  },
  "language_info": {
   "codemirror_mode": {
    "name": "ipython",
    "version": 3
   },
   "file_extension": ".py",
   "mimetype": "text/x-python",
   "name": "python",
   "nbconvert_exporter": "python",
   "pygments_lexer": "ipython3",
   "version": "3.11.5"
  }
 },
 "nbformat": 4,
 "nbformat_minor": 5
}
