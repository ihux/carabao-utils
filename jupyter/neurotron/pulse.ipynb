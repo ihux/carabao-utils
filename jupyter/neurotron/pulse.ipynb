{
 "cells": [
  {
   "cell_type": "code",
   "execution_count": 2,
   "id": "e4f390f6-5fcd-45e3-b7a5-77ef47acaa9a",
   "metadata": {},
   "outputs": [],
   "source": [
    "# pulse\n",
    "\n",
    "from numpy import array,zeros\n",
    "from carabao.util import repr, isscalar\n",
    "\n",
    "class Pulse:\n",
    "    \"\"\"\n",
    "    pulse: pulse unit\n",
    "    >>> pls = Pulse([0.1],[0.3])                       # 0.1: lag, 0.2:  duty\n",
    "    >>> pls = Pulse(lag=[0.1,0,0.1],duty=[0.3,0,0.5])  # 0.1: lag, 0.2:  duty\n",
    "    >>> pls.input(u)                                   # set pulse input\n",
    "    >>> y = pls.output()                               # get pulse output\n",
    "    >>> pls.transition()                               # perform transition\n",
    "    \"\"\"\n",
    "    def __init__(self,lag,duty):\n",
    "        self.lag = lag if not isscalar(lag) else [lag]\n",
    "        self.duty = duty if not isscalar(duty) else [duty]\n",
    "        if len(self.lag) != len(self.duty): raise Exception('length mismatch') \n",
    "        m = max(array(self.lag))+1\n",
    "        n = len(self.lag)\n",
    "\n",
    "        self.u = zeros(n)         # input\n",
    "        self.s = zeros((m,n))     # shift register\n",
    "        self.c = zeros(n)         # counter\n",
    "\n",
    "    def input(self,u): \n",
    "        u = u if not isscalar(u) else [u]\n",
    "        for j in range(0,self.s.shape[1]):\n",
    "            i = self.lag[j]\n",
    "            #print(\"input [%g,%g] <- %g\" % (i,j,u[j]))\n",
    "            self.s[i,j] = u[j]\n",
    "            if self.s[0,j] > 0: self.c[j] = self.duty[j]\n",
    "    def state(self): return (self.s,self.c)\n",
    "    def output(self):\n",
    "        return (self.c > 0) + 0\n",
    "    def __repr__(self):\n",
    "        head = \"lag/duty:\" + repr(array([self.lag,self.duty])) + \", \"\n",
    "        y = self.output()\n",
    "        return head + \"s:\" + repr(self.s) + \", c:\" + repr(self.c) + \", y:\" + repr(y)\n",
    "    def transition(self):\n",
    "        for j in range(0,self.s.shape[1]):\n",
    "            #print(\"for j:\",j)\n",
    "            for i in range(1,self.lag[j]+1):\n",
    "                #print(\"    for i:\",i)\n",
    "                #print(\"copy [%g,%g] <- [%g,%g]\" % (i,j,i-1,j))\n",
    "                self.s[i-1,j] = self.s[i,j]\n",
    "            self.c[j] = max(0,self.c[j]- 1)\n",
    "            if self.s[0,j] > 0 and self.lag[0] > 0:\n",
    "                self.c[j] = self.duty[j]\n",
    "        \n",
    "        \n",
    "\n"
   ]
  },
  {
   "cell_type": "code",
   "execution_count": 3,
   "id": "93538a6c-f239-4879-94b6-7554699c35c1",
   "metadata": {},
   "outputs": [
    {
     "name": "stdout",
     "output_type": "stream",
     "text": [
      "lag/duty:#[0 1 2; 4 2 3], s:#[1 0 0; 0 2 0; 0 0 3], c:#[4 0 0], y:#[1 0 0]\n",
      "lag/duty:#[0 1 2; 4 2 3], s:#[0 2 0; 0 0 3; 0 0 0], c:#[3 2 0], y:#[1 1 0]\n",
      "lag/duty:#[0 1 2; 4 2 3], s:#[0 0 3; 0 0 0; 0 0 0], c:#[2 1 3], y:#[1 1 1]\n",
      "lag/duty:#[0 1 2; 4 2 3], s:#[0 0 0; 0 0 0; 0 0 0], c:#[1 0 2], y:#[1 0 1]\n",
      "lag/duty:#[0 1 2; 4 2 3], s:#[0 0 0; 0 0 0; 0 0 0], c:#[0 0 1], y:#[0 0 1]\n",
      "lag/duty:#[0 1 2; 4 2 3], s:#[0 0 0; 0 0 0; 0 0 0], c:#[0 0 0], y:#[0 0 0]\n",
      "lag/duty:#[0 1 2; 4 2 3], s:#[0 0 0; 0 0 0; 0 0 0], c:#[0 0 0], y:#[0 0 0]\n",
      "lag/duty:#[0 1 2; 4 2 3], s:#[0 0 0; 0 0 0; 0 0 0], c:#[0 0 0], y:#[0 0 0]\n",
      "lag/duty:#[0 1 2; 4 2 3], s:#[0 0 0; 0 0 0; 0 0 0], c:#[0 0 0], y:#[0 0 0]\n"
     ]
    }
   ],
   "source": [
    "pls = Pulse([0,1,2],[4,2,3]);\n",
    "pls.transition(); pls.input([1,2,3]); print(pls)\n",
    "pls.transition(); pls.input([0,0,0]); print(pls)\n",
    "pls.transition(); pls.input([0,0,0]); print(pls)\n",
    "pls.transition(); pls.input([0,0,0]); print(pls)\n",
    "pls.transition(); pls.input([0,0,0]); print(pls)\n",
    "pls.transition(); pls.input([0,0,0]); print(pls)\n",
    "pls.transition(); pls.input([0,0,0]); print(pls)\n",
    "pls.transition(); pls.input([0,0,0]); print(pls)\n",
    "pls.transition(); pls.input([0,0,0]); print(pls)\n"
   ]
  },
  {
   "cell_type": "code",
   "execution_count": 4,
   "id": "1e0c38b9-718b-448c-93da-d545807314cf",
   "metadata": {},
   "outputs": [
    {
     "name": "stdout",
     "output_type": "stream",
     "text": [
      "lag/duty:#[2; 3], s:#[0; 0; 1], c:#[0], y:#[0]\n",
      "lag/duty:#[2; 3], s:#[0; 1; 0], c:#[0], y:#[0]\n",
      "lag/duty:#[2; 3], s:#[1; 0; 0], c:#[3], y:#[1]\n",
      "lag/duty:#[2; 3], s:#[0; 0; 0], c:#[2], y:#[1]\n",
      "lag/duty:#[2; 3], s:#[0; 0; 0], c:#[1], y:#[1]\n",
      "lag/duty:#[2; 3], s:#[0; 0; 0], c:#[0], y:#[0]\n"
     ]
    },
    {
     "data": {
      "text/plain": [
       "lag/duty:#[2; 3], s:#[0; 0; 0], c:#[0], y:#[0]"
      ]
     },
     "execution_count": 4,
     "metadata": {},
     "output_type": "execute_result"
    }
   ],
   "source": [
    "pls = Pulse([2],[3]);\n",
    "pls.transition(); pls.input([1]); print(pls)\n",
    "pls.transition(); pls.input([0]); print(pls)\n",
    "pls.transition(); pls.input([0]); print(pls)\n",
    "pls.transition(); pls.input([0]); print(pls)\n",
    "pls.transition(); pls.input([0]); print(pls)\n",
    "pls.transition(); pls.input([0]); print(pls)\n",
    "pls"
   ]
  },
  {
   "cell_type": "code",
   "execution_count": 5,
   "id": "16ab7f6c-1ab9-4847-ab76-a2f2897c5ee0",
   "metadata": {},
   "outputs": [
    {
     "name": "stdout",
     "output_type": "stream",
     "text": [
      "lag/duty:#[2; 3], s:#[0; 0; 1], c:#[0], y:#[0]\n",
      "lag/duty:#[2; 3], s:#[0; 1; 0], c:#[0], y:#[0]\n",
      "lag/duty:#[2; 3], s:#[1; 0; 0], c:#[3], y:#[1]\n",
      "lag/duty:#[2; 3], s:#[0; 0; 0], c:#[2], y:#[1]\n",
      "lag/duty:#[2; 3], s:#[0; 0; 0], c:#[1], y:#[1]\n",
      "lag/duty:#[2; 3], s:#[0; 0; 0], c:#[0], y:#[0]\n"
     ]
    },
    {
     "data": {
      "text/plain": [
       "lag/duty:#[2; 3], s:#[0; 0; 0], c:#[0], y:#[0]"
      ]
     },
     "execution_count": 5,
     "metadata": {},
     "output_type": "execute_result"
    }
   ],
   "source": [
    "pls = Pulse(2,3);\n",
    "pls.transition(); pls.input(1); print(pls)\n",
    "pls.transition(); pls.input(0); print(pls)\n",
    "pls.transition(); pls.input(0); print(pls)\n",
    "pls.transition(); pls.input(0); print(pls)\n",
    "pls.transition(); pls.input(0); print(pls)\n",
    "pls.transition(); pls.input(0); print(pls)\n",
    "pls"
   ]
  },
  {
   "cell_type": "code",
   "execution_count": 6,
   "id": "add862a1-3bef-4fd4-87b6-c6325b7e2b13",
   "metadata": {},
   "outputs": [
    {
     "name": "stdout",
     "output_type": "stream",
     "text": [
      "lag/duty:#[2 2 2; 3 3 3], s:#[0 0 0; 0 0 0; 1 2 3], c:#[0 0 0], y:#[0 0 0]\n",
      "lag/duty:#[2 2 2; 3 3 3], s:#[0 0 0; 1 2 3; 0 0 0], c:#[0 0 0], y:#[0 0 0]\n",
      "lag/duty:#[2 2 2; 3 3 3], s:#[1 2 3; 0 0 0; 0 1 0], c:#[3 3 3], y:#[1 1 1]\n",
      "lag/duty:#[2 2 2; 3 3 3], s:#[0 0 0; 0 1 0; 0 0 0], c:#[2 2 2], y:#[1 1 1]\n",
      "lag/duty:#[2 2 2; 3 3 3], s:#[0 1 0; 0 0 0; 0 0 0], c:#[1 3 1], y:#[1 1 1]\n",
      "lag/duty:#[2 2 2; 3 3 3], s:#[0 0 0; 0 0 0; 0 0 0], c:#[0 2 0], y:#[0 1 0]\n",
      "lag/duty:#[2 2 2; 3 3 3], s:#[0 0 0; 0 0 0; 0 0 0], c:#[0 1 0], y:#[0 1 0]\n",
      "lag/duty:#[2 2 2; 3 3 3], s:#[0 0 0; 0 0 0; 0 0 0], c:#[0 0 0], y:#[0 0 0]\n"
     ]
    },
    {
     "data": {
      "text/plain": [
       "lag/duty:#[2 2 2; 3 3 3], s:#[0 0 0; 0 0 0; 0 0 0], c:#[0 0 0], y:#[0 0 0]"
      ]
     },
     "execution_count": 6,
     "metadata": {},
     "output_type": "execute_result"
    }
   ],
   "source": [
    "pls = Pulse([2,2,2],[3,3,3]);\n",
    "pls.transition(); pls.input([1,2,3]); print(pls)\n",
    "pls.transition(); pls.input([0,0,0]); print(pls)\n",
    "pls.transition(); pls.input([0,1,0]); print(pls)\n",
    "pls.transition(); pls.input([0,0,0]); print(pls)\n",
    "pls.transition(); pls.input([0,0,0]); print(pls)\n",
    "pls.transition(); pls.input([0,0,0]); print(pls)\n",
    "pls.transition(); pls.input([0,0,0]); print(pls)\n",
    "pls.transition(); pls.input([0,0,0]); print(pls)\n",
    "pls"
   ]
  },
  {
   "cell_type": "code",
   "execution_count": null,
   "id": "ff9a6573-8f21-4e42-8439-22556afc077a",
   "metadata": {},
   "outputs": [],
   "source": []
  },
  {
   "cell_type": "code",
   "execution_count": null,
   "id": "8916e5e5-b4e9-485f-81c1-dcce91be1854",
   "metadata": {},
   "outputs": [],
   "source": []
  },
  {
   "cell_type": "code",
   "execution_count": null,
   "id": "e058964f-3f6a-4c46-8c7f-aba41c2e478c",
   "metadata": {},
   "outputs": [],
   "source": []
  }
 ],
 "metadata": {
  "kernelspec": {
   "display_name": "Python 3 (ipykernel)",
   "language": "python",
   "name": "python3"
  },
  "language_info": {
   "codemirror_mode": {
    "name": "ipython",
    "version": 3
   },
   "file_extension": ".py",
   "mimetype": "text/x-python",
   "name": "python",
   "nbconvert_exporter": "python",
   "pygments_lexer": "ipython3",
   "version": "3.11.5"
  }
 },
 "nbformat": 4,
 "nbformat_minor": 5
}
