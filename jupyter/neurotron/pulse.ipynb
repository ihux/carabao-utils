{
 "cells": [
  {
   "cell_type": "code",
   "execution_count": 12,
   "id": "faf1dd26-aa3b-4d5c-abfa-2c4ef9959067",
   "metadata": {},
   "outputs": [
    {
     "name": "stdout",
     "output_type": "stream",
     "text": [
      "Pulse(1,2): 1 -> ([1,0],0/2) -> 0\n",
      "Pulse(1,2): 0 -> ([0,1],2/2) -> 1\n",
      "Pulse(1,2): 0 -> ([0,0],1/2) -> 1\n",
      "Pulse(1,2): 0 -> ([0,0],0/2) -> 0\n",
      "Pulse(1,2): 0 -> ([0,0],0/2) -> 0\n"
     ]
    },
    {
     "data": {
      "text/plain": [
       "((1, 0, 0, 0, 0), (0, 1, 1, 0, 0))"
      ]
     },
     "execution_count": 12,
     "metadata": {},
     "output_type": "execute_result"
    }
   ],
   "source": [
    "from carabao.neurotron import *\n",
    "\"\"\"\n",
    "Example 1:\n",
    "    test a Pulse(1,2) module (1 lag cycle, 2 duty cycles) with a delta\n",
    "    sequence u = [1,0,0,0,0]. The expected response is: y = [0,1,1,0,0]\n",
    "\"\"\"    \n",
    "pls = Pulse(1,2,log=\"Pulse(1,2):\")\n",
    "y0 = pls.feed(u0:=1)\n",
    "y1 = pls.feed(u1:=0) \n",
    "y2 = pls.feed(u2:=0) \n",
    "y3 = pls.feed(u3:=0)\n",
    "y4 = pls.feed(u4:=0)\n",
    "((u0,u1,u2,u3,u4),(y0,y1,y2,y3,y4))"
   ]
  },
  {
   "cell_type": "code",
   "execution_count": 14,
   "id": "3237ec0e-0f9b-4d8d-898f-5193f16a5574",
   "metadata": {},
   "outputs": [
    {
     "name": "stdout",
     "output_type": "stream",
     "text": [
      "Pulse(1,2): 1 -> ([1,0],0/2) -> 0\n",
      "Pulse(1,2): 0 -> ([0,1],2/2) -> 1\n",
      "Pulse(1,2): 1 -> ([1,0],1/2) -> 1\n",
      "Pulse(1,2): 0 -> ([0,1],2/2) -> 1\n",
      "Pulse(1,2): 0 -> ([0,0],1/2) -> 1\n"
     ]
    },
    {
     "data": {
      "text/plain": [
       "((1, 0, 1, 0, 0), (0, 1, 1, 1, 1))"
      ]
     },
     "execution_count": 14,
     "metadata": {},
     "output_type": "execute_result"
    }
   ],
   "source": [
    "\"\"\"\n",
    "Example 2:\n",
    "    similar case but retrigger the pulse module before the niveau collapses.\n",
    "    The input sequence in this case is: u = [1,0,0,0,0], response is: y = [0,1,1,1,1]\n",
    "\"\"\"    \n",
    "pls = Pulse(1,2,log=\"Pulse(1,2):\")\n",
    "y0 = pls.feed(u0:=1)\n",
    "y1 = pls.feed(u1:=0) \n",
    "y2 = pls.feed(u2:=1) \n",
    "y3 = pls.feed(u3:=0)\n",
    "y4 = pls.feed(u4:=0)\n",
    "((u0,u1,u2,u3,u4),(y0,y1,y2,y3,y4))"
   ]
  },
  {
   "cell_type": "code",
   "execution_count": 15,
   "id": "5884a1ea-cdbb-44b3-b138-74d3d6c65d02",
   "metadata": {},
   "outputs": [
    {
     "name": "stdout",
     "output_type": "stream",
     "text": [
      "Pulse(2,3): 4 -> ([4,0,0],0/3) -> 0\n"
     ]
    }
   ],
   "source": [
    "pls = Pulse(2,3,log=\"Pulse(2,3):\")\n",
    "y0=pls.feed(u0:=4)"
   ]
  },
  {
   "cell_type": "code",
   "execution_count": null,
   "id": "fcf367fa-2746-493a-9f66-b8659bb985d4",
   "metadata": {},
   "outputs": [],
   "source": []
  },
  {
   "cell_type": "code",
   "execution_count": 2,
   "id": "259f847d-2f67-46a9-aeda-f2d61bd0b6ae",
   "metadata": {},
   "outputs": [
    {
     "name": "stdout",
     "output_type": "stream",
     "text": [
      "Pulse(2,3): 1 -> ([1,0,0],0/3) -> 0\n",
      "Pulse(2,3): 0 -> ([0,1,0],0/3) -> 0\n",
      "Pulse(2,3): 0 -> ([0,0,1],3/3) -> 1\n",
      "Pulse(2,3): 0 -> ([0,0,0],2/3) -> 1\n",
      "Pulse(2,3): 0 -> ([0,0,0],1/3) -> 1\n",
      "Pulse(2,3): 0 -> ([0,0,0],0/3) -> 0\n"
     ]
    },
    {
     "data": {
      "text/plain": [
       "((1, 0, 0, 0, 0, 0), (0, 0, 1, 1, 1, 0))"
      ]
     },
     "execution_count": 2,
     "metadata": {},
     "output_type": "execute_result"
    }
   ],
   "source": [
    "from carabao.neurotron import Pulse\n",
    "\n",
    "p = Pulse(2,3,log=\"Pulse(2,3):\")\n",
    "y0 = p.feed(u0:=1); \n",
    "y1 = p.feed(u1:=0);\n",
    "y2 = p.feed(u2:=0);\n",
    "y3 = p.feed(u3:=0);\n",
    "y4 = p.feed(u4:=0);\n",
    "y5 = p.feed(u5:=0);\n",
    "((u0,u1,u2,u3,u4,u5),(y0,y1,y2,y3,y4,y5))"
   ]
  },
  {
   "cell_type": "code",
   "execution_count": 3,
   "id": "29997f46-fd66-45f0-b26e-aea75461c503",
   "metadata": {},
   "outputs": [
    {
     "name": "stdout",
     "output_type": "stream",
     "text": [
      "Pulse(2,3): 1 -> ([1,0,0],0/3) -> 0\n",
      "Pulse(2,3): 0 -> ([0,1,0],0/3) -> 0\n",
      "Pulse(2,3): 0 -> ([0,0,1],3/3) -> 1\n",
      "Pulse(2,3): 1 -> ([1,0,0],2/3) -> 1\n",
      "Pulse(2,3): 0 -> ([0,1,0],1/3) -> 1\n",
      "Pulse(2,3): 0 -> ([0,0,1],3/3) -> 1\n"
     ]
    }
   ],
   "source": [
    "from carabao.neurotron import Pulse\n",
    "\n",
    "p = Pulse(2,3,log=\"Pulse(2,3):\")\n",
    "p.feed(1); \n",
    "p.feed(0);\n",
    "p.feed(0);\n",
    "p.feed(1);\n",
    "p.feed(0);\n",
    "p.feed(0);"
   ]
  },
  {
   "cell_type": "code",
   "execution_count": 4,
   "id": "1abf136f-a9e9-418d-bd02-5563ab5b2329",
   "metadata": {},
   "outputs": [
    {
     "name": "stdout",
     "output_type": "stream",
     "text": [
      "Pulse(2,3): 1 -> ([1,0],0/1) -> 0\n",
      "Pulse(2,3): 0 -> ([0,1],1/1) -> 1\n",
      "Pulse(2,3): 0 -> ([0,0],0/1) -> 0\n",
      "Pulse(2,3): 0 -> ([0,0],0/1) -> 0\n"
     ]
    },
    {
     "data": {
      "text/plain": [
       "((1, 0, 0, 0), (0, 1, 0, 0))"
      ]
     },
     "execution_count": 4,
     "metadata": {},
     "output_type": "execute_result"
    }
   ],
   "source": [
    "from carabao.neurotron import Pulse\n",
    "\n",
    "p = Pulse(1,1,log=\"Pulse(2,3):\")\n",
    "y0 = p.feed(u0:=1); \n",
    "y1 = p.feed(u1:=0);\n",
    "y2 = p.feed(u2:=0);\n",
    "y3 = p.feed(u3:=0);\n",
    "((u0,u1,u2,u3),(y0,y1,y2,y3))"
   ]
  },
  {
   "cell_type": "code",
   "execution_count": 5,
   "id": "60ded18d-3a13-47e3-ba14-8fbf5669fe77",
   "metadata": {},
   "outputs": [
    {
     "name": "stdout",
     "output_type": "stream",
     "text": [
      "Pulse(0,3): 1 -> ([1],3/3) -> 1\n",
      "Pulse(0,3): 0 -> ([0],2/3) -> 1\n",
      "Pulse(0,3): 0 -> ([0],1/3) -> 1\n",
      "Pulse(0,3): 0 -> ([0],0/3) -> 0\n"
     ]
    },
    {
     "data": {
      "text/plain": [
       "((1, 0, 0, 0), (1, 1, 1, 0))"
      ]
     },
     "execution_count": 5,
     "metadata": {},
     "output_type": "execute_result"
    }
   ],
   "source": [
    "from carabao.neurotron import Pulse\n",
    "\n",
    "p = Pulse(0,3,log=\"Pulse(0,3):\")\n",
    "y0 = p.feed(u0:=1); \n",
    "y1 = p.feed(u1:=0);\n",
    "y2 = p.feed(u2:=0);\n",
    "y3 = p.feed(u3:=0);\n",
    "((u0,u1,u2,u3),(y0,y1,y2,y3))"
   ]
  },
  {
   "cell_type": "code",
   "execution_count": null,
   "id": "4e9afaf5-a77f-4c33-be1a-559cc1e94b4f",
   "metadata": {},
   "outputs": [],
   "source": []
  },
  {
   "cell_type": "code",
   "execution_count": null,
   "id": "502a8434-5bb4-4172-98eb-1c942de774e8",
   "metadata": {},
   "outputs": [],
   "source": []
  },
  {
   "cell_type": "code",
   "execution_count": null,
   "id": "c04fb219-9715-4d4d-aa66-1a852da3f7ba",
   "metadata": {},
   "outputs": [],
   "source": []
  }
 ],
 "metadata": {
  "kernelspec": {
   "display_name": "Python 3 (ipykernel)",
   "language": "python",
   "name": "python3"
  },
  "language_info": {
   "codemirror_mode": {
    "name": "ipython",
    "version": 3
   },
   "file_extension": ".py",
   "mimetype": "text/x-python",
   "name": "python",
   "nbconvert_exporter": "python",
   "pygments_lexer": "ipython3",
   "version": "3.11.5"
  }
 },
 "nbformat": 4,
 "nbformat_minor": 5
}
