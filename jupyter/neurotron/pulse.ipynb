{
 "cells": [
  {
   "cell_type": "code",
   "execution_count": 1,
   "id": "a9111106-39a0-46f4-839d-0574f2f45b49",
   "metadata": {},
   "outputs": [
    {
     "name": "stdout",
     "output_type": "stream",
     "text": [
      "  1 -> (D2,[0,2,0]) -> 1\n",
      "  0 -> (D1,[0,2,0]) -> 1\n",
      "  0 -> (L0,[0,2,0]) -> 0\n",
      "  0 -> (L0,[0,2,0]) -> 0\n"
     ]
    }
   ],
   "source": [
    "from carabao.neurotron import Pulse\n",
    "P=Pulse(0,2)\n",
    "for k in range(4):\n",
    "    P(k<1,'')"
   ]
  },
  {
   "cell_type": "code",
   "execution_count": 2,
   "id": "502a8434-5bb4-4172-98eb-1c942de774e8",
   "metadata": {},
   "outputs": [
    {
     "name": "stdout",
     "output_type": "stream",
     "text": [
      "  1 -> (L1,[2,3,0]) -> 0\n",
      "  1 -> (L2,[2,3,0]) -> 0\n",
      "  1 -> (D3,[2,3,0]) -> 1\n",
      "  0 -> (D2,[2,3,0]) -> 1\n",
      "  0 -> (D1,[2,3,0]) -> 1\n",
      "  0 -> (L0,[2,3,0]) -> 0\n",
      "  0 -> (L0,[2,3,0]) -> 0\n"
     ]
    }
   ],
   "source": [
    "from carabao.neurotron import Pulse\n",
    "P=Pulse(2,3)\n",
    "for k in range(7):\n",
    "    P(k<3,'')"
   ]
  },
  {
   "cell_type": "code",
   "execution_count": 3,
   "id": "06b9e8a2-471f-483e-a3ed-2c447673df6b",
   "metadata": {},
   "outputs": [
    {
     "name": "stdout",
     "output_type": "stream",
     "text": [
      "  1 -> (L1,[2,3,0]) -> 0\n",
      "  1 -> (L2,[2,3,0]) -> 0\n",
      "  0 -> (L1,[2,3,0]) -> 0\n",
      "  1 -> (L2,[2,3,0]) -> 0\n",
      "  1 -> (D3,[2,3,0]) -> 1\n",
      "  0 -> (D2,[2,3,0]) -> 1\n",
      "  0 -> (D1,[2,3,0]) -> 1\n"
     ]
    }
   ],
   "source": [
    "from carabao.neurotron import Pulse\n",
    "P=Pulse(2,3)\n",
    "for k in range(7):\n",
    "    P(k<5 and k!=2,'')"
   ]
  },
  {
   "cell_type": "code",
   "execution_count": 4,
   "id": "c04fb219-9715-4d4d-aa66-1a852da3f7ba",
   "metadata": {},
   "outputs": [
    {
     "name": "stdout",
     "output_type": "stream",
     "text": [
      "  1 -> (L1,[2,3,2]) -> 0\n",
      "  1 -> (L2,[2,3,2]) -> 0\n",
      "  1 -> (D3,[2,3,2]) -> 1\n",
      "  1 -> (D2,[2,3,2]) -> 1\n",
      "  1 -> (D1,[2,3,2]) -> 1\n",
      "  1 -> (R2,[2,3,2]) -> 0\n",
      "  1 -> (R1,[2,3,2]) -> 0\n",
      "  1 -> (L1,[2,3,2]) -> 0\n",
      "  1 -> (L2,[2,3,2]) -> 0\n",
      "  1 -> (D3,[2,3,2]) -> 1\n",
      "  0 -> (D2,[2,3,2]) -> 1\n",
      "  0 -> (D1,[2,3,2]) -> 1\n",
      "  0 -> (R2,[2,3,2]) -> 0\n",
      "  0 -> (R1,[2,3,2]) -> 0\n",
      "  0 -> (L0,[2,3,2]) -> 0\n"
     ]
    }
   ],
   "source": [
    "from carabao.neurotron import Pulse\n",
    "P=Pulse(2,3,2)\n",
    "for k in range(15):\n",
    "    P(k<10,'') #'%2g'%k)"
   ]
  },
  {
   "cell_type": "code",
   "execution_count": null,
   "id": "9d388e3b-8c22-45d3-abd3-341a56dc06bd",
   "metadata": {},
   "outputs": [],
   "source": []
  },
  {
   "cell_type": "code",
   "execution_count": null,
   "id": "274acdf7-9fe6-4011-87d9-ac18445de2a2",
   "metadata": {},
   "outputs": [],
   "source": []
  }
 ],
 "metadata": {
  "kernelspec": {
   "display_name": "Python 3 (ipykernel)",
   "language": "python",
   "name": "python3"
  },
  "language_info": {
   "codemirror_mode": {
    "name": "ipython",
    "version": 3
   },
   "file_extension": ".py",
   "mimetype": "text/x-python",
   "name": "python",
   "nbconvert_exporter": "python",
   "pygments_lexer": "ipython3",
   "version": "3.11.5"
  }
 },
 "nbformat": 4,
 "nbformat_minor": 5
}
