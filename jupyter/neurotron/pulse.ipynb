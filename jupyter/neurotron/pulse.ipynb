{
 "cells": [
  {
   "cell_type": "code",
   "execution_count": 3,
   "id": "950a2484-570d-4ffc-9cac-e9a1dcda973b",
   "metadata": {},
   "outputs": [
    {
     "name": "stdout",
     "output_type": "stream",
     "text": [
      "  1 -> (0,D1,[0,1,0]) -> 1\n",
      "  0 -> (0,L0,[0,1,0]) -> 0\n",
      "  0 -> (0,L0,[0,1,0]) -> 0\n"
     ]
    }
   ],
   "source": [
    "from carabao.neurotron import Pulse\n",
    "P=Pulse(0,1)\n",
    "for k in range(3): y = P(k<1,'')"
   ]
  },
  {
   "cell_type": "code",
   "execution_count": 7,
   "id": "b069faf4-ea77-45cf-a41b-fce68862cb30",
   "metadata": {},
   "outputs": [
    {
     "name": "stdout",
     "output_type": "stream",
     "text": [
      "  1 -> (1,L1,[1,1,0]) -> 0\n",
      "  0 -> (0,L0,[1,1,0]) -> 0\n",
      "  0 -> (0,L0,[1,1,0]) -> 0\n",
      "  0 -> (0,L0,[1,1,0]) -> 0\n"
     ]
    }
   ],
   "source": [
    "from carabao.neurotron import Pulse\n",
    "P=Pulse(1,1)\n",
    "for k in range(4): y = P(k<1,'')"
   ]
  },
  {
   "cell_type": "code",
   "execution_count": 6,
   "id": "3f9716e7-c575-4342-a35f-e5322a826129",
   "metadata": {},
   "outputs": [
    {
     "name": "stdout",
     "output_type": "stream",
     "text": [
      "  1 -> (1,L1,[1,1,0]) -> 0\n",
      "  1 -> (1,D1,[1,1,0]) -> 1\n",
      "  0 -> (0,L0,[1,1,0]) -> 0\n",
      "  0 -> (0,L0,[1,1,0]) -> 0\n"
     ]
    }
   ],
   "source": [
    "from carabao.neurotron import Pulse\n",
    "P=Pulse(1,1)\n",
    "for k in range(4): y = P(k<2,'')"
   ]
  },
  {
   "cell_type": "code",
   "execution_count": 1,
   "id": "a9111106-39a0-46f4-839d-0574f2f45b49",
   "metadata": {},
   "outputs": [
    {
     "name": "stdout",
     "output_type": "stream",
     "text": [
      "  1 -> (0,D2,[0,2,0]) -> 1\n",
      "  0 -> (0,D1,[0,2,0]) -> 1\n",
      "  0 -> (0,L0,[0,2,0]) -> 0\n",
      "  0 -> (0,L0,[0,2,0]) -> 0\n"
     ]
    }
   ],
   "source": [
    "from carabao.neurotron import Pulse\n",
    "P=Pulse(0,2)\n",
    "for k in range(4):\n",
    "    P(k<1,'')"
   ]
  },
  {
   "cell_type": "code",
   "execution_count": 2,
   "id": "502a8434-5bb4-4172-98eb-1c942de774e8",
   "metadata": {},
   "outputs": [
    {
     "name": "stdout",
     "output_type": "stream",
     "text": [
      "  1 -> (1,L1,[2,3,0]) -> 0\n",
      "  1 -> (2,L2,[2,3,0]) -> 0\n",
      "  1 -> (2,D3,[2,3,0]) -> 1\n",
      "  0 -> (1,D2,[2,3,0]) -> 1\n",
      "  0 -> (0,D1,[2,3,0]) -> 1\n",
      "  0 -> (0,L0,[2,3,0]) -> 0\n",
      "  0 -> (0,L0,[2,3,0]) -> 0\n"
     ]
    }
   ],
   "source": [
    "from carabao.neurotron import Pulse\n",
    "P=Pulse(2,3)\n",
    "for k in range(7):\n",
    "    P(k<3,'')"
   ]
  },
  {
   "cell_type": "code",
   "execution_count": 3,
   "id": "06b9e8a2-471f-483e-a3ed-2c447673df6b",
   "metadata": {},
   "outputs": [
    {
     "name": "stdout",
     "output_type": "stream",
     "text": [
      "  1 -> (1,L1,[2,3,0]) -> 0\n",
      "  1 -> (2,L2,[2,3,0]) -> 0\n",
      "  0 -> (1,L1,[2,3,0]) -> 0\n",
      "  1 -> (2,L2,[2,3,0]) -> 0\n",
      "  1 -> (2,D3,[2,3,0]) -> 1\n",
      "  0 -> (1,D2,[2,3,0]) -> 1\n",
      "  0 -> (0,D1,[2,3,0]) -> 1\n"
     ]
    }
   ],
   "source": [
    "from carabao.neurotron import Pulse\n",
    "P=Pulse(2,3)\n",
    "for k in range(7):\n",
    "    P(k<5 and k!=2,'')"
   ]
  },
  {
   "cell_type": "code",
   "execution_count": 4,
   "id": "c04fb219-9715-4d4d-aa66-1a852da3f7ba",
   "metadata": {},
   "outputs": [
    {
     "name": "stdout",
     "output_type": "stream",
     "text": [
      "  1 -> (1,L1,[2,3,2]) -> 0\n",
      "  1 -> (2,L2,[2,3,2]) -> 0\n",
      "  1 -> (2,D3,[2,3,2]) -> 1\n",
      "  1 -> (2,D3,[2,3,2]) -> 1\n",
      "  1 -> (2,D3,[2,3,2]) -> 1\n",
      "  1 -> (2,D3,[2,3,2]) -> 1\n",
      "  1 -> (2,D3,[2,3,2]) -> 1\n",
      "  1 -> (2,D3,[2,3,2]) -> 1\n",
      "  1 -> (2,D3,[2,3,2]) -> 1\n",
      "  1 -> (2,D3,[2,3,2]) -> 1\n",
      "  0 -> (1,D2,[2,3,2]) -> 1\n",
      "  0 -> (0,D1,[2,3,2]) -> 1\n",
      "  0 -> (0,R2,[2,3,2]) -> 0\n",
      "  0 -> (0,R1,[2,3,2]) -> 0\n",
      "  0 -> (0,L0,[2,3,2]) -> 0\n"
     ]
    }
   ],
   "source": [
    "from carabao.neurotron import Pulse\n",
    "P=Pulse(2,3,2)\n",
    "for k in range(15):\n",
    "    P(k<10,'') #'%2g'%k)"
   ]
  },
  {
   "cell_type": "code",
   "execution_count": 8,
   "id": "274acdf7-9fe6-4011-87d9-ac18445de2a2",
   "metadata": {},
   "outputs": [
    {
     "name": "stdout",
     "output_type": "stream",
     "text": [
      "  1 -> (1,L1,[1,1,5]) -> 0\n",
      "  1 -> (1,D1,[1,1,5]) -> 1\n",
      "  1 -> (1,D1,[1,1,5]) -> 1\n",
      "  1 -> (1,D1,[1,1,5]) -> 1\n",
      "  1 -> (1,D1,[1,1,5]) -> 1\n",
      "  0 -> (0,R5,[1,1,5]) -> 0\n",
      "  0 -> (0,R4,[1,1,5]) -> 0\n",
      "  0 -> (0,R3,[1,1,5]) -> 0\n",
      "  0 -> (0,R2,[1,1,5]) -> 0\n",
      "  0 -> (0,R1,[1,1,5]) -> 0\n"
     ]
    }
   ],
   "source": [
    "from carabao.neurotron import Pulse\n",
    "P=Pulse(1,1,5)\n",
    "for k in range(10):\n",
    "    P(k<5,'') #'%2g'%k)"
   ]
  },
  {
   "cell_type": "code",
   "execution_count": 15,
   "id": "f0582fc5-ea5c-4cb4-8fab-cb3dcc06aadc",
   "metadata": {},
   "outputs": [
    {
     "name": "stdout",
     "output_type": "stream",
     "text": [
      "  1 -> (1,L1,[1,1,0]) -> 0\n",
      "  1 -> (1,D1,[1,1,0]) -> 1\n",
      "  0 -> (0,L0,[1,1,0]) -> 0\n",
      "  0 -> (0,L0,[1,1,0]) -> 0\n"
     ]
    }
   ],
   "source": [
    "from carabao.neurotron import Pulse\n",
    "P=Pulse(1,1,0)\n",
    "for k in range(4):\n",
    "    P(k<2,'') #'%2g'%k)"
   ]
  },
  {
   "cell_type": "code",
   "execution_count": 12,
   "id": "33c8f46f-1bc9-4332-bbf2-c3620a2e46b3",
   "metadata": {},
   "outputs": [
    {
     "name": "stdout",
     "output_type": "stream",
     "text": [
      "  1 -> (1,L1,[1,2,3]) -> 0\n",
      "  1 -> (1,D2,[1,2,3]) -> 1\n",
      "  1 -> (1,D1,[1,2,3]) -> 1\n",
      "  1 -> (1,R3,[1,2,3]) -> 0\n",
      "  1 -> (1,R2,[1,2,3]) -> 0\n",
      "  1 -> (1,R1,[1,2,3]) -> 0\n",
      "  1 -> (1,L1,[1,2,3]) -> 0\n",
      "  1 -> (1,D2,[1,2,3]) -> 1\n",
      "  1 -> (1,D1,[1,2,3]) -> 1\n",
      "  1 -> (1,R3,[1,2,3]) -> 0\n"
     ]
    }
   ],
   "source": [
    "from carabao.neurotron import Pulse\n",
    "P = Pulse(1,2,3)\n",
    "for k in range(10): y = P(1,'')\n"
   ]
  },
  {
   "cell_type": "code",
   "execution_count": 11,
   "id": "6c9b72f8-8ee0-4f71-bc66-b8f98f4762e4",
   "metadata": {},
   "outputs": [
    {
     "name": "stdout",
     "output_type": "stream",
     "text": [
      "  1 -> (1,L1,[1,2,3]) -> 0\n",
      "  1 -> (1,D2,[1,2,3]) -> 1\n",
      "  1 -> (1,D1,[1,2,3]) -> 1\n",
      "  1 -> (1,R3,[1,2,3]) -> 0\n",
      "  1 -> (1,R2,[1,2,3]) -> 0\n",
      "  1 -> (1,R1,[1,2,3]) -> 0\n",
      "  1 -> (1,L1,[1,2,3]) -> 0\n",
      "  0 -> (0,L0,[1,2,3]) -> 0\n"
     ]
    }
   ],
   "source": [
    "from carabao.neurotron import Pulse\n",
    "P = Pulse(1,2,3)\n",
    "for k in range(8): y = P(k<7,'')"
   ]
  },
  {
   "cell_type": "code",
   "execution_count": 2,
   "id": "c15ef073-1413-4eb2-8e5a-f449f3f6e7cd",
   "metadata": {},
   "outputs": [
    {
     "name": "stdout",
     "output_type": "stream",
     "text": [
      "  1 -> (0,D1,[0,1,0]) -> 1\n",
      "  1 -> (1,L1,[0,1,0]) -> 0\n",
      "  0 -> (0,L0,[0,1,0]) -> 0\n",
      "  0 -> (0,L0,[0,1,0]) -> 0\n",
      "  0 -> (0,L0,[0,1,0]) -> 0\n"
     ]
    }
   ],
   "source": [
    "from carabao.neurotron import Pulse\n",
    "P = Pulse(0,1,0)\n",
    "for k in range(5): y = P(k<2,'')"
   ]
  },
  {
   "cell_type": "code",
   "execution_count": 1,
   "id": "9371d90d-d433-4eea-a95b-3c0af08b244f",
   "metadata": {},
   "outputs": [
    {
     "name": "stdout",
     "output_type": "stream",
     "text": [
      "  1 -> (0,D4,[0,4,3]) -> 1\n",
      "  1 -> (0,D3,[0,4,3]) -> 1\n",
      "  1 -> (0,D2,[0,4,3]) -> 1\n",
      "  1 -> (0,D1,[0,4,3]) -> 1\n",
      "  1 -> (0,R3,[0,4,3]) -> 0\n",
      "  1 -> (0,R2,[0,4,3]) -> 0\n",
      "  1 -> (0,R1,[0,4,3]) -> 0\n",
      "  1 -> (0,D4,[0,4,3]) -> 1\n",
      "  1 -> (0,D3,[0,4,3]) -> 1\n",
      "  1 -> (0,D2,[0,4,3]) -> 1\n"
     ]
    }
   ],
   "source": [
    "# u-Pulse\n",
    "from carabao.neurotron import Pulse\n",
    "P = Pulse(0,4,3)\n",
    "for k in range(10): y = P(1,'')"
   ]
  },
  {
   "cell_type": "code",
   "execution_count": 2,
   "id": "da461f51-fef6-44a5-a485-ed6ab600043e",
   "metadata": {},
   "outputs": [
    {
     "name": "stdout",
     "output_type": "stream",
     "text": [
      "  1 -> (0,D1,[0,1,3]) -> 1\n",
      "  1 -> (0,R3,[0,1,3]) -> 0\n",
      "  1 -> (0,R2,[0,1,3]) -> 0\n",
      "  1 -> (0,R1,[0,1,3]) -> 0\n",
      "  1 -> (0,D1,[0,1,3]) -> 1\n",
      "  0 -> (0,R3,[0,1,3]) -> 0\n",
      "  0 -> (0,R2,[0,1,3]) -> 0\n",
      "  0 -> (0,R1,[0,1,3]) -> 0\n",
      "  0 -> (0,L0,[0,1,3]) -> 0\n"
     ]
    }
   ],
   "source": [
    "from carabao.neurotron import Pulse\n",
    "P = Pulse(0,1,3)\n",
    "for k in range(9): y = P(k<5,'')"
   ]
  },
  {
   "cell_type": "code",
   "execution_count": null,
   "id": "165541f1-57d0-4202-bc3a-e29a58ef9de0",
   "metadata": {},
   "outputs": [],
   "source": []
  }
 ],
 "metadata": {
  "kernelspec": {
   "display_name": "Python 3 (ipykernel)",
   "language": "python",
   "name": "python3"
  },
  "language_info": {
   "codemirror_mode": {
    "name": "ipython",
    "version": 3
   },
   "file_extension": ".py",
   "mimetype": "text/x-python",
   "name": "python",
   "nbconvert_exporter": "python",
   "pygments_lexer": "ipython3",
   "version": "3.11.5"
  }
 },
 "nbformat": 4,
 "nbformat_minor": 5
}
