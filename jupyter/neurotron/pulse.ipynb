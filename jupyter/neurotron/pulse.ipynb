{
 "cells": [
  {
   "cell_type": "code",
   "execution_count": 1,
   "id": "502a8434-5bb4-4172-98eb-1c942de774e8",
   "metadata": {},
   "outputs": [
    {
     "name": "stdout",
     "output_type": "stream",
     "text": [
      "  1 -> ([1,0,0], 0/3/0) -> 0\n",
      "  0 -> ([0,1,0], 0/3/0) -> 0\n",
      "  0 -> ([0,0,1], 3/3/0) -> 1\n",
      "  0 -> ([0,0,0], 2/3/0) -> 1\n",
      "  0 -> ([0,0,0], 1/3/0) -> 1\n",
      "  0 -> ([0,0,0], 0/3/0) -> 0\n",
      "  0 -> ([0,0,0], 0/3/0) -> 0\n"
     ]
    }
   ],
   "source": [
    "from carabao.neurotron import Pulse\n",
    "P=Pulse(2,3)\n",
    "for k in range(7):\n",
    "    P(k<1,'')"
   ]
  },
  {
   "cell_type": "code",
   "execution_count": 2,
   "id": "c04fb219-9715-4d4d-aa66-1a852da3f7ba",
   "metadata": {},
   "outputs": [
    {
     "name": "stdout",
     "output_type": "stream",
     "text": [
      "  1 -> ([1,0,0], 0/3/4) -> 0\n",
      "  1 -> ([1,1,0], 0/3/4) -> 0\n",
      "  1 -> ([1,1,1], 3/3/4) -> 1\n",
      "  1 -> ([1,1,1], 2/3/4) -> 1\n",
      "  1 -> ([1,1,1], 1/3/4) -> 1\n",
      "  1 -> ([1,1,1],-4/3/4) -> 0\n",
      "  1 -> ([1,0,0],-3/3/4) -> 0\n",
      "  1 -> ([1,0,0],-2/3/4) -> 0\n",
      "  1 -> ([1,0,0],-1/3/4) -> 0\n",
      "  1 -> ([1,0,0], 0/3/4) -> 0\n",
      "  0 -> ([0,1,0], 0/3/4) -> 0\n",
      "  0 -> ([0,0,1], 3/3/4) -> 1\n",
      "  0 -> ([0,0,0], 2/3/4) -> 1\n",
      "  0 -> ([0,0,0], 1/3/4) -> 1\n",
      "  0 -> ([0,0,0],-4/3/4) -> 0\n"
     ]
    }
   ],
   "source": [
    "from carabao.neurotron import Pulse\n",
    "P=Pulse(2,3,4)\n",
    "for k in range(15):\n",
    "    P(k<10,'') #'%2g'%k)"
   ]
  },
  {
   "cell_type": "code",
   "execution_count": null,
   "id": "9d388e3b-8c22-45d3-abd3-341a56dc06bd",
   "metadata": {},
   "outputs": [],
   "source": []
  },
  {
   "cell_type": "code",
   "execution_count": null,
   "id": "274acdf7-9fe6-4011-87d9-ac18445de2a2",
   "metadata": {},
   "outputs": [],
   "source": []
  }
 ],
 "metadata": {
  "kernelspec": {
   "display_name": "Python 3 (ipykernel)",
   "language": "python",
   "name": "python3"
  },
  "language_info": {
   "codemirror_mode": {
    "name": "ipython",
    "version": 3
   },
   "file_extension": ".py",
   "mimetype": "text/x-python",
   "name": "python",
   "nbconvert_exporter": "python",
   "pygments_lexer": "ipython3",
   "version": "3.11.5"
  }
 },
 "nbformat": 4,
 "nbformat_minor": 5
}
