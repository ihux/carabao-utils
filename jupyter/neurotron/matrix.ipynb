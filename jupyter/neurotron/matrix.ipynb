{
 "cells": [
  {
   "cell_type": "code",
   "execution_count": 22,
   "id": "096e4b44-6891-4b04-95fd-c3c08051afc3",
   "metadata": {},
   "outputs": [],
   "source": [
    "# class Matrix\n",
    "\n",
    "from numpy import array, zeros\n",
    "\n",
    "class Matrix:\n",
    "    def __init__(self,m,n):\n",
    "        self.shape = (m,n)\n",
    "        self.data = zeros((m,n))\n",
    "\n",
    "    def kappa(self,i,j=None):\n",
    "        \"\"\"\n",
    "        self.kappa():  convert matrix indices to linear index or vice versa\n",
    "        >>> Map().kappa(i:=1,j:=3)   # k = i+j*m\n",
    "        13\n",
    "        >>> Map().kappa(k:=13)       # i = k%m, j = k//m\n",
    "        (1, 3)\n",
    "        \"\"\"\n",
    "\n",
    "        m,n,d,s = self.shape\n",
    "        if j is None:\n",
    "            k = i\n",
    "            return (k%m,k//m)\n",
    "        else:\n",
    "            return i + j*m\n",
    "\n",
    "\n",
    "    def isa(self,obj,typ=None):\n",
    "        if typ is None:\n",
    "            print(type(obj),type(obj).__name__)\n",
    "        return (type(obj).__name__ == typ)\n",
    "\n",
    "    def __repr__(self,wide=False):   # string representation of list or matrix\n",
    "        if isinstance(self.data,list):\n",
    "            txt = \"[\";  M = array([self.data])\n",
    "            #print(\"repr M:\",M,type(M),M.shape)\n",
    "        elif self.isa(self.data,'ndarray'):\n",
    "            txt = \"#[\";  M = self.data\n",
    "            if len(M.shape) == 1:\n",
    "                txt = \":[\";  M = self.data\n",
    "                M = array([M])\n",
    "        else:\n",
    "            return self\n",
    "    \n",
    "        m,n = M.shape\n",
    "        sepi = ''\n",
    "        for i in range(0,m):\n",
    "            txt += sepi;  sepi = '; ';  sepj = ''\n",
    "            for j in range(0,n):\n",
    "                if wide == False:\n",
    "                    txt += sepj + \"%g\" % M[i,j]\n",
    "                else:\n",
    "                    s = \"%4g\" %M[i,j].item()\n",
    "                    s = s if s[0:2] != '0.' else s[1:]\n",
    "                    s = s if s[0:3] != '-0.' else '-'+s[2:]\n",
    "                    txt += \"%5s\" % s\n",
    "                sepj = ' '\n",
    "        txt += ']'\n",
    "        return txt\n"
   ]
  },
  {
   "cell_type": "code",
   "execution_count": 25,
   "id": "f21f7fa6-f6b8-4c56-9a34-af22382822de",
   "metadata": {},
   "outputs": [
    {
     "data": {
      "text/plain": [
       "#[]"
      ]
     },
     "execution_count": 25,
     "metadata": {},
     "output_type": "execute_result"
    }
   ],
   "source": [
    "A=Matrix(0,0);A"
   ]
  },
  {
   "cell_type": "code",
   "execution_count": 57,
   "id": "4495171f-c3c0-4031-9ccb-f2dd25f36ec9",
   "metadata": {},
   "outputs": [],
   "source": [
    "import numpy as np\n",
    "\n",
    "class Matrix(np.ndarray):\n",
    "    \"\"\"\n",
    "    class Matrix: matrix wrapper for NumPy arrays\n",
    "    >>> Matrix(0,0)\n",
    "    []\n",
    "    >>> Matrix(2,3)\n",
    "    [[0 0 0][0 0 0]]\n",
    "    >>> Matrix([1,2,3])\n",
    "    [[1 2 3]]\n",
    "    >>> Matrix([[1,2,3],[4,5,6]])\n",
    "    [[1 2 3][4 5 6]]\n",
    "    \"\"\"\n",
    "    def __new__(cls, arg1, arg2=1,data=None):\n",
    "        if isinstance(arg1,np.ndarray):\n",
    "            #print('---- arg1',arg1,'shape/len',arg1.shape,len(arg1.shape))\n",
    "            if len(arg1.shape) == 1:\n",
    "                arg1 = [arg1]\n",
    "        elif isinstance(arg1,int) and isinstance(arg2,int):\n",
    "            arg1 = np.zeros((arg1,arg2))\n",
    "        elif isinstance(arg1,list):\n",
    "            if arg1 == []:\n",
    "                arg1 = np.zeros((0,0))  #[[]]\n",
    "            elif not isinstance(arg1[0],list):\n",
    "                arg1 = [arg1]\n",
    "        else:\n",
    "            raise Exception('bad arg')\n",
    "\n",
    "        #print('@@@@@ arg1/cls',arg1,cls)\n",
    "        obj = np.asarray(arg1).view(cls)\n",
    "        obj.custom = data\n",
    "        return obj\n",
    "\n",
    "    def __array_finalize__(self, obj):\n",
    "        if obj is None:\n",
    "            return\n",
    "        self.custom = getattr(obj, 'custom', None)\n",
    "\n",
    "    def ______str__(self,wide=False):   # string representation of list or matrix\n",
    "        return \"matrix\"\n",
    "        \n",
    "    def _isa(self,obj,typ=None):\n",
    "        if typ is None:\n",
    "            print(type(obj),type(obj).__name__)\n",
    "        return (type(obj).__name__ == typ)\n",
    "\n",
    "    def __str__(self,wide=False):   # string representation of list or matrix\n",
    "        m,n = self.shape\n",
    "        txt = '[';  sepi = ''\n",
    "        for i in range(0,m):\n",
    "            txt += sepi;  sepi = '; ';  sepj = ''\n",
    "            for j in range(0,n):\n",
    "                if wide == False:\n",
    "                    txt += sepj + \"%g\" % self[i,j]\n",
    "                else:\n",
    "                    s = \"%4g\" %M[i,j].item()\n",
    "                    s = s if s[0:2] != '0.' else s[1:]\n",
    "                    s = s if s[0:3] != '-0.' else '-'+s[2:]\n",
    "                    txt += \"%5s\" % s\n",
    "                sepj = ' '\n",
    "        txt += ']'\n",
    "        return txt\n",
    "\n",
    "    def __repr__(self):\n",
    "        return self.__str__()\n",
    "\n",
    "    def t(self):                       # transpose\n",
    "        return np.transpose(self)\n"
   ]
  },
  {
   "cell_type": "code",
   "execution_count": 58,
   "id": "7a418514-0142-4359-bf47-d64bd766e0b8",
   "metadata": {},
   "outputs": [
    {
     "name": "stdout",
     "output_type": "stream",
     "text": [
      "A: [1 2 3 4]\n",
      "[1 2 3 4]\n",
      "empty: [] shape: (0, 0)\n",
      "null: [] shape: (0, 0)\n",
      "M: 2x3 [0 0 0; 0 0 0]\n",
      "Custom parameter: None\n"
     ]
    }
   ],
   "source": [
    "# Example usage\n",
    "arr = np.array([1, 2, 3, 4])\n",
    "\n",
    "A = Matrix(arr, data=\"example\")\n",
    "print(\"A:\",A)\n",
    "print(A.__repr__())\n",
    "\n",
    "empty = Matrix([])\n",
    "print(\"empty:\",empty,'shape:',empty.shape)\n",
    "\n",
    "null = Matrix(0,0)\n",
    "print(\"null:\",null,'shape:',null.shape)\n",
    "\n",
    "M=Matrix(2,3)\n",
    "\n",
    "print('M: 2x3',M)\n",
    "print(\"Custom parameter:\", M.custom)\n"
   ]
  },
  {
   "cell_type": "code",
   "execution_count": 59,
   "id": "375d8e4d-4456-4961-b073-182a1ff5de75",
   "metadata": {},
   "outputs": [
    {
     "data": {
      "text/plain": [
       "True"
      ]
     },
     "execution_count": 59,
     "metadata": {},
     "output_type": "execute_result"
    }
   ],
   "source": [
    "isinstance((7,8),tuple)"
   ]
  },
  {
   "cell_type": "code",
   "execution_count": 60,
   "id": "f5fbf79d-1be9-431a-96c5-696230e4b2df",
   "metadata": {},
   "outputs": [
    {
     "data": {
      "text/plain": [
       "array([1, 2, 3])"
      ]
     },
     "execution_count": 60,
     "metadata": {},
     "output_type": "execute_result"
    }
   ],
   "source": [
    "B=np.array([1,2,3]);B"
   ]
  },
  {
   "cell_type": "code",
   "execution_count": 61,
   "id": "35ece846-ad3e-40ec-8f1c-68cd0e56507d",
   "metadata": {},
   "outputs": [
    {
     "data": {
      "text/plain": [
       "array([[1, 2, 3]])"
      ]
     },
     "execution_count": 61,
     "metadata": {},
     "output_type": "execute_result"
    }
   ],
   "source": [
    "C=np.array([B]);C"
   ]
  },
  {
   "cell_type": "code",
   "execution_count": 62,
   "id": "171daae1-9115-45f1-9ea9-0daba9affcbf",
   "metadata": {},
   "outputs": [
    {
     "data": {
      "text/plain": [
       "[1 2 3]"
      ]
     },
     "execution_count": 62,
     "metadata": {},
     "output_type": "execute_result"
    }
   ],
   "source": [
    "C=Matrix(C);C"
   ]
  },
  {
   "cell_type": "code",
   "execution_count": 63,
   "id": "3c1749d6-71ee-4dd7-9acb-d09cf78cbeed",
   "metadata": {},
   "outputs": [
    {
     "data": {
      "text/plain": [
       "[1; 2; 3]"
      ]
     },
     "execution_count": 63,
     "metadata": {},
     "output_type": "execute_result"
    }
   ],
   "source": [
    "C.t()"
   ]
  },
  {
   "cell_type": "code",
   "execution_count": null,
   "id": "ce88dcdf-cb96-419f-9d5a-57d6bb23dbfd",
   "metadata": {},
   "outputs": [],
   "source": []
  }
 ],
 "metadata": {
  "kernelspec": {
   "display_name": "Python 3 (ipykernel)",
   "language": "python",
   "name": "python3"
  },
  "language_info": {
   "codemirror_mode": {
    "name": "ipython",
    "version": 3
   },
   "file_extension": ".py",
   "mimetype": "text/x-python",
   "name": "python",
   "nbconvert_exporter": "python",
   "pygments_lexer": "ipython3",
   "version": "3.11.5"
  }
 },
 "nbformat": 4,
 "nbformat_minor": 5
}
