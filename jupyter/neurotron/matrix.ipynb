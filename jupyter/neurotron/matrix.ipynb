{
 "cells": [
  {
   "cell_type": "code",
   "execution_count": 1,
   "id": "096e4b44-6891-4b04-95fd-c3c08051afc3",
   "metadata": {},
   "outputs": [],
   "source": [
    "# test class Matrix and class Tensor\n",
    "\n",
    "from numpy import array, zeros\n",
    "from carabao.matrix import Attribute,Matrix,Field, rand,eye,zeros,ones,size,min,max,magic,sum\n",
    "\n"
   ]
  },
  {
   "cell_type": "code",
   "execution_count": 2,
   "id": "73a32b46-fcf5-4c22-8d7f-d97fefbf2ec0",
   "metadata": {},
   "outputs": [
    {
     "name": "stdout",
     "output_type": "stream",
     "text": [
      "[16 2 3 13; 5 11 10 8; 9 7 6 12; 4 14 15 1]\n",
      "[1; 1; 1; 1]\n"
     ]
    }
   ],
   "source": [
    "A=magic(4);print(A)\n",
    "b=ones(4,1);print(b)"
   ]
  },
  {
   "cell_type": "code",
   "execution_count": 3,
   "id": "b0e0ff05-f0c4-4120-8cee-4bcb6eabb677",
   "metadata": {},
   "outputs": [
    {
     "data": {
      "text/plain": [
       "4"
      ]
     },
     "execution_count": 3,
     "metadata": {},
     "output_type": "execute_result"
    }
   ],
   "source": [
    "sum(((A@b).T > 1).T)\n"
   ]
  },
  {
   "cell_type": "code",
   "execution_count": 4,
   "id": "6ee3fe98-3ccb-45c1-9513-da294581b01a",
   "metadata": {},
   "outputs": [
    {
     "name": "stdout",
     "output_type": "stream",
     "text": [
      "y: [15.5 4.5 8.5 3.5 1.5 10.5 6.5 13.5 2.5 9.5 5.5 14.5 12.5 7.5 11.5 0.5]\n",
      "K; [15 1 2 12; 4 10 9 7]\n",
      "K[:,:2]: [15 1; 4 10]\n"
     ]
    }
   ],
   "source": [
    "y=A().T-0.5;print('y:',y)\n",
    "K=A[:2,:]-1; print('K;',K)\n",
    "print('K[:,:2]:',K[:,:2])"
   ]
  },
  {
   "cell_type": "code",
   "execution_count": 5,
   "id": "fef08050-b990-48be-b333-cd398322ae12",
   "metadata": {},
   "outputs": [
    {
     "data": {
      "text/plain": [
       "[0.5 4.5 8.5 12.5; 1.5 5.5 9.5 13.5]"
      ]
     },
     "execution_count": 5,
     "metadata": {},
     "output_type": "execute_result"
    }
   ],
   "source": [
    "y[K]"
   ]
  },
  {
   "cell_type": "code",
   "execution_count": 6,
   "id": "ab789ebb-d1a8-4382-9483-10b920703823",
   "metadata": {},
   "outputs": [
    {
     "data": {
      "text/plain": [
       "[15 1 2 12; 4 10 9 7]"
      ]
     },
     "execution_count": 6,
     "metadata": {},
     "output_type": "execute_result"
    }
   ],
   "source": [
    "K"
   ]
  },
  {
   "cell_type": "code",
   "execution_count": 7,
   "id": "fc8db659-0931-4f2f-a5b2-528e3ca615db",
   "metadata": {},
   "outputs": [
    {
     "data": {
      "text/plain": [
       "[15 1; 4 10]"
      ]
     },
     "execution_count": 7,
     "metadata": {},
     "output_type": "execute_result"
    }
   ],
   "source": [
    "K[:,:2]"
   ]
  },
  {
   "cell_type": "code",
   "execution_count": 8,
   "id": "5c07afd2-3fac-48a1-9c72-19797aee0773",
   "metadata": {},
   "outputs": [
    {
     "data": {
      "text/plain": [
       "[0.5 4.5 8.5 12.5; 1.5 5.5 9.5 13.5]"
      ]
     },
     "execution_count": 8,
     "metadata": {},
     "output_type": "execute_result"
    }
   ],
   "source": [
    "y=y.reshape(2,8)\n",
    "y[K]"
   ]
  },
  {
   "cell_type": "code",
   "execution_count": 9,
   "id": "78f9459d-b6a1-40d1-b74c-2d054fe0f773",
   "metadata": {},
   "outputs": [
    {
     "data": {
      "text/plain": [
       "[0.5 4.5 8.5 12.5; 1.5 5.5 9.5 13.5]"
      ]
     },
     "execution_count": 9,
     "metadata": {},
     "output_type": "execute_result"
    }
   ],
   "source": [
    "y=y.reshape(4,4)\n",
    "y[K.T].T"
   ]
  },
  {
   "cell_type": "code",
   "execution_count": 10,
   "id": "3d50ef09-063a-4bc5-b2a8-926bf7e855e6",
   "metadata": {},
   "outputs": [
    {
     "data": {
      "text/plain": [
       "[0.5 4.5 8.5 12.5; 1.5 5.5 9.5 13.5]"
      ]
     },
     "execution_count": 10,
     "metadata": {},
     "output_type": "execute_result"
    }
   ],
   "source": [
    "y=y.reshape(8,2)\n",
    "y[K]"
   ]
  },
  {
   "cell_type": "code",
   "execution_count": 11,
   "id": "0cba7a9c-8444-4c80-b218-9a69afca085e",
   "metadata": {},
   "outputs": [
    {
     "name": "stdout",
     "output_type": "stream",
     "text": [
      "[16 2 3 13; 5 11 10 8; 9 7 6 12]\n",
      "[2 1 0; 5 4 3]\n"
     ]
    },
    {
     "data": {
      "text/plain": [
       "[9 5 16; 7 11 2]"
      ]
     },
     "execution_count": 11,
     "metadata": {},
     "output_type": "execute_result"
    }
   ],
   "source": [
    "A=magic(4)[:3,:]; print(A)\n",
    "K=Matrix([[2,1,0],[5,4,3]]); print(K)\n",
    "A[K]"
   ]
  },
  {
   "cell_type": "code",
   "execution_count": 12,
   "id": "81281863-eeda-4ab3-a83e-84916538398e",
   "metadata": {},
   "outputs": [
    {
     "data": {
      "text/plain": [
       "[3; 10; 6]"
      ]
     },
     "execution_count": 12,
     "metadata": {},
     "output_type": "execute_result"
    }
   ],
   "source": [
    "A[:,2]"
   ]
  },
  {
   "cell_type": "code",
   "execution_count": 19,
   "id": "4c5916fc-a4a3-4936-a0d5-b356616675a8",
   "metadata": {},
   "outputs": [
    {
     "data": {
      "text/plain": [
       "[16 5 9 4 2 11 7 14 3 10 6 15 13 8 12 1]"
      ]
     },
     "execution_count": 19,
     "metadata": {},
     "output_type": "execute_result"
    }
   ],
   "source": [
    "r=rand((1,20),1000)\n",
    "A=magic(4)().T;A\n",
    "max(A)"
   ]
  },
  {
   "cell_type": "code",
   "execution_count": 20,
   "id": "b296df6a-814c-4a6b-a0ab-37874fb27ecf",
   "metadata": {},
   "outputs": [
    {
     "data": {
      "text/plain": [
       "[1; 4; 3; 2]"
      ]
     },
     "execution_count": 20,
     "metadata": {},
     "output_type": "execute_result"
    }
   ],
   "source": [
    "magic(2)()"
   ]
  },
  {
   "cell_type": "code",
   "execution_count": null,
   "id": "03158084-5953-438e-8e92-6a7f2d6f72d6",
   "metadata": {},
   "outputs": [],
   "source": []
  },
  {
   "cell_type": "code",
   "execution_count": null,
   "id": "c295be3d-b58a-4111-8b53-33da6edaa68f",
   "metadata": {},
   "outputs": [],
   "source": []
  }
 ],
 "metadata": {
  "kernelspec": {
   "display_name": "Python 3 (ipykernel)",
   "language": "python",
   "name": "python3"
  },
  "language_info": {
   "codemirror_mode": {
    "name": "ipython",
    "version": 3
   },
   "file_extension": ".py",
   "mimetype": "text/x-python",
   "name": "python",
   "nbconvert_exporter": "python",
   "pygments_lexer": "ipython3",
   "version": "3.11.5"
  }
 },
 "nbformat": 4,
 "nbformat_minor": 5
}
