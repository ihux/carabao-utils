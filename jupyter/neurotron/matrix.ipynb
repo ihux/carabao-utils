{
 "cells": [
  {
   "cell_type": "code",
   "execution_count": 1,
   "id": "096e4b44-6891-4b04-95fd-c3c08051afc3",
   "metadata": {},
   "outputs": [],
   "source": [
    "# test class Matrix and class Tensor\n",
    "\n",
    "from numpy import array, zeros\n",
    "from carabao.matrix import Matrix,Tensor, rand,eye,zeros,ones,size,min,max,magic\n"
   ]
  },
  {
   "cell_type": "code",
   "execution_count": 2,
   "id": "2c923803-763c-49f6-8c67-c4008d12afec",
   "metadata": {},
   "outputs": [
    {
     "name": "stdout",
     "output_type": "stream",
     "text": [
      "[8 1 6; 3 5 7; 4 9 2]\n"
     ]
    },
    {
     "data": {
      "text/plain": [
       "[7 2 6; 3 5 7; 4 7 2]"
      ]
     },
     "execution_count": 2,
     "metadata": {},
     "output_type": "execute_result"
    }
   ],
   "source": [
    "A=magic(3); print(A)\n",
    "B=max(2,min(A,7));B"
   ]
  },
  {
   "cell_type": "code",
   "execution_count": 3,
   "id": "aa0d2dda-924f-44ef-8f72-03d5d5593c54",
   "metadata": {},
   "outputs": [
    {
     "name": "stdout",
     "output_type": "stream",
     "text": [
      "[16 2 3 13; 5 11 10 8; 9 7 6 12]\n",
      "[5 11 10 8; 9 7 6 12]\n"
     ]
    },
    {
     "data": {
      "text/plain": [
       "[2 13; 11 8; 7 12]"
      ]
     },
     "execution_count": 3,
     "metadata": {},
     "output_type": "execute_result"
    }
   ],
   "source": [
    "A=magic(4)[:3,:]; print(A);\n",
    "print(A[1:3,:])\n",
    "A[:,1:4:2]"
   ]
  },
  {
   "cell_type": "code",
   "execution_count": 4,
   "id": "1b4de77b-c054-4ca7-82c3-8917833b1e47",
   "metadata": {},
   "outputs": [
    {
     "name": "stdout",
     "output_type": "stream",
     "text": [
      "A: [16 2 3 13; 5 11 10 8; 9 7 6 12; 4 14 15 1]\n",
      "K: [1 2 5; 6 7 8]\n"
     ]
    },
    {
     "data": {
      "text/plain": [
       "[2 3 11; 10 8 9]"
      ]
     },
     "execution_count": 4,
     "metadata": {},
     "output_type": "execute_result"
    }
   ],
   "source": [
    "A=magic(4);\n",
    "K=Matrix([[1,2,5],[6,7,8]])\n",
    "print('A:',A)\n",
    "print('K:',K)\n",
    "A.T[K]"
   ]
  },
  {
   "cell_type": "code",
   "execution_count": 5,
   "id": "51899386-0881-46fe-9c53-49ec54f1e390",
   "metadata": {},
   "outputs": [
    {
     "name": "stdout",
     "output_type": "stream",
     "text": [
      "[16 2 3 13; 5 11 10 8; 9 7 6 12; 4 14 15 1]\n"
     ]
    }
   ],
   "source": [
    "A=magic(4); print(A)"
   ]
  },
  {
   "cell_type": "code",
   "execution_count": 8,
   "id": "8ff49953-ff9b-46c9-aa65-59334331e026",
   "metadata": {},
   "outputs": [
    {
     "data": {
      "text/plain": [
       "True"
      ]
     },
     "execution_count": 8,
     "metadata": {},
     "output_type": "execute_result"
    }
   ],
   "source": [
    "isa = isinstance\n",
    "isa(A[0,0],int)"
   ]
  },
  {
   "cell_type": "code",
   "execution_count": 7,
   "id": "adcfdc36-cbc7-4cd7-9fd6-63023e7786ed",
   "metadata": {},
   "outputs": [
    {
     "data": {
      "text/plain": [
       "int"
      ]
     },
     "execution_count": 7,
     "metadata": {},
     "output_type": "execute_result"
    }
   ],
   "source": [
    "type(A[0,0])"
   ]
  },
  {
   "cell_type": "code",
   "execution_count": null,
   "id": "f69876bc-133b-4de6-abe5-191c407fa0c7",
   "metadata": {},
   "outputs": [],
   "source": []
  },
  {
   "cell_type": "code",
   "execution_count": null,
   "id": "8cf5ec7c-1027-4671-aef6-c48388c41f74",
   "metadata": {},
   "outputs": [],
   "source": []
  }
 ],
 "metadata": {
  "kernelspec": {
   "display_name": "Python 3 (ipykernel)",
   "language": "python",
   "name": "python3"
  },
  "language_info": {
   "codemirror_mode": {
    "name": "ipython",
    "version": 3
   },
   "file_extension": ".py",
   "mimetype": "text/x-python",
   "name": "python",
   "nbconvert_exporter": "python",
   "pygments_lexer": "ipython3",
   "version": "3.11.5"
  }
 },
 "nbformat": 4,
 "nbformat_minor": 5
}
