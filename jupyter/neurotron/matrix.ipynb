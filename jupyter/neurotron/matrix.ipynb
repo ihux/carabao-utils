{
 "cells": [
  {
   "cell_type": "code",
   "execution_count": 22,
   "id": "096e4b44-6891-4b04-95fd-c3c08051afc3",
   "metadata": {},
   "outputs": [],
   "source": [
    "# class Matrix\n",
    "\n",
    "from numpy import array, zeros\n",
    "\n",
    "class Matrix:\n",
    "    def __init__(self,m,n):\n",
    "        self.shape = (m,n)\n",
    "        self.data = zeros((m,n))\n",
    "\n",
    "    def kappa(self,i,j=None):\n",
    "        \"\"\"\n",
    "        self.kappa():  convert matrix indices to linear index or vice versa\n",
    "        >>> Map().kappa(i:=1,j:=3)   # k = i+j*m\n",
    "        13\n",
    "        >>> Map().kappa(k:=13)       # i = k%m, j = k//m\n",
    "        (1, 3)\n",
    "        \"\"\"\n",
    "\n",
    "        m,n,d,s = self.shape\n",
    "        if j is None:\n",
    "            k = i\n",
    "            return (k%m,k//m)\n",
    "        else:\n",
    "            return i + j*m\n",
    "\n",
    "\n",
    "    def isa(self,obj,typ=None):\n",
    "        if typ is None:\n",
    "            print(type(obj),type(obj).__name__)\n",
    "        return (type(obj).__name__ == typ)\n",
    "\n",
    "    def __repr__(self,wide=False):   # string representation of list or matrix\n",
    "        if isinstance(self.data,list):\n",
    "            txt = \"[\";  M = array([self.data])\n",
    "            #print(\"repr M:\",M,type(M),M.shape)\n",
    "        elif self.isa(self.data,'ndarray'):\n",
    "            txt = \"#[\";  M = self.data\n",
    "            if len(M.shape) == 1:\n",
    "                txt = \":[\";  M = self.data\n",
    "                M = array([M])\n",
    "        else:\n",
    "            return self\n",
    "    \n",
    "        m,n = M.shape\n",
    "        sepi = ''\n",
    "        for i in range(0,m):\n",
    "            txt += sepi;  sepi = '; ';  sepj = ''\n",
    "            for j in range(0,n):\n",
    "                if wide == False:\n",
    "                    txt += sepj + \"%g\" % M[i,j]\n",
    "                else:\n",
    "                    s = \"%4g\" %M[i,j].item()\n",
    "                    s = s if s[0:2] != '0.' else s[1:]\n",
    "                    s = s if s[0:3] != '-0.' else '-'+s[2:]\n",
    "                    txt += \"%5s\" % s\n",
    "                sepj = ' '\n",
    "        txt += ']'\n",
    "        return txt\n"
   ]
  },
  {
   "cell_type": "code",
   "execution_count": 25,
   "id": "f21f7fa6-f6b8-4c56-9a34-af22382822de",
   "metadata": {},
   "outputs": [
    {
     "data": {
      "text/plain": [
       "#[]"
      ]
     },
     "execution_count": 25,
     "metadata": {},
     "output_type": "execute_result"
    }
   ],
   "source": [
    "A=Matrix(0,0);A"
   ]
  },
  {
   "cell_type": "code",
   "execution_count": 41,
   "id": "4495171f-c3c0-4031-9ccb-f2dd25f36ec9",
   "metadata": {},
   "outputs": [
    {
     "name": "stdout",
     "output_type": "stream",
     "text": [
      "[1 2 3 4]\n",
      "Custom parameter: example\n"
     ]
    }
   ],
   "source": [
    "import numpy as np\n",
    "\n",
    "class Matrix(np.ndarray):\n",
    "    def __new__(cls, arg, data=None):\n",
    "        obj = np.asarray(arg).view(cls)\n",
    "        obj.custom_param = data\n",
    "        return obj\n",
    "\n",
    "    def __array_finalize__(self, obj):\n",
    "        if obj is None:\n",
    "            return\n",
    "        self.custom_param = getattr(obj, 'custom_param', None)\n",
    "\n"
   ]
  },
  {
   "cell_type": "code",
   "execution_count": 42,
   "id": "7a418514-0142-4359-bf47-d64bd766e0b8",
   "metadata": {},
   "outputs": [
    {
     "data": {
      "text/plain": [
       "Matrix([1, 2, 3, 4])"
      ]
     },
     "execution_count": 42,
     "metadata": {},
     "output_type": "execute_result"
    }
   ],
   "source": [
    "M"
   ]
  },
  {
   "cell_type": "code",
   "execution_count": 43,
   "id": "375d8e4d-4456-4961-b073-182a1ff5de75",
   "metadata": {},
   "outputs": [
    {
     "data": {
      "text/plain": [
       "True"
      ]
     },
     "execution_count": 43,
     "metadata": {},
     "output_type": "execute_result"
    }
   ],
   "source": [
    "isinstance((7,8),tuple)"
   ]
  },
  {
   "cell_type": "code",
   "execution_count": null,
   "id": "f5fbf79d-1be9-431a-96c5-696230e4b2df",
   "metadata": {},
   "outputs": [],
   "source": []
  }
 ],
 "metadata": {
  "kernelspec": {
   "display_name": "Python 3 (ipykernel)",
   "language": "python",
   "name": "python3"
  },
  "language_info": {
   "codemirror_mode": {
    "name": "ipython",
    "version": 3
   },
   "file_extension": ".py",
   "mimetype": "text/x-python",
   "name": "python",
   "nbconvert_exporter": "python",
   "pygments_lexer": "ipython3",
   "version": "3.11.5"
  }
 },
 "nbformat": 4,
 "nbformat_minor": 5
}
