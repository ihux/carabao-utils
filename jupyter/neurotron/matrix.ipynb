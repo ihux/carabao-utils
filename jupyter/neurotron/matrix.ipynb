{
 "cells": [
  {
   "cell_type": "code",
   "execution_count": 1,
   "id": "096e4b44-6891-4b04-95fd-c3c08051afc3",
   "metadata": {},
   "outputs": [],
   "source": [
    "# test class Matrix and class Tensor\n",
    "\n",
    "from numpy import array, zeros\n",
    "from carabao.matrix import Attribute,Matrix,Tensor, rand,eye,zeros,ones,size,min,max,magic\n"
   ]
  },
  {
   "cell_type": "code",
   "execution_count": 2,
   "id": "2c923803-763c-49f6-8c67-c4008d12afec",
   "metadata": {},
   "outputs": [
    {
     "name": "stdout",
     "output_type": "stream",
     "text": [
      "[8 1 6; 3 5 7; 4 9 2]\n"
     ]
    },
    {
     "data": {
      "text/plain": [
       "[7 2 6; 3 5 7; 4 7 2]"
      ]
     },
     "execution_count": 2,
     "metadata": {},
     "output_type": "execute_result"
    }
   ],
   "source": [
    "A=magic(3); print(A)\n",
    "B=max(2,min(A,7));B"
   ]
  },
  {
   "cell_type": "code",
   "execution_count": 3,
   "id": "aa0d2dda-924f-44ef-8f72-03d5d5593c54",
   "metadata": {},
   "outputs": [
    {
     "name": "stdout",
     "output_type": "stream",
     "text": [
      "[16 2 3 13; 5 11 10 8; 9 7 6 12]\n",
      "[5 11 10 8; 9 7 6 12]\n"
     ]
    },
    {
     "data": {
      "text/plain": [
       "[2 13; 11 8; 7 12]"
      ]
     },
     "execution_count": 3,
     "metadata": {},
     "output_type": "execute_result"
    }
   ],
   "source": [
    "A=magic(4)[:3,:]; print(A);\n",
    "print(A[1:3,:])\n",
    "A[:,1:4:2]"
   ]
  },
  {
   "cell_type": "code",
   "execution_count": 4,
   "id": "1b4de77b-c054-4ca7-82c3-8917833b1e47",
   "metadata": {},
   "outputs": [
    {
     "name": "stdout",
     "output_type": "stream",
     "text": [
      "A: [16 2 3 13; 5 11 10 8; 9 7 6 12; 4 14 15 1]\n",
      "K: [1 2 5; 6 7 8]\n"
     ]
    },
    {
     "data": {
      "text/plain": [
       "[2 3 11; 10 8 9]"
      ]
     },
     "execution_count": 4,
     "metadata": {},
     "output_type": "execute_result"
    }
   ],
   "source": [
    "A=magic(4);\n",
    "K=Matrix([[1,2,5],[6,7,8]])\n",
    "print('A:',A)\n",
    "print('K:',K)\n",
    "A.T[K]"
   ]
  },
  {
   "cell_type": "code",
   "execution_count": 5,
   "id": "08493db6-32aa-42be-b325-6c20e2d0db45",
   "metadata": {},
   "outputs": [
    {
     "name": "stdout",
     "output_type": "stream",
     "text": [
      "A: 1 C: 3\n"
     ]
    }
   ],
   "source": [
    "o=Attribute();o\n",
    "o.set('A,B,C',(1,2,3))\n",
    "A,C = o.get('A,C')\n",
    "print('A:',A,'C:',C)"
   ]
  },
  {
   "cell_type": "code",
   "execution_count": 6,
   "id": "f97aa2ff-b0cb-418c-afa6-4ea2aa89300a",
   "metadata": {},
   "outputs": [
    {
     "data": {
      "text/plain": [
       "(5, 2)"
      ]
     },
     "execution_count": 6,
     "metadata": {},
     "output_type": "execute_result"
    }
   ],
   "source": [
    "o.set('Z',((5,2),))\n",
    "o.get('Z')"
   ]
  },
  {
   "cell_type": "code",
   "execution_count": 7,
   "id": "8531fb11-8862-463f-a70c-b39614894471",
   "metadata": {},
   "outputs": [
    {
     "data": {
      "text/plain": [
       "(1, 2)"
      ]
     },
     "execution_count": 7,
     "metadata": {},
     "output_type": "execute_result"
    }
   ],
   "source": [
    "class Test(Attribute):\n",
    "    def __init__(self):\n",
    "        self.X = 1\n",
    "        self.Y = 2 \n",
    "o=Test()\n",
    "x,y = o.get('X,Y')\n",
    "(x,y)"
   ]
  },
  {
   "cell_type": "code",
   "execution_count": 8,
   "id": "d9d1817a-911f-464e-bd40-0ea403d8b32b",
   "metadata": {},
   "outputs": [
    {
     "data": {
      "text/plain": [
       "[8 1 6; 3 5 7; 4 9 2]"
      ]
     },
     "execution_count": 8,
     "metadata": {},
     "output_type": "execute_result"
    }
   ],
   "source": [
    "A = magic(3);A"
   ]
  },
  {
   "cell_type": "code",
   "execution_count": 9,
   "id": "6b270026-9197-4f36-97ad-83317609517d",
   "metadata": {},
   "outputs": [
    {
     "name": "stdout",
     "output_type": "stream",
     "text": [
      "[8 3; 1 5; 6 7]\n"
     ]
    },
    {
     "data": {
      "text/plain": [
       "[8; 3; 1; 5; 6; 7]"
      ]
     },
     "execution_count": 9,
     "metadata": {},
     "output_type": "execute_result"
    }
   ],
   "source": [
    "A=magic(3);print(A[:2,:].T)\n",
    "A[:2]()"
   ]
  },
  {
   "cell_type": "code",
   "execution_count": 10,
   "id": "765e2a2e-c820-43b5-8f1b-bb0a4769fa41",
   "metadata": {},
   "outputs": [
    {
     "data": {
      "text/plain": [
       "[16 2 3 13; 5 11 10 8; 9 7 6 12; 4 14 15 1]"
      ]
     },
     "execution_count": 10,
     "metadata": {},
     "output_type": "execute_result"
    }
   ],
   "source": [
    "A=magic(4);A"
   ]
  },
  {
   "cell_type": "code",
   "execution_count": 12,
   "id": "bb25820a-6dad-40c1-9d8e-5d0e3b137607",
   "metadata": {},
   "outputs": [
    {
     "name": "stdout",
     "output_type": "stream",
     "text": [
      "[16 2 3 13; 5 11 10 8; 9 7 6 12]\n",
      "[16; 5; 9; 2; 11; 7; 3; 10; 6; 13; 8; 12]\n"
     ]
    },
    {
     "data": {
      "text/plain": [
       "9.0"
      ]
     },
     "execution_count": 12,
     "metadata": {},
     "output_type": "execute_result"
    }
   ],
   "source": [
    "A = magic(4)[:3,:]; print(A)\n",
    "# [16 2 3 13; 5 11 10 8; 9 7 6 12]\n",
    "B = A(); print(B)\n",
    "# [16; 5; 9; 2; 11; 7; 3; 10; 6; 13; 8; 12]\n",
    "B.reshape(3,4)\n",
    "B[2]\n",
    "        "
   ]
  },
  {
   "cell_type": "code",
   "execution_count": null,
   "id": "59a7642f-7432-4930-8ed4-15e515e57dd9",
   "metadata": {},
   "outputs": [],
   "source": []
  },
  {
   "cell_type": "code",
   "execution_count": null,
   "id": "a1b664bc-7775-4782-928f-7ea8801fee1c",
   "metadata": {},
   "outputs": [],
   "source": []
  },
  {
   "cell_type": "code",
   "execution_count": null,
   "id": "e0a90bc5-703e-489b-9f99-b24460bc14cc",
   "metadata": {},
   "outputs": [],
   "source": []
  }
 ],
 "metadata": {
  "kernelspec": {
   "display_name": "Python 3 (ipykernel)",
   "language": "python",
   "name": "python3"
  },
  "language_info": {
   "codemirror_mode": {
    "name": "ipython",
    "version": 3
   },
   "file_extension": ".py",
   "mimetype": "text/x-python",
   "name": "python",
   "nbconvert_exporter": "python",
   "pygments_lexer": "ipython3",
   "version": "3.11.5"
  }
 },
 "nbformat": 4,
 "nbformat_minor": 5
}
