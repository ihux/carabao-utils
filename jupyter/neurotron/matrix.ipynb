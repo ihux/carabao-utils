{
 "cells": [
  {
   "cell_type": "code",
   "execution_count": 13,
   "id": "096e4b44-6891-4b04-95fd-c3c08051afc3",
   "metadata": {},
   "outputs": [
    {
     "ename": "ImportError",
     "evalue": "cannot import name 'rand' from 'carabao.matrix' (/Users/hux/Bluenetics/Git/Neural/carabao-utils/venv/lib/python3.11/site-packages/carabao/matrix.py)",
     "output_type": "error",
     "traceback": [
      "\u001b[0;31m---------------------------------------------------------------------------\u001b[0m",
      "\u001b[0;31mImportError\u001b[0m                               Traceback (most recent call last)",
      "Cell \u001b[0;32mIn[13], line 4\u001b[0m\n\u001b[1;32m      1\u001b[0m \u001b[38;5;66;03m# test class Matrix and class Tensor\u001b[39;00m\n\u001b[1;32m      3\u001b[0m \u001b[38;5;28;01mfrom\u001b[39;00m \u001b[38;5;21;01mnumpy\u001b[39;00m \u001b[38;5;28;01mimport\u001b[39;00m array, zeros\n\u001b[0;32m----> 4\u001b[0m \u001b[38;5;28;01mfrom\u001b[39;00m \u001b[38;5;21;01mcarabao\u001b[39;00m\u001b[38;5;21;01m.\u001b[39;00m\u001b[38;5;21;01mmatrix\u001b[39;00m \u001b[38;5;28;01mimport\u001b[39;00m Matrix,Tensor, rand,eye,zeros,ones\n",
      "\u001b[0;31mImportError\u001b[0m: cannot import name 'rand' from 'carabao.matrix' (/Users/hux/Bluenetics/Git/Neural/carabao-utils/venv/lib/python3.11/site-packages/carabao/matrix.py)"
     ]
    }
   ],
   "source": [
    "# test class Matrix and class Tensor\n",
    "\n",
    "from numpy import array, zeros\n",
    "from carabao.matrix import Matrix,Tensor, rand,eye,zeros,ones\n"
   ]
  },
  {
   "cell_type": "code",
   "execution_count": 14,
   "id": "c4c9b6c3-baa3-403d-b041-252a3fb3f845",
   "metadata": {},
   "outputs": [
    {
     "data": {
      "text/plain": [
       "[0 0 0; 0 0 0]"
      ]
     },
     "execution_count": 14,
     "metadata": {},
     "output_type": "execute_result"
    }
   ],
   "source": [
    "A=Matrix(2,3);A"
   ]
  },
  {
   "cell_type": "code",
   "execution_count": 3,
   "id": "673b578b-1572-48e6-906b-c948b883a5b2",
   "metadata": {},
   "outputs": [
    {
     "data": {
      "text/plain": [
       "[0.5 0.5 0.5; 0.5 0.5 0.5]"
      ]
     },
     "execution_count": 3,
     "metadata": {},
     "output_type": "execute_result"
    }
   ],
   "source": [
    "A+0.5"
   ]
  },
  {
   "cell_type": "code",
   "execution_count": 4,
   "id": "e0eddbb1-d3b1-4514-aa2d-5e269d7e337f",
   "metadata": {},
   "outputs": [
    {
     "data": {
      "text/plain": [
       "[]"
      ]
     },
     "execution_count": 4,
     "metadata": {},
     "output_type": "execute_result"
    }
   ],
   "source": [
    "Matrix()"
   ]
  },
  {
   "cell_type": "code",
   "execution_count": 5,
   "id": "be2096d1-a477-43e5-a252-e2d1002ee800",
   "metadata": {},
   "outputs": [
    {
     "data": {
      "text/plain": [
       "[0.5 0.5; 0.5 0.5; 0.5 0.5]"
      ]
     },
     "execution_count": 5,
     "metadata": {},
     "output_type": "execute_result"
    }
   ],
   "source": [
    "(A+0.5).T"
   ]
  },
  {
   "cell_type": "code",
   "execution_count": 6,
   "id": "342c65b6-b624-4d46-9fd3-64008b38075a",
   "metadata": {},
   "outputs": [
    {
     "data": {
      "text/plain": [
       "[1; 1; 1; 1; 1]"
      ]
     },
     "execution_count": 6,
     "metadata": {},
     "output_type": "execute_result"
    }
   ],
   "source": [
    "Matrix(1,5).T+1"
   ]
  },
  {
   "cell_type": "code",
   "execution_count": 12,
   "id": "4dc448f0-96be-4d49-aa7a-0f629185a00f",
   "metadata": {},
   "outputs": [
    {
     "ename": "NameError",
     "evalue": "name 'rand' is not defined",
     "output_type": "error",
     "traceback": [
      "\u001b[0;31m---------------------------------------------------------------------------\u001b[0m",
      "\u001b[0;31mNameError\u001b[0m                                 Traceback (most recent call last)",
      "Cell \u001b[0;32mIn[12], line 1\u001b[0m\n\u001b[0;32m----> 1\u001b[0m B\u001b[38;5;241m=\u001b[39mrand(\u001b[38;5;241m3\u001b[39m,\u001b[38;5;241m4\u001b[39m);B\n",
      "\u001b[0;31mNameError\u001b[0m: name 'rand' is not defined"
     ]
    }
   ],
   "source": [
    "B=rand(3,4);B\n"
   ]
  },
  {
   "cell_type": "code",
   "execution_count": 8,
   "id": "247fde98-c0be-4643-9437-8e3e3316a24f",
   "metadata": {},
   "outputs": [
    {
     "ename": "ValueError",
     "evalue": "The truth value of an array with more than one element is ambiguous. Use a.any() or a.all()",
     "output_type": "error",
     "traceback": [
      "\u001b[0;31m---------------------------------------------------------------------------\u001b[0m",
      "\u001b[0;31mValueError\u001b[0m                                Traceback (most recent call last)",
      "Cell \u001b[0;32mIn[8], line 1\u001b[0m\n\u001b[0;32m----> 1\u001b[0m \u001b[38;5;28;43mmax\u001b[39;49m\u001b[43m(\u001b[49m\u001b[43mB\u001b[49m\u001b[43m)\u001b[49m\n",
      "\u001b[0;31mValueError\u001b[0m: The truth value of an array with more than one element is ambiguous. Use a.any() or a.all()"
     ]
    }
   ],
   "source": [
    "max(B)"
   ]
  },
  {
   "cell_type": "code",
   "execution_count": 9,
   "id": "30715a8c-19c0-4251-8db2-ab00d7d4a3c7",
   "metadata": {},
   "outputs": [
    {
     "ename": "IndexError",
     "evalue": "index 2 is out of bounds for axis 0 with size 2",
     "output_type": "error",
     "traceback": [
      "\u001b[0;31m---------------------------------------------------------------------------\u001b[0m",
      "\u001b[0;31mIndexError\u001b[0m                                Traceback (most recent call last)",
      "Cell \u001b[0;32mIn[9], line 1\u001b[0m\n\u001b[0;32m----> 1\u001b[0m \u001b[43mB\u001b[49m\u001b[43m[\u001b[49m\u001b[38;5;241;43m2\u001b[39;49m\u001b[43m,\u001b[49m\u001b[38;5;241;43m3\u001b[39;49m\u001b[43m]\u001b[49m\n",
      "\u001b[0;31mIndexError\u001b[0m: index 2 is out of bounds for axis 0 with size 2"
     ]
    }
   ],
   "source": [
    "B[2,3]"
   ]
  },
  {
   "cell_type": "code",
   "execution_count": null,
   "id": "b8f7d48e-d94d-4ea8-ba5f-e6b042052e05",
   "metadata": {},
   "outputs": [],
   "source": []
  },
  {
   "cell_type": "code",
   "execution_count": null,
   "id": "125edba3-3046-4275-9adc-e74127a5127c",
   "metadata": {},
   "outputs": [],
   "source": []
  }
 ],
 "metadata": {
  "kernelspec": {
   "display_name": "Python 3 (ipykernel)",
   "language": "python",
   "name": "python3"
  },
  "language_info": {
   "codemirror_mode": {
    "name": "ipython",
    "version": 3
   },
   "file_extension": ".py",
   "mimetype": "text/x-python",
   "name": "python",
   "nbconvert_exporter": "python",
   "pygments_lexer": "ipython3",
   "version": "3.11.5"
  }
 },
 "nbformat": 4,
 "nbformat_minor": 5
}
