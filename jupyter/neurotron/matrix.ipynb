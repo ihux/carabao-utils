{
 "cells": [
  {
   "cell_type": "code",
   "execution_count": 26,
   "id": "096e4b44-6891-4b04-95fd-c3c08051afc3",
   "metadata": {},
   "outputs": [],
   "source": [
    "# test class Matrix and class Tensor\n",
    "\n",
    "from numpy import array, zeros\n",
    "from carabao.matrix import Attribute,Matrix,Field, rand,eye,zeros,ones,size,min,max,magic,sum\n",
    "\n"
   ]
  },
  {
   "cell_type": "code",
   "execution_count": 38,
   "id": "bccb5c27-d1d5-4149-b474-76b43fda6eec",
   "metadata": {},
   "outputs": [
    {
     "data": {
      "text/plain": [
       "[16 2 3 13; 5 11 10 8; 9 7 6 12; 4 14 15 1]"
      ]
     },
     "execution_count": 38,
     "metadata": {},
     "output_type": "execute_result"
    }
   ],
   "source": [
    "A=magic(4);A"
   ]
  },
  {
   "cell_type": "code",
   "execution_count": 39,
   "id": "56a4ea86-180f-4474-b14c-999fb0f367f7",
   "metadata": {},
   "outputs": [
    {
     "data": {
      "text/plain": [
       "[16 2 3 13; 5 11 10 8; 9 7 6 12; 4 14 15 1]"
      ]
     },
     "execution_count": 39,
     "metadata": {},
     "output_type": "execute_result"
    }
   ],
   "source": [
    "B=A.copy();B"
   ]
  },
  {
   "cell_type": "code",
   "execution_count": 40,
   "id": "1543204e-e30b-485b-a948-0e6087ecd2c0",
   "metadata": {},
   "outputs": [
    {
     "name": "stdout",
     "output_type": "stream",
     "text": [
      "[0 2 3 13; 5 11 10 8; 9 7 6 12; 4 14 15 1]\n"
     ]
    },
    {
     "data": {
      "text/plain": [
       "[16 2 3 13; 5 11 10 8; 9 7 6 12; 4 14 15 1]"
      ]
     },
     "execution_count": 40,
     "metadata": {},
     "output_type": "execute_result"
    }
   ],
   "source": [
    "\n",
    "A[0,0]=0; print(A)\n",
    "B"
   ]
  },
  {
   "cell_type": "code",
   "execution_count": null,
   "id": "6a220995-e75a-4b65-8fd4-51ccd14ab098",
   "metadata": {},
   "outputs": [],
   "source": []
  },
  {
   "cell_type": "code",
   "execution_count": null,
   "id": "3c400e92-c7d9-4484-b627-6a0e75f8fc30",
   "metadata": {},
   "outputs": [],
   "source": []
  }
 ],
 "metadata": {
  "kernelspec": {
   "display_name": "Python 3 (ipykernel)",
   "language": "python",
   "name": "python3"
  },
  "language_info": {
   "codemirror_mode": {
    "name": "ipython",
    "version": 3
   },
   "file_extension": ".py",
   "mimetype": "text/x-python",
   "name": "python",
   "nbconvert_exporter": "python",
   "pygments_lexer": "ipython3",
   "version": "3.11.5"
  }
 },
 "nbformat": 4,
 "nbformat_minor": 5
}
