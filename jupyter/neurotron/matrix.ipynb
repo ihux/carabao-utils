{
 "cells": [
  {
   "cell_type": "code",
   "execution_count": 1,
   "id": "096e4b44-6891-4b04-95fd-c3c08051afc3",
   "metadata": {},
   "outputs": [],
   "source": [
    "# test class Matrix and class Tensor\n",
    "\n",
    "from numpy import array, zeros\n",
    "from carabao.matrix import Matrix,Tensor, rand,eye,zeros,ones,size,min,max,magic\n"
   ]
  },
  {
   "cell_type": "code",
   "execution_count": 2,
   "id": "c4c9b6c3-baa3-403d-b041-252a3fb3f845",
   "metadata": {},
   "outputs": [
    {
     "data": {
      "text/plain": [
       "[0 0 0; 0 0 0]"
      ]
     },
     "execution_count": 2,
     "metadata": {},
     "output_type": "execute_result"
    }
   ],
   "source": [
    "A=Matrix(2,3);A"
   ]
  },
  {
   "cell_type": "code",
   "execution_count": 3,
   "id": "673b578b-1572-48e6-906b-c948b883a5b2",
   "metadata": {},
   "outputs": [
    {
     "data": {
      "text/plain": [
       "[0.5 0.5 0.5; 0.5 0.5 0.5]"
      ]
     },
     "execution_count": 3,
     "metadata": {},
     "output_type": "execute_result"
    }
   ],
   "source": [
    "A+0.5"
   ]
  },
  {
   "cell_type": "code",
   "execution_count": 4,
   "id": "e0eddbb1-d3b1-4514-aa2d-5e269d7e337f",
   "metadata": {},
   "outputs": [
    {
     "data": {
      "text/plain": [
       "[]"
      ]
     },
     "execution_count": 4,
     "metadata": {},
     "output_type": "execute_result"
    }
   ],
   "source": [
    "Matrix()"
   ]
  },
  {
   "cell_type": "code",
   "execution_count": 5,
   "id": "be2096d1-a477-43e5-a252-e2d1002ee800",
   "metadata": {},
   "outputs": [
    {
     "data": {
      "text/plain": [
       "[0.5 0.5; 0.5 0.5; 0.5 0.5]"
      ]
     },
     "execution_count": 5,
     "metadata": {},
     "output_type": "execute_result"
    }
   ],
   "source": [
    "(A+0.5).T"
   ]
  },
  {
   "cell_type": "code",
   "execution_count": 6,
   "id": "342c65b6-b624-4d46-9fd3-64008b38075a",
   "metadata": {},
   "outputs": [
    {
     "data": {
      "text/plain": [
       "[1; 1; 1; 1; 1]"
      ]
     },
     "execution_count": 6,
     "metadata": {},
     "output_type": "execute_result"
    }
   ],
   "source": [
    "Matrix(1,5).T+1"
   ]
  },
  {
   "cell_type": "code",
   "execution_count": 7,
   "id": "4dc448f0-96be-4d49-aa7a-0f629185a00f",
   "metadata": {},
   "outputs": [
    {
     "data": {
      "text/plain": [
       "[0.680268 0.0229485 0.144282 0.921875; 0.87457 0.284664 0.775658 0.0243347; 0.960743 0.931559 0.705115 0.79627]"
      ]
     },
     "execution_count": 7,
     "metadata": {},
     "output_type": "execute_result"
    }
   ],
   "source": [
    "B=rand(3,4);B\n"
   ]
  },
  {
   "cell_type": "code",
   "execution_count": 8,
   "id": "247fde98-c0be-4643-9437-8e3e3316a24f",
   "metadata": {},
   "outputs": [
    {
     "data": {
      "text/plain": [
       "[0.960743 0.931559 0.775658 0.921875]"
      ]
     },
     "execution_count": 8,
     "metadata": {},
     "output_type": "execute_result"
    }
   ],
   "source": [
    "max(B)"
   ]
  },
  {
   "cell_type": "code",
   "execution_count": 9,
   "id": "30715a8c-19c0-4251-8db2-ab00d7d4a3c7",
   "metadata": {},
   "outputs": [
    {
     "data": {
      "text/plain": [
       "False"
      ]
     },
     "execution_count": 9,
     "metadata": {},
     "output_type": "execute_result"
    }
   ],
   "source": [
    "(9,6)==(9,7)"
   ]
  },
  {
   "cell_type": "code",
   "execution_count": 10,
   "id": "b8f7d48e-d94d-4ea8-ba5f-e6b042052e05",
   "metadata": {},
   "outputs": [
    {
     "data": {
      "text/plain": [
       "4"
      ]
     },
     "execution_count": 10,
     "metadata": {},
     "output_type": "execute_result"
    }
   ],
   "source": [
    "min(8,4)"
   ]
  },
  {
   "cell_type": "code",
   "execution_count": 11,
   "id": "125edba3-3046-4275-9adc-e74127a5127c",
   "metadata": {},
   "outputs": [
    {
     "data": {
      "text/plain": [
       "8"
      ]
     },
     "execution_count": 11,
     "metadata": {},
     "output_type": "execute_result"
    }
   ],
   "source": [
    "max(8,4)"
   ]
  },
  {
   "cell_type": "code",
   "execution_count": 12,
   "id": "8e2d26f1-ae94-4358-95b9-60c39e9003d1",
   "metadata": {},
   "outputs": [],
   "source": [
    "b=min(max(0.5,eye(3)));b\n",
    "a=max(eye(3))"
   ]
  },
  {
   "cell_type": "code",
   "execution_count": 13,
   "id": "d5e097e6-01c4-4640-a332-e7380d526156",
   "metadata": {},
   "outputs": [
    {
     "data": {
      "text/plain": [
       "[1 0 0; 0 1 0; 0 0 1]"
      ]
     },
     "execution_count": 13,
     "metadata": {},
     "output_type": "execute_result"
    }
   ],
   "source": [
    "A=eye(3);A"
   ]
  },
  {
   "cell_type": "code",
   "execution_count": 14,
   "id": "8e5c01c9-8ba2-47e3-b600-eb57d5c365ae",
   "metadata": {},
   "outputs": [
    {
     "data": {
      "text/plain": [
       "[0 1 0]"
      ]
     },
     "execution_count": 14,
     "metadata": {},
     "output_type": "execute_result"
    }
   ],
   "source": [
    "A[1:2]"
   ]
  },
  {
   "cell_type": "code",
   "execution_count": 15,
   "id": "2c923803-763c-49f6-8c67-c4008d12afec",
   "metadata": {},
   "outputs": [
    {
     "data": {
      "text/plain": [
       "[1 0 0; 0 1 0; 0 0 1]"
      ]
     },
     "execution_count": 15,
     "metadata": {},
     "output_type": "execute_result"
    }
   ],
   "source": [
    "A==1"
   ]
  },
  {
   "cell_type": "code",
   "execution_count": 16,
   "id": "9d8e8807-9205-4b11-ba02-847d3d6785e6",
   "metadata": {},
   "outputs": [],
   "source": [
    "class Test:\n",
    "    def __init__(self):\n",
    "        self.K = magic(4)\n",
    "\n",
    "    def __repr__(self):\n",
    "        return self.K.__repr__()\n",
    "\n",
    "    def __str__(self):\n",
    "        return self.K.__str__()\n",
    "\n",
    "    def __getitem__(self,idx):\n",
    "        if isinstance(idx,int):\n",
    "            print('integer:',idx)\n",
    "        elif isinstance(idx,float):\n",
    "            print('float:',idx)\n",
    "        elif isinstance(idx,tuple):\n",
    "            print('tuple:',idx)\n",
    "            idx1,idx2 = idx\n",
    "            if isinstance(idx1,slice):\n",
    "                if isinstance(idx2,int):\n",
    "                    idx2 = slice(idx2,idx2+1,None)\n",
    "                print('slice1:',idx1,idx2)\n",
    "                return self.K[idx1,idx2]\n",
    "            elif isinstance(idx2,slice):\n",
    "                if isinstance(idx1,int):\n",
    "                    idx1 = slice(idx1,idx1+1,None)\n",
    "                print('slice1:',idx1,idx2)\n",
    "                return self.K[idx1,idx2]\n",
    "        return idx"
   ]
  },
  {
   "cell_type": "code",
   "execution_count": 17,
   "id": "aa0d2dda-924f-44ef-8f72-03d5d5593c54",
   "metadata": {},
   "outputs": [
    {
     "data": {
      "text/plain": [
       "[16 2 3 13; 5 11 10 8; 9 7 6 12; 4 14 15 1]"
      ]
     },
     "execution_count": 17,
     "metadata": {},
     "output_type": "execute_result"
    }
   ],
   "source": [
    "T=Test();T"
   ]
  },
  {
   "cell_type": "code",
   "execution_count": 18,
   "id": "9443adb0-9ad4-4181-b9c9-891702db2b18",
   "metadata": {},
   "outputs": [
    {
     "name": "stdout",
     "output_type": "stream",
     "text": [
      "T: [16 2 3 13; 5 11 10 8; 9 7 6 12; 4 14 15 1]\n",
      "tuple: (3, slice(None, None, None))\n",
      "slice1: slice(3, 4, None) slice(None, None, None)\n"
     ]
    },
    {
     "data": {
      "text/plain": [
       "[4 14 15 1]"
      ]
     },
     "execution_count": 18,
     "metadata": {},
     "output_type": "execute_result"
    }
   ],
   "source": [
    "print('T:',T)\n",
    "T[3,:]"
   ]
  },
  {
   "cell_type": "code",
   "execution_count": 28,
   "id": "1b4de77b-c054-4ca7-82c3-8917833b1e47",
   "metadata": {},
   "outputs": [
    {
     "name": "stdout",
     "output_type": "stream",
     "text": [
      "A: [16 2 3 13; 5 11 10 8; 9 7 6 12; 4 14 15 1]\n",
      "K: [1 2 5; 6 7 8]\n"
     ]
    },
    {
     "data": {
      "text/plain": [
       "[2 3 11; 10 8 9]"
      ]
     },
     "execution_count": 28,
     "metadata": {},
     "output_type": "execute_result"
    }
   ],
   "source": [
    "A=magic(4);\n",
    "K=Matrix([[1,2,5],[6,7,8]])\n",
    "print('A:',A)\n",
    "print('K:',K)\n",
    "A.T[K]"
   ]
  },
  {
   "cell_type": "code",
   "execution_count": null,
   "id": "51899386-0881-46fe-9c53-49ec54f1e390",
   "metadata": {},
   "outputs": [],
   "source": []
  },
  {
   "cell_type": "code",
   "execution_count": null,
   "id": "8ff49953-ff9b-46c9-aa65-59334331e026",
   "metadata": {},
   "outputs": [],
   "source": []
  },
  {
   "cell_type": "code",
   "execution_count": null,
   "id": "adcfdc36-cbc7-4cd7-9fd6-63023e7786ed",
   "metadata": {},
   "outputs": [],
   "source": []
  },
  {
   "cell_type": "code",
   "execution_count": null,
   "id": "f69876bc-133b-4de6-abe5-191c407fa0c7",
   "metadata": {},
   "outputs": [],
   "source": []
  }
 ],
 "metadata": {
  "kernelspec": {
   "display_name": "Python 3 (ipykernel)",
   "language": "python",
   "name": "python3"
  },
  "language_info": {
   "codemirror_mode": {
    "name": "ipython",
    "version": 3
   },
   "file_extension": ".py",
   "mimetype": "text/x-python",
   "name": "python",
   "nbconvert_exporter": "python",
   "pygments_lexer": "ipython3",
   "version": "3.11.5"
  }
 },
 "nbformat": 4,
 "nbformat_minor": 5
}
