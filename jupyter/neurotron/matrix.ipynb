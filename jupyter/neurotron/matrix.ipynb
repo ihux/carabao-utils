{
 "cells": [
  {
   "cell_type": "code",
   "execution_count": 11,
   "id": "096e4b44-6891-4b04-95fd-c3c08051afc3",
   "metadata": {},
   "outputs": [],
   "source": [
    "# test class Matrix and class Tensor\n",
    "\n",
    "from numpy import array, zeros\n",
    "from carabao.matrix import Matrix,Tensor, rand,eye,zeros,ones,size\n"
   ]
  },
  {
   "cell_type": "code",
   "execution_count": 12,
   "id": "c4c9b6c3-baa3-403d-b041-252a3fb3f845",
   "metadata": {},
   "outputs": [
    {
     "data": {
      "text/plain": [
       "[0 0 0; 0 0 0]"
      ]
     },
     "execution_count": 12,
     "metadata": {},
     "output_type": "execute_result"
    }
   ],
   "source": [
    "A=Matrix(2,3);A"
   ]
  },
  {
   "cell_type": "code",
   "execution_count": 13,
   "id": "673b578b-1572-48e6-906b-c948b883a5b2",
   "metadata": {},
   "outputs": [
    {
     "data": {
      "text/plain": [
       "[0.5 0.5 0.5; 0.5 0.5 0.5]"
      ]
     },
     "execution_count": 13,
     "metadata": {},
     "output_type": "execute_result"
    }
   ],
   "source": [
    "A+0.5"
   ]
  },
  {
   "cell_type": "code",
   "execution_count": 14,
   "id": "e0eddbb1-d3b1-4514-aa2d-5e269d7e337f",
   "metadata": {},
   "outputs": [
    {
     "data": {
      "text/plain": [
       "[]"
      ]
     },
     "execution_count": 14,
     "metadata": {},
     "output_type": "execute_result"
    }
   ],
   "source": [
    "Matrix()"
   ]
  },
  {
   "cell_type": "code",
   "execution_count": 15,
   "id": "be2096d1-a477-43e5-a252-e2d1002ee800",
   "metadata": {},
   "outputs": [
    {
     "data": {
      "text/plain": [
       "[0.5 0.5; 0.5 0.5; 0.5 0.5]"
      ]
     },
     "execution_count": 15,
     "metadata": {},
     "output_type": "execute_result"
    }
   ],
   "source": [
    "(A+0.5).T"
   ]
  },
  {
   "cell_type": "code",
   "execution_count": 16,
   "id": "342c65b6-b624-4d46-9fd3-64008b38075a",
   "metadata": {},
   "outputs": [
    {
     "data": {
      "text/plain": [
       "[1; 1; 1; 1; 1]"
      ]
     },
     "execution_count": 16,
     "metadata": {},
     "output_type": "execute_result"
    }
   ],
   "source": [
    "Matrix(1,5).T+1"
   ]
  },
  {
   "cell_type": "code",
   "execution_count": 17,
   "id": "4dc448f0-96be-4d49-aa7a-0f629185a00f",
   "metadata": {},
   "outputs": [
    {
     "data": {
      "text/plain": [
       "[0.343151 0.524873 0.229279 0.582856; 0.303451 0.857931 0.364582 0.641111; 0.00107667 0.43792 0.197665 0.126175]"
      ]
     },
     "execution_count": 17,
     "metadata": {},
     "output_type": "execute_result"
    }
   ],
   "source": [
    "B=rand(3,4);B\n"
   ]
  },
  {
   "cell_type": "code",
   "execution_count": 26,
   "id": "247fde98-c0be-4643-9437-8e3e3316a24f",
   "metadata": {},
   "outputs": [
    {
     "ename": "ValueError",
     "evalue": "The truth value of an array with more than one element is ambiguous. Use a.any() or a.all()",
     "output_type": "error",
     "traceback": [
      "\u001b[0;31m---------------------------------------------------------------------------\u001b[0m",
      "\u001b[0;31mValueError\u001b[0m                                Traceback (most recent call last)",
      "Cell \u001b[0;32mIn[26], line 1\u001b[0m\n\u001b[0;32m----> 1\u001b[0m \u001b[38;5;28;43mmax\u001b[39;49m\u001b[43m(\u001b[49m\u001b[43mB\u001b[49m\u001b[43m)\u001b[49m\n",
      "\u001b[0;31mValueError\u001b[0m: The truth value of an array with more than one element is ambiguous. Use a.any() or a.all()"
     ]
    }
   ],
   "source": [
    "max(B)"
   ]
  },
  {
   "cell_type": "code",
   "execution_count": 28,
   "id": "30715a8c-19c0-4251-8db2-ab00d7d4a3c7",
   "metadata": {},
   "outputs": [
    {
     "data": {
      "text/plain": [
       "False"
      ]
     },
     "execution_count": 28,
     "metadata": {},
     "output_type": "execute_result"
    }
   ],
   "source": [
    "(9,6)==(9,7)"
   ]
  },
  {
   "cell_type": "code",
   "execution_count": null,
   "id": "b8f7d48e-d94d-4ea8-ba5f-e6b042052e05",
   "metadata": {},
   "outputs": [],
   "source": []
  },
  {
   "cell_type": "code",
   "execution_count": null,
   "id": "125edba3-3046-4275-9adc-e74127a5127c",
   "metadata": {},
   "outputs": [],
   "source": []
  }
 ],
 "metadata": {
  "kernelspec": {
   "display_name": "Python 3 (ipykernel)",
   "language": "python",
   "name": "python3"
  },
  "language_info": {
   "codemirror_mode": {
    "name": "ipython",
    "version": 3
   },
   "file_extension": ".py",
   "mimetype": "text/x-python",
   "name": "python",
   "nbconvert_exporter": "python",
   "pygments_lexer": "ipython3",
   "version": "3.11.5"
  }
 },
 "nbformat": 4,
 "nbformat_minor": 5
}
