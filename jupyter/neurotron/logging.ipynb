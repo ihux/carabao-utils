{
 "cells": [
  {
   "cell_type": "code",
   "execution_count": 30,
   "id": "9ea0c8fe-4dcc-4ef3-b046-77d6ebfd353c",
   "metadata": {},
   "outputs": [],
   "source": [
    "#===============================================================================\n",
    "# class: Pulse\n",
    "#===============================================================================\n",
    "\n",
    "class Pulse:\n",
    "    \"\"\"\n",
    "    pulse: pulse unit\n",
    "    >>> u=Pulse(2,3)\n",
    "    >>> for i in range(6): o = u(int(i<1),'u%g:'%i)\n",
    "    u0:  1 -> ([1,0,0],0/3) -> 0\n",
    "    u1:  0 -> ([0,1,0],0/3) -> 0\n",
    "    u2:  0 -> ([0,0,1],3/3) -> 1\n",
    "    u3:  0 -> ([0,0,0],2/3) -> 1\n",
    "    u4:  0 -> ([0,0,0],1/3) -> 1\n",
    "    u5:  0 -> ([0,0,0],0/3) -> 0\n",
    "    >>> i = u.inp()                     # retrieve recent input\n",
    "    >>> o = u.out()                     # get pulse output\n",
    "    >>> u.set(1)                        # set output 1 (over full duty)\n",
    "    \"\"\"\n",
    "    def __init__(self,lag,duty,name=None):\n",
    "        def zeros(n): return [0 for k in range(0,n)]\n",
    "        self.name = name                # name header\n",
    "        self.n = duty                  # duty = pulse length\n",
    "        self.s = zeros(lag+1)          # shift register\n",
    "        self.c = 0                     # counter\n",
    "\n",
    "    def feed(self,u):\n",
    "        self.s = [u] + self.s[:-1]\n",
    "        self.c = self.n if self.s[-1] > 0 else max(0,self.c-1)\n",
    "        if self.name is not None: print(self)\n",
    "        return self.out()\n",
    "\n",
    "    def inp(self): return self.s[0]\n",
    "    def out(self): return (self.c > 0) + 0\n",
    "    def set(self,val,log=None):\n",
    "        self.c = self.n if val > 0 else 0\n",
    "        if log is not None:\n",
    "            print(log,self)\n",
    "\n",
    "    def __call__(self,u,log=None):\n",
    "        y = self.feed(u)\n",
    "        if log is not None:\n",
    "            print(log,self)\n",
    "        return y\n",
    "\n",
    "    def Orig__repr__(self):\n",
    "        def string(l):\n",
    "            s = '['; sep = ''\n",
    "            for i in range(0,len(l)): s += sep + \"%g\"%l[i]; sep = ','\n",
    "            return s + ']'\n",
    "        o = self;  body = \"(%s,%g/%g)\" % (string(o.s),o.c,o.n)\n",
    "        name = o.name if o.name is not None else \"\"\n",
    "        return name + \" %g -> \" % o.inp() + body +  \" -> %g\" % o.out()\n",
    "\n",
    "    def __repr__(self):\n",
    "        txt ='['; sep = ''\n",
    "        for k in range(len(self.s)):\n",
    "            txt = txt + '%s%g' % (sep,self.s[k]); sep = ' '\n",
    "        return '%g -> '%self.inp() + 'Pulse: ' + txt + '] %g/%g' % (self.c,self.n) \\\n",
    "                 + ' -> %g'%self.out()"
   ]
  },
  {
   "cell_type": "code",
   "execution_count": 50,
   "id": "9470ff99-f73e-4f71-8699-160d911a7a19",
   "metadata": {},
   "outputs": [
    {
     "name": "stdout",
     "output_type": "stream",
     "text": [
      "set(1):  0 -> Pulse: [0 0 0] 3/3 -> 1\n"
     ]
    }
   ],
   "source": [
    "P=Pulse(2,3)\n",
    "P.set(1,'set(1): ')"
   ]
  },
  {
   "cell_type": "code",
   "execution_count": 32,
   "id": "8c72435e-c290-442f-a654-751ff9a8db48",
   "metadata": {},
   "outputs": [
    {
     "name": "stdout",
     "output_type": "stream",
     "text": [
      "0 -> Pulse: [0 0 0] 0/3 -> 0\n"
     ]
    }
   ],
   "source": [
    "print(P)"
   ]
  },
  {
   "cell_type": "code",
   "execution_count": 47,
   "id": "6b84453e-df0d-467c-a92a-34293a1a151b",
   "metadata": {},
   "outputs": [],
   "source": [
    "for k in range(10):\n",
    "    y = P(k<1)"
   ]
  },
  {
   "cell_type": "code",
   "execution_count": 49,
   "id": "fe254af2-57f6-4b68-9abe-541bd899a954",
   "metadata": {},
   "outputs": [
    {
     "name": "stdout",
     "output_type": "stream",
     "text": [
      "??? 0 -> Pulse: [0 0 0] 3/3 -> 1\n"
     ]
    }
   ],
   "source": [
    "P.set(1,'???')"
   ]
  },
  {
   "cell_type": "code",
   "execution_count": null,
   "id": "e93b69e4-bf7f-40ad-b5d7-60654a381bc2",
   "metadata": {},
   "outputs": [],
   "source": []
  }
 ],
 "metadata": {
  "kernelspec": {
   "display_name": "Python 3 (ipykernel)",
   "language": "python",
   "name": "python3"
  },
  "language_info": {
   "codemirror_mode": {
    "name": "ipython",
    "version": 3
   },
   "file_extension": ".py",
   "mimetype": "text/x-python",
   "name": "python",
   "nbconvert_exporter": "python",
   "pygments_lexer": "ipython3",
   "version": "3.11.5"
  }
 },
 "nbformat": 4,
 "nbformat_minor": 5
}
