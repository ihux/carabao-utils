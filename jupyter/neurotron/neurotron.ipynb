{
 "cells": [
  {
   "cell_type": "code",
   "execution_count": 92,
   "id": "c8d94d08-9084-4205-8aa0-e65a9f6347fc",
   "metadata": {},
   "outputs": [],
   "source": [
    "#=======================================================================================\n",
    "# class: Pulse\n",
    "#=======================================================================================\n",
    "\n",
    "class Pulse:\n",
    "    \"\"\"\n",
    "    pulse: pulse unit\n",
    "    >>> o = Pulse(lag=2,duty=3)                # mandatory args\n",
    "    >>> o = Pulse(lag=2,duty=3,log=\"P2/3\")     # set log text\n",
    "    >>> y = o.feed(u)                          # feed with new input, return new output\n",
    "    >>> u = o.inp()                            # retrieve recent input\n",
    "    >>> y = o.out()                            # get pulse output\n",
    "    \"\"\"\n",
    "    def __init__(self,lag,duty,log=None):\n",
    "        def zeros(n): return [0 for k in range(0,n)]\n",
    "        self.head = log                # log header\n",
    "        self.n = duty                  # duty = pulse length\n",
    "        self.s = zeros(lag+1)          # shift register\n",
    "        self.c = 0                     # counter\n",
    "\n",
    "    def feed(self,u):\n",
    "        self.s = [u] + self.s[:-1]\n",
    "        self.c = self.n if self.s[-1] > 0 else max(0,self.c-1)\n",
    "        if self.head is not None: print(self)\n",
    "        return self.out()\n",
    "            \n",
    "    def inp(self): return self.s[0]\n",
    "    def out(self): return (self.c > 0) + 0\n",
    "    \n",
    "    def __repr__(self):\n",
    "        def string(l):\n",
    "            s = '['; sep = ''\n",
    "            for i in range(0,len(l)): s += sep + \"%g\"%l[i]; sep = ','\n",
    "            return s + ']'\n",
    "        o = self;  body = \"(%s,%g/%g)\" % (string(o.s),o.c,o.n)\n",
    "        return o.head + \" %g -> \" % o.inp() + body +  \" -> %g\" % o.out()"
   ]
  },
  {
   "cell_type": "code",
   "execution_count": 93,
   "id": "faf1dd26-aa3b-4d5c-abfa-2c4ef9959067",
   "metadata": {},
   "outputs": [
    {
     "name": "stdout",
     "output_type": "stream",
     "text": [
      "Pulse(2,3): 4 -> ([4,0,0],0/3) -> 0\n",
      "Pulse(2,3): 5 -> ([5,4,0],0/3) -> 0\n",
      "Pulse(2,3): 6 -> ([6,5,4],3/3) -> 1\n",
      "Pulse(2,3): 0 -> ([0,6,5],3/3) -> 1\n"
     ]
    }
   ],
   "source": [
    "pls = Pulse(2,3,log=\"Pulse(2,3):\")\n",
    "pls.feed(4); \n",
    "pls.feed(5); \n",
    "pls.feed(6); \n",
    "pls.feed(0); "
   ]
  },
  {
   "cell_type": "code",
   "execution_count": 94,
   "id": "259f847d-2f67-46a9-aeda-f2d61bd0b6ae",
   "metadata": {},
   "outputs": [
    {
     "name": "stdout",
     "output_type": "stream",
     "text": [
      "Pulse(2,3): 1 -> ([1,0,0],0/3) -> 0\n",
      "Pulse(2,3): 0 -> ([0,1,0],0/3) -> 0\n",
      "Pulse(2,3): 0 -> ([0,0,1],3/3) -> 1\n",
      "Pulse(2,3): 0 -> ([0,0,0],2/3) -> 1\n",
      "Pulse(2,3): 0 -> ([0,0,0],1/3) -> 1\n",
      "Pulse(2,3): 0 -> ([0,0,0],0/3) -> 0\n"
     ]
    },
    {
     "data": {
      "text/plain": [
       "((1, 0, 0, 0, 0, 0), (0, 0, 1, 1, 1, 0))"
      ]
     },
     "execution_count": 94,
     "metadata": {},
     "output_type": "execute_result"
    }
   ],
   "source": [
    "p = Pulse(2,3,log=\"Pulse(2,3):\")\n",
    "y0 = p.feed(u0:=1); \n",
    "y1 = p.feed(u1:=0);\n",
    "y2 = p.feed(u2:=0);\n",
    "y3 = p.feed(u3:=0);\n",
    "y4 = p.feed(u4:=0);\n",
    "y5 = p.feed(u5:=0);\n",
    "((u0,u1,u2,u3,u4,u5),(y0,y1,y2,y3,y4,y5))"
   ]
  },
  {
   "cell_type": "code",
   "execution_count": 95,
   "id": "29997f46-fd66-45f0-b26e-aea75461c503",
   "metadata": {},
   "outputs": [
    {
     "name": "stdout",
     "output_type": "stream",
     "text": [
      "Pulse(2,3): 1 -> ([1,0,0],0/3) -> 0\n",
      "Pulse(2,3): 0 -> ([0,1,0],0/3) -> 0\n",
      "Pulse(2,3): 0 -> ([0,0,1],3/3) -> 1\n",
      "Pulse(2,3): 1 -> ([1,0,0],2/3) -> 1\n",
      "Pulse(2,3): 0 -> ([0,1,0],1/3) -> 1\n",
      "Pulse(2,3): 0 -> ([0,0,1],3/3) -> 1\n"
     ]
    }
   ],
   "source": [
    "p = Pulse(2,3,log=\"Pulse(2,3):\")\n",
    "p.feed(1); \n",
    "p.feed(0);\n",
    "p.feed(0);\n",
    "p.feed(1);\n",
    "p.feed(0);\n",
    "p.feed(0);"
   ]
  },
  {
   "cell_type": "code",
   "execution_count": 96,
   "id": "1abf136f-a9e9-418d-bd02-5563ab5b2329",
   "metadata": {},
   "outputs": [
    {
     "name": "stdout",
     "output_type": "stream",
     "text": [
      "Pulse(2,3): 1 -> ([1,0],0/1) -> 0\n",
      "Pulse(2,3): 0 -> ([0,1],1/1) -> 1\n",
      "Pulse(2,3): 0 -> ([0,0],0/1) -> 0\n",
      "Pulse(2,3): 0 -> ([0,0],0/1) -> 0\n"
     ]
    },
    {
     "data": {
      "text/plain": [
       "((1, 0, 0, 0), (0, 1, 0, 0))"
      ]
     },
     "execution_count": 96,
     "metadata": {},
     "output_type": "execute_result"
    }
   ],
   "source": [
    "p = Pulse(1,1,log=\"Pulse(2,3):\")\n",
    "y0 = p.feed(u0:=1); \n",
    "y1 = p.feed(u1:=0);\n",
    "y2 = p.feed(u2:=0);\n",
    "y3 = p.feed(u3:=0);\n",
    "((u0,u1,u2,u3),(y0,y1,y2,y3))"
   ]
  },
  {
   "cell_type": "code",
   "execution_count": 97,
   "id": "60ded18d-3a13-47e3-ba14-8fbf5669fe77",
   "metadata": {},
   "outputs": [
    {
     "name": "stdout",
     "output_type": "stream",
     "text": [
      "Pulse(0,3): 1 -> ([1],3/3) -> 1\n",
      "Pulse(0,3): 0 -> ([0],2/3) -> 1\n",
      "Pulse(0,3): 0 -> ([0],1/3) -> 1\n",
      "Pulse(0,3): 0 -> ([0],0/3) -> 0\n"
     ]
    },
    {
     "data": {
      "text/plain": [
       "((1, 0, 0, 0), (1, 1, 1, 0))"
      ]
     },
     "execution_count": 97,
     "metadata": {},
     "output_type": "execute_result"
    }
   ],
   "source": [
    "p = Pulse(0,3,log=\"Pulse(0,3):\")\n",
    "y0 = p.feed(u0:=1); \n",
    "y1 = p.feed(u1:=0);\n",
    "y2 = p.feed(u2:=0);\n",
    "y3 = p.feed(u3:=0);\n",
    "((u0,u1,u2,u3),(y0,y1,y2,y3))"
   ]
  },
  {
   "cell_type": "code",
   "execution_count": null,
   "id": "4e9afaf5-a77f-4c33-be1a-559cc1e94b4f",
   "metadata": {},
   "outputs": [],
   "source": []
  },
  {
   "cell_type": "code",
   "execution_count": null,
   "id": "502a8434-5bb4-4172-98eb-1c942de774e8",
   "metadata": {},
   "outputs": [],
   "source": []
  },
  {
   "cell_type": "code",
   "execution_count": null,
   "id": "c04fb219-9715-4d4d-aa66-1a852da3f7ba",
   "metadata": {},
   "outputs": [],
   "source": []
  }
 ],
 "metadata": {
  "kernelspec": {
   "display_name": "Python 3 (ipykernel)",
   "language": "python",
   "name": "python3"
  },
  "language_info": {
   "codemirror_mode": {
    "name": "ipython",
    "version": 3
   },
   "file_extension": ".py",
   "mimetype": "text/x-python",
   "name": "python",
   "nbconvert_exporter": "python",
   "pygments_lexer": "ipython3",
   "version": "3.11.5"
  }
 },
 "nbformat": 4,
 "nbformat_minor": 5
}
