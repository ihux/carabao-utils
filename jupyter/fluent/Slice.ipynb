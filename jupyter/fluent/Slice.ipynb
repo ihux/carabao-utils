{
 "cells": [
  {
   "cell_type": "code",
   "execution_count": 3,
   "id": "06df24cc-74f8-49a5-8658-f444e130d9f0",
   "metadata": {},
   "outputs": [
    {
     "name": "stdout",
     "output_type": "stream",
     "text": [
      "Original matrix\n",
      "[[11 12 13]\n",
      " [21 22 23]\n",
      " [31 32 33]]\n"
     ]
    }
   ],
   "source": [
    "# NumPy Slices\n",
    "\n",
    "import numpy as np\n",
    "\n",
    "mat = np.array([[11,12,13],[21,22,23],[31,32,33]])\n",
    "print(\"Original matrix\")\n",
    "print(mat)\n"
   ]
  },
  {
   "cell_type": "code",
   "execution_count": 4,
   "id": "8ccb597a-62a2-4a94-a79f-00cf3b2c6f1c",
   "metadata": {},
   "outputs": [
    {
     "name": "stdout",
     "output_type": "stream",
     "text": [
      "\n",
      "Sliced matrix\n",
      "[[11 12]\n",
      " [21 22]]\n"
     ]
    }
   ],
   "source": [
    "mat_slice = mat[:2,:2] # Simple indexing\n",
    "print (\"\\nSliced matrix\")\n",
    "print(mat_slice)\n"
   ]
  },
  {
   "cell_type": "code",
   "execution_count": 8,
   "id": "77fc7854-be2c-418a-a237-a48b77ab7de2",
   "metadata": {},
   "outputs": [
    {
     "name": "stdout",
     "output_type": "stream",
     "text": [
      "\n",
      "Change the sliced matrix\n"
     ]
    },
    {
     "data": {
      "text/plain": [
       "array([[1000,   12],\n",
       "       [  21,   22]])"
      ]
     },
     "execution_count": 8,
     "metadata": {},
     "output_type": "execute_result"
    }
   ],
   "source": [
    "print (\"\\nChange the sliced matrix\")\n",
    "mat_slice[0,0] = 1000\n",
    "mat_slice"
   ]
  },
  {
   "cell_type": "code",
   "execution_count": 6,
   "id": "d4d6ac3b-7598-49ad-ad04-821131fdc046",
   "metadata": {},
   "outputs": [
    {
     "name": "stdout",
     "output_type": "stream",
     "text": [
      "\n",
      "But the original matrix? WHOA! It got changed too!\n",
      "[[1000   12   13]\n",
      " [  21   22   23]\n",
      " [  31   32   33]]\n"
     ]
    }
   ],
   "source": [
    "print(\"\\nBut the original matrix? WHOA! It got changed too!\")\n",
    "print(mat)"
   ]
  },
  {
   "cell_type": "code",
   "execution_count": 9,
   "id": "9fbccedf-5d97-400a-af7b-96245faaaa27",
   "metadata": {},
   "outputs": [
    {
     "data": {
      "text/plain": [
       "array([[1000,   12,   13],\n",
       "       [  21,   22,   23],\n",
       "       [  31,   32,   33]])"
      ]
     },
     "execution_count": 9,
     "metadata": {},
     "output_type": "execute_result"
    }
   ],
   "source": [
    "# Filter array by indices\n",
    "mat"
   ]
  },
  {
   "cell_type": "code",
   "execution_count": 16,
   "id": "fd00b042-a342-4a3b-a4f4-b837f36f7302",
   "metadata": {},
   "outputs": [
    {
     "data": {
      "text/plain": [
       "array([1000,   21,   31,   12,   22,   32,   13,   23,   33])"
      ]
     },
     "execution_count": 16,
     "metadata": {},
     "output_type": "execute_result"
    }
   ],
   "source": [
    "F = mat.flatten('F')\n",
    "F"
   ]
  },
  {
   "cell_type": "code",
   "execution_count": 20,
   "id": "fe81455d-e4ef-4756-aa26-abc5f3d4f8aa",
   "metadata": {},
   "outputs": [
    {
     "data": {
      "text/plain": [
       "array([31, 12])"
      ]
     },
     "execution_count": 20,
     "metadata": {},
     "output_type": "execute_result"
    }
   ],
   "source": [
    "F[[2,3]]"
   ]
  },
  {
   "cell_type": "code",
   "execution_count": 30,
   "id": "8070343c-fed5-4ada-b7f8-5206b9b0280c",
   "metadata": {},
   "outputs": [
    {
     "data": {
      "text/plain": [
       "array([0, 1, 2, 3])"
      ]
     },
     "execution_count": 30,
     "metadata": {},
     "output_type": "execute_result"
    }
   ],
   "source": [
    "g=np.array((0,1,2,3))\n",
    "g"
   ]
  },
  {
   "cell_type": "code",
   "execution_count": 64,
   "id": "4521d6c9-bd61-452e-b724-db6b9dd948ff",
   "metadata": {},
   "outputs": [
    {
     "data": {
      "text/plain": [
       "[1, 2, 3, 4]"
      ]
     },
     "execution_count": 64,
     "metadata": {},
     "output_type": "execute_result"
    }
   ],
   "source": [
    "g=list((1,2,3,4))\n",
    "g"
   ]
  },
  {
   "cell_type": "code",
   "execution_count": 65,
   "id": "98268416-ed3d-4050-97f9-2cea2cb0fada",
   "metadata": {},
   "outputs": [
    {
     "name": "stdout",
     "output_type": "stream",
     "text": [
      "lst: [0, 1, 2, 3]\n",
      "type(lst): list\n"
     ]
    }
   ],
   "source": [
    "lst = [0,1,2,3]\n",
    "print(\"lst:\",lst)\n",
    "print(\"type(lst):\",type(lst).__name__)"
   ]
  },
  {
   "cell_type": "code",
   "execution_count": 66,
   "id": "4b704d3d-18fc-4539-b40a-b6da115d1a3c",
   "metadata": {},
   "outputs": [
    {
     "name": "stdout",
     "output_type": "stream",
     "text": [
      "tup: (1, 2, 3)\n",
      "type(tup): tuple\n"
     ]
    }
   ],
   "source": [
    "tup=(1,2,3)\n",
    "print(\"tup:\",tup)\n",
    "print(\"type(tup):\",type(tup).__name__)"
   ]
  },
  {
   "cell_type": "code",
   "execution_count": 85,
   "id": "b3daf215-4ecb-4354-a360-cee986a644df",
   "metadata": {},
   "outputs": [
    {
     "name": "stdout",
     "output_type": "stream",
     "text": [
      "a: [0 1 2 3]\n",
      "g: [0 1 2 3]\n",
      "x: [ 0  1  2  3  4  5  6  7  8  9 10 11]\n",
      "type(x): ndarray\n",
      "X:\n",
      " [[ 0  3  6  9]\n",
      " [ 1  4  7 10]\n",
      " [ 2  5  8 11]]\n",
      "type(X): ndarray\n"
     ]
    }
   ],
   "source": [
    "a = np.array(lst)\n",
    "print(\"a:\",a)\n",
    "g = np.array([i for i in range(0,4)])\n",
    "print(\"g:\",g)\n",
    "x = np.arange(12)\n",
    "print(\"x:\",x)\n",
    "print(\"type(x):\",type(x).__name__)\n",
    "X = x.reshape(3,4,order='F')\n",
    "print(\"X:\\n\",X)\n",
    "print(\"type(X):\",type(X).__name__)\n"
   ]
  },
  {
   "cell_type": "code",
   "execution_count": 86,
   "id": "63fc2083-288a-4104-8e5d-452c2b7def38",
   "metadata": {},
   "outputs": [
    {
     "name": "stdout",
     "output_type": "stream",
     "text": [
      "\n",
      "Sliced matrix\n",
      "[[0 3]\n",
      " [1 4]]\n"
     ]
    }
   ],
   "source": [
    "x_slice = X[:2,:2] # Simple indexing\n",
    "print (\"\\nSliced matrix\")\n",
    "print(x_slice)\n"
   ]
  },
  {
   "cell_type": "code",
   "execution_count": 88,
   "id": "0387edab-649e-4c7c-9d34-e1fce48c614d",
   "metadata": {},
   "outputs": [
    {
     "name": "stdout",
     "output_type": "stream",
     "text": [
      "x_slice [[  0   3]\n",
      " [  1 555]]\n",
      "X:\n",
      " [[  0   3   6   9]\n",
      " [  1 555   7  10]\n",
      " [  2   5   8  11]]\n"
     ]
    }
   ],
   "source": [
    "x_slice[1,1]=555\n",
    "print(\"x_slice\",x_slice)\n",
    "print(\"X:\\n\",X)\n"
   ]
  },
  {
   "cell_type": "code",
   "execution_count": 92,
   "id": "8812b904-8275-41e6-8ffa-498098c5cc56",
   "metadata": {},
   "outputs": [
    {
     "data": {
      "text/plain": [
       "array([555,   5,   6,   7])"
      ]
     },
     "execution_count": 92,
     "metadata": {},
     "output_type": "execute_result"
    }
   ],
   "source": [
    "g=slice(4,8)\n",
    "x[g]"
   ]
  },
  {
   "cell_type": "code",
   "execution_count": 96,
   "id": "e1f28f1c-b87e-4ac1-9e01-842d1842357d",
   "metadata": {},
   "outputs": [],
   "source": [
    "x[6]=66"
   ]
  },
  {
   "cell_type": "code",
   "execution_count": 97,
   "id": "e2178f7e-8714-4717-8584-61d4a81bcc4a",
   "metadata": {},
   "outputs": [
    {
     "data": {
      "text/plain": [
       "array([  0,   1,  66,   3, 555,   5,  66,   7,   8,   9,  10,  11])"
      ]
     },
     "execution_count": 97,
     "metadata": {},
     "output_type": "execute_result"
    }
   ],
   "source": [
    "x"
   ]
  },
  {
   "cell_type": "code",
   "execution_count": 100,
   "id": "77164474-ad23-482a-98c7-c9303401b05d",
   "metadata": {},
   "outputs": [
    {
     "data": {
      "text/plain": [
       "array([555,   5,  66,   7])"
      ]
     },
     "execution_count": 100,
     "metadata": {},
     "output_type": "execute_result"
    }
   ],
   "source": [
    "y=x[g]\n",
    "y"
   ]
  },
  {
   "cell_type": "code",
   "execution_count": 101,
   "id": "f06614df-663c-4180-b131-c4ed99ee976b",
   "metadata": {},
   "outputs": [],
   "source": [
    "x[6] = 77"
   ]
  },
  {
   "cell_type": "code",
   "execution_count": 103,
   "id": "fdd9889e-9c54-449d-879f-99fca3b72760",
   "metadata": {},
   "outputs": [
    {
     "name": "stdout",
     "output_type": "stream",
     "text": [
      "x: [  0   1  66   3 555   5  77   7   8   9  10  11]\n",
      "y: [555   5  77   7]\n"
     ]
    }
   ],
   "source": [
    "print(\"x:\",x)\n",
    "print(\"y:\",y)"
   ]
  },
  {
   "cell_type": "code",
   "execution_count": null,
   "id": "07850fa7-f81d-4a39-8389-3b697dc9417f",
   "metadata": {},
   "outputs": [],
   "source": []
  }
 ],
 "metadata": {
  "kernelspec": {
   "display_name": "Python 3 (ipykernel)",
   "language": "python",
   "name": "python3"
  },
  "language_info": {
   "codemirror_mode": {
    "name": "ipython",
    "version": 3
   },
   "file_extension": ".py",
   "mimetype": "text/x-python",
   "name": "python",
   "nbconvert_exporter": "python",
   "pygments_lexer": "ipython3",
   "version": "3.11.5"
  }
 },
 "nbformat": 4,
 "nbformat_minor": 5
}
