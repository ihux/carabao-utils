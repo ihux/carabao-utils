{
 "cells": [
  {
   "cell_type": "code",
   "execution_count": 2,
   "id": "2739a2e9-1b19-4326-8552-cab0b00fd56b",
   "metadata": {},
   "outputs": [],
   "source": [
    "################ Lispy: Scheme Interpreter in Python 3.3+\n",
    "\n",
    "## (c) Peter Norvig, 2010-18; See http://norvig.com/lispy.html\n",
    "\n",
    "################ Imports and Types\n",
    "\n",
    "import math\n",
    "import operator as op\n",
    "from collections import ChainMap as Environment\n",
    "\n",
    "Symbol = str          # A Lisp Symbol is implemented as a Python str\n",
    "List   = list         # A Lisp List   is implemented as a Python list\n",
    "Number = (int, float) # A Lisp Number is implemented as a Python int or float\n",
    "\n",
    "class Procedure(object):\n",
    "    \"A user-defined Scheme procedure.\"\n",
    "    def __init__(self, parms, body, env):\n",
    "        self.parms, self.body, self.env = parms, body, env\n",
    "    def __call__(self, *args):\n",
    "        env =  Environment(dict(zip(self.parms, args)), self.env)\n",
    "        return eval(self.body, env)\n",
    "\n",
    "################ Global Environment\n",
    "\n",
    "def standard_env():\n",
    "    \"An environment with some Scheme standard procedures.\"\n",
    "    env = {}\n",
    "    env.update(vars(math)) # sin, cos, sqrt, pi, ...\n",
    "    env.update({\n",
    "        '+':op.add, '-':op.sub, '*':op.mul, '/':op.truediv,\n",
    "        '>':op.gt, '<':op.lt, '>=':op.ge, '<=':op.le, '=':op.eq,\n",
    "        'abs':     abs,\n",
    "        'append':  op.add,\n",
    "        'apply':   lambda proc, args: proc(*args),\n",
    "        'begin':   lambda *x: x[-1],\n",
    "        'car':     lambda x: x[0],\n",
    "        'cdr':     lambda x: x[1:],\n",
    "        'cons':    lambda x,y: [x] + y,\n",
    "        'eq?':     op.is_,\n",
    "        'equal?':  op.eq,\n",
    "        'length':  len,\n",
    "        'list':    lambda *x: list(x),\n",
    "        'list?':   lambda x: isinstance(x,list),\n",
    "        'map':     lambda *args: list(map(*args)),\n",
    "        'max':     max,\n",
    "        'min':     min,\n",
    "        'not':     op.not_,\n",
    "        'null?':   lambda x: x == [],\n",
    "        'number?': lambda x: isinstance(x, Number),\n",
    "        'procedure?': callable,\n",
    "        'round':   round,\n",
    "        'symbol?': lambda x: isinstance(x, Symbol),\n",
    "    })\n",
    "    return env\n",
    "\n",
    "global_env = standard_env()\n",
    "\n",
    "################ Parsing: parse, tokenize, and read_from_tokens\n",
    "\n",
    "def parse(program):\n",
    "    \"Read a Scheme expression from a string.\"\n",
    "    return read_from_tokens(tokenize(program))\n",
    "\n",
    "def tokenize(s):\n",
    "    \"Convert a string into a list of tokens.\"\n",
    "    return s.replace('(',' ( ').replace(')',' ) ').split()\n",
    "\n",
    "def read_from_tokens(tokens):\n",
    "    \"Read an expression from a sequence of tokens.\"\n",
    "    if len(tokens) == 0:\n",
    "        raise SyntaxError('unexpected EOF while reading')\n",
    "    token = tokens.pop(0)\n",
    "    if '(' == token:\n",
    "        L = []\n",
    "        while tokens[0] != ')':\n",
    "            L.append(read_from_tokens(tokens))\n",
    "        tokens.pop(0) # pop off ')'\n",
    "        return L\n",
    "    elif ')' == token:\n",
    "        raise SyntaxError('unexpected )')\n",
    "    else:\n",
    "        return atom(token)\n",
    "\n",
    "def atom(token):\n",
    "    \"Numbers become numbers; every other token is a symbol.\"\n",
    "    try: return int(token)\n",
    "    except ValueError:\n",
    "        try: return float(token)\n",
    "        except ValueError:\n",
    "            return Symbol(token)\n",
    "\n",
    "################ Interaction: A REPL\n",
    "\n",
    "def repl(prompt='lis.py> '):\n",
    "    \"A prompt-read-eval-print loop.\"\n",
    "    while True:\n",
    "        val = eval(parse(input(prompt)))\n",
    "        if val is not None:\n",
    "            print(lispstr(val))\n",
    "\n",
    "def lispstr(exp):\n",
    "    \"Convert a Python object back into a Lisp-readable string.\"\n",
    "    if isinstance(exp, List):\n",
    "        return '(' + ' '.join(map(lispstr, exp)) + ')'\n",
    "    else:\n",
    "        return str(exp)\n",
    "\n",
    "################ eval\n",
    "\n",
    "def eval(x, env=global_env):\n",
    "    \"Evaluate an expression in an environment.\"\n",
    "    if isinstance(x, Symbol):      # variable reference\n",
    "        return env[x]\n",
    "    elif not isinstance(x, List):  # constant literal\n",
    "        return x\n",
    "    elif x[0] == 'quote':          # (quote exp)\n",
    "        (_, exp) = x\n",
    "        return exp\n",
    "    elif x[0] == 'if':             # (if test conseq alt)\n",
    "        (_, test, conseq, alt) = x\n",
    "        exp = (conseq if eval(test, env) else alt)\n",
    "        return eval(exp, env)\n",
    "    elif x[0] == 'define':         # (define var exp)\n",
    "        (_, var, exp) = x\n",
    "        env[var] = eval(exp, env)\n",
    "    elif x[0] == 'lambda':         # (lambda (var...) body)\n",
    "        (_, parms, body) = x\n",
    "        return Procedure(parms, body, env)\n",
    "    else:                          # (proc arg...)\n",
    "        proc = eval(x[0], env)\n",
    "        args = [eval(exp, env) for exp in x[1:]]\n",
    "        return proc(*args)\n"
   ]
  },
  {
   "cell_type": "raw",
   "id": "949392d9-c4ce-4341-a7e0-ac1ae43fb0cc",
   "metadata": {},
   "source": [
    "repl()"
   ]
  },
  {
   "cell_type": "code",
   "execution_count": 2,
   "id": "eeead41f-66b2-49ee-96d1-e2f03f2509dd",
   "metadata": {},
   "outputs": [
    {
     "name": "stdin",
     "output_type": "stream",
     "text": [
      "lis.py>  (define f (lambda (x) (* x x)))\n",
      "lis.py>  (f 6)\n"
     ]
    },
    {
     "name": "stdout",
     "output_type": "stream",
     "text": [
      "36\n"
     ]
    },
    {
     "name": "stdin",
     "output_type": "stream",
     "text": [
      "lis.py>  (define f (lambda (x) (* x x)))\n",
      "lis.py>  (f (f 2))\n"
     ]
    },
    {
     "name": "stdout",
     "output_type": "stream",
     "text": [
      "16\n"
     ]
    },
    {
     "name": "stdin",
     "output_type": "stream",
     "text": [
      "lis.py>  exit\n"
     ]
    },
    {
     "ename": "KeyError",
     "evalue": "'exit'",
     "output_type": "error",
     "traceback": [
      "\u001b[0;31m---------------------------------------------------------------------------\u001b[0m",
      "\u001b[0;31mKeyError\u001b[0m                                  Traceback (most recent call last)",
      "Cell \u001b[0;32mIn[2], line 2\u001b[0m\n\u001b[1;32m      1\u001b[0m \u001b[38;5;28;01mfrom\u001b[39;00m \u001b[38;5;21;01mcarabao\u001b[39;00m\u001b[38;5;21;01m.\u001b[39;00m\u001b[38;5;21;01mlis\u001b[39;00m \u001b[38;5;28;01mimport\u001b[39;00m repl\n\u001b[0;32m----> 2\u001b[0m \u001b[43mrepl\u001b[49m\u001b[43m(\u001b[49m\u001b[43m)\u001b[49m\n",
      "File \u001b[0;32m~/Bluenetics/Git/Neural/carabao-utils/venv/lib/python3.11/site-packages/carabao/lis.py:97\u001b[0m, in \u001b[0;36mrepl\u001b[0;34m(prompt)\u001b[0m\n\u001b[1;32m     95\u001b[0m \u001b[38;5;124m\"\u001b[39m\u001b[38;5;124mA prompt-read-eval-print loop.\u001b[39m\u001b[38;5;124m\"\u001b[39m\n\u001b[1;32m     96\u001b[0m \u001b[38;5;28;01mwhile\u001b[39;00m \u001b[38;5;28;01mTrue\u001b[39;00m:\n\u001b[0;32m---> 97\u001b[0m     val \u001b[38;5;241m=\u001b[39m \u001b[38;5;28;43meval\u001b[39;49m\u001b[43m(\u001b[49m\u001b[43mparse\u001b[49m\u001b[43m(\u001b[49m\u001b[38;5;28;43minput\u001b[39;49m\u001b[43m(\u001b[49m\u001b[43mprompt\u001b[49m\u001b[43m)\u001b[49m\u001b[43m)\u001b[49m\u001b[43m)\u001b[49m\n\u001b[1;32m     98\u001b[0m     \u001b[38;5;28;01mif\u001b[39;00m val \u001b[38;5;129;01mis\u001b[39;00m \u001b[38;5;129;01mnot\u001b[39;00m \u001b[38;5;28;01mNone\u001b[39;00m:\n\u001b[1;32m     99\u001b[0m         \u001b[38;5;28mprint\u001b[39m(lispstr(val))\n",
      "File \u001b[0;32m~/Bluenetics/Git/Neural/carabao-utils/venv/lib/python3.11/site-packages/carabao/lis.py:113\u001b[0m, in \u001b[0;36meval\u001b[0;34m(x, env)\u001b[0m\n\u001b[1;32m    111\u001b[0m \u001b[38;5;124m\"\u001b[39m\u001b[38;5;124mEvaluate an expression in an environment.\u001b[39m\u001b[38;5;124m\"\u001b[39m\n\u001b[1;32m    112\u001b[0m \u001b[38;5;28;01mif\u001b[39;00m \u001b[38;5;28misinstance\u001b[39m(x, Symbol):      \u001b[38;5;66;03m# variable reference\u001b[39;00m\n\u001b[0;32m--> 113\u001b[0m     \u001b[38;5;28;01mreturn\u001b[39;00m \u001b[43menv\u001b[49m\u001b[43m[\u001b[49m\u001b[43mx\u001b[49m\u001b[43m]\u001b[49m\n\u001b[1;32m    114\u001b[0m \u001b[38;5;28;01melif\u001b[39;00m \u001b[38;5;129;01mnot\u001b[39;00m \u001b[38;5;28misinstance\u001b[39m(x, List):  \u001b[38;5;66;03m# constant literal\u001b[39;00m\n\u001b[1;32m    115\u001b[0m     \u001b[38;5;28;01mreturn\u001b[39;00m x\n",
      "\u001b[0;31mKeyError\u001b[0m: 'exit'"
     ]
    }
   ],
   "source": [
    "from carabao.lis import repl\n",
    "repl()"
   ]
  },
  {
   "cell_type": "code",
   "execution_count": null,
   "id": "4b0d7f83-e496-4cc4-8061-d8fedc7d711d",
   "metadata": {},
   "outputs": [],
   "source": []
  }
 ],
 "metadata": {
  "kernelspec": {
   "display_name": "Python 3 (ipykernel)",
   "language": "python",
   "name": "python3"
  },
  "language_info": {
   "codemirror_mode": {
    "name": "ipython",
    "version": 3
   },
   "file_extension": ".py",
   "mimetype": "text/x-python",
   "name": "python",
   "nbconvert_exporter": "python",
   "pygments_lexer": "ipython3",
   "version": "3.11.5"
  }
 },
 "nbformat": 4,
 "nbformat_minor": 5
}
