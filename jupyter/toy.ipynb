{
 "cells": [
  {
   "cell_type": "code",
   "execution_count": 6,
   "id": "eaf963d5-152d-4816-b5e0-a6bbb0d51d46",
   "metadata": {},
   "outputs": [],
   "source": [
    "#============================================================================\n",
    "# Toy Class\n",
    "# usage: toy = Toy()\n",
    "#        V = toy.vocab()\n",
    "#        mary = V(\"Mary\")\n",
    "#============================================================================\n",
    "\n",
    "#import htm\n",
    "\n",
    "class Toy:\n",
    "    def vocab(self):\n",
    "        V = {\"Mary\": [0,0,1,0,0,1,1,1,0,0],\n",
    "             \"John\": [1,0,0,1,0,1,1,0,0,0],\n",
    "             \"likes\":[0,1,0,0,0,0,0,1,1,1],\n",
    "             \"to\":   [0,1,0,1,1,0,0,0,0,1],\n",
    "            }\n",
    "        return V\n",
    "        \n",
    "    def layer(self):\n",
    "        return None\n",
    "\n",
    "def demo():\n",
    "    print(\"toy = Toy()\")\n",
    "    toy = Toy()\n",
    "    print(\"V = toy.vocab()\")\n",
    "    V = toy.vocab()\n",
    "    print(\"token = V['Mary']\")\n",
    "    token = V['Mary']\n",
    "    print(\"print(token)\")\n",
    "    print(token)\n"
   ]
  },
  {
   "cell_type": "code",
   "execution_count": 7,
   "id": "fdf3b942-f68a-44f5-8297-bf37ef57250b",
   "metadata": {},
   "outputs": [],
   "source": [
    "toy = Toy()\n",
    "V = toy.vocab()\n",
    "token = V['Mary']"
   ]
  },
  {
   "cell_type": "code",
   "execution_count": 8,
   "id": "5a4efe2c-87e1-41ae-b53e-088f805e4d22",
   "metadata": {},
   "outputs": [
    {
     "name": "stdout",
     "output_type": "stream",
     "text": [
      "toy = Toy()\n",
      "V = toy.vocab()\n",
      "token = V['Mary']\n",
      "print(token)\n",
      "[0, 0, 1, 0, 0, 1, 1, 1, 0, 0]\n"
     ]
    }
   ],
   "source": [
    "def demo():\n",
    "    print(\"toy = Toy()\")\n",
    "    toy = Toy()\n",
    "    print(\"V = toy.vocab()\")\n",
    "    V = toy.vocab()\n",
    "    print(\"token = V['Mary']\")\n",
    "    token = V['Mary']\n",
    "    print(\"print(token)\")\n",
    "    print(token)\n",
    "\n",
    "demo()"
   ]
  },
  {
   "cell_type": "code",
   "execution_count": null,
   "id": "59d395c0-e6dc-45cf-b63d-9854961b49c8",
   "metadata": {},
   "outputs": [],
   "source": []
  }
 ],
 "metadata": {
  "kernelspec": {
   "display_name": "Python 3 (ipykernel)",
   "language": "python",
   "name": "python3"
  },
  "language_info": {
   "codemirror_mode": {
    "name": "ipython",
    "version": 3
   },
   "file_extension": ".py",
   "mimetype": "text/x-python",
   "name": "python",
   "nbconvert_exporter": "python",
   "pygments_lexer": "ipython3",
   "version": "3.11.5"
  }
 },
 "nbformat": 4,
 "nbformat_minor": 5
}
