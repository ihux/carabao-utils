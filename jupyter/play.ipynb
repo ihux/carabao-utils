{
 "cells": [
  {
   "cell_type": "code",
   "execution_count": 9,
   "id": "f92ddd4f-106d-4b22-aef9-d42d0cbb4305",
   "metadata": {},
   "outputs": [
    {
     "name": "stdout",
     "output_type": "stream",
     "text": [
      "V:\n",
      " {'Mary': [0, 0, 1, 0, 0, 1, 1, 1, 0, 0], 'John': [1, 0, 0, 1, 0, 1, 1, 0, 0, 0], 'likes': [0, 1, 0, 0, 0, 0, 0, 1, 1, 1], 'to': [0, 1, 0, 1, 1, 0, 0, 0, 0, 1]}\n",
      "u:\n",
      " [0, 0, 1, 0, 0, 1, 1, 1, 0, 0]\n",
      "\n",
      "\n",
      "\n"
     ]
    }
   ],
   "source": [
    "from carabao.htm import Layer\n",
    "from carabao.toy import Toy\n",
    "\n",
    "toy = Toy()\n",
    "V = toy.vocab()\n",
    "print(\"V:\\n\",V)\n",
    "\n",
    "u = V['Mary']\n",
    "print(\"u:\\n\",u)\n",
    "\n",
    "print(\"\\n\\n\")\n",
    "lay = Layer(4,10,5,2)\n",
    "lay.input(u)\n",
    "#lay.print()"
   ]
  },
  {
   "cell_type": "code",
   "execution_count": 10,
   "id": "eb0c4fde-5839-4584-ab04-effe92023016",
   "metadata": {},
   "outputs": [
    {
     "data": {
      "text/plain": [
       "<carabao.htm.Layer at 0x15c13ae10>"
      ]
     },
     "execution_count": 10,
     "metadata": {},
     "output_type": "execute_result"
    }
   ],
   "source": [
    "from carabao.graphic\n"
   ]
  },
  {
   "cell_type": "code",
   "execution_count": null,
   "id": "4697b818-1f20-471b-85e4-5f867f10701b",
   "metadata": {},
   "outputs": [],
   "source": []
  }
 ],
 "metadata": {
  "kernelspec": {
   "display_name": "Python 3 (ipykernel)",
   "language": "python",
   "name": "python3"
  },
  "language_info": {
   "codemirror_mode": {
    "name": "ipython",
    "version": 3
   },
   "file_extension": ".py",
   "mimetype": "text/x-python",
   "name": "python",
   "nbconvert_exporter": "python",
   "pygments_lexer": "ipython3",
   "version": "3.11.5"
  }
 },
 "nbformat": 4,
 "nbformat_minor": 5
}
