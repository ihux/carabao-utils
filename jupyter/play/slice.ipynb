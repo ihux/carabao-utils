{
 "cells": [
  {
   "cell_type": "code",
   "execution_count": null,
   "id": "c2d6bcfe-7f9b-4861-9413-ba09a97b8a34",
   "metadata": {},
   "outputs": [],
   "source": [
    "# Slicing\n",
    "# https://towardsdatascience.com/two-cool-features-of-python-numpy-mutating-by-slicing-and-broadcasting-3b0b86e8b4c7"
   ]
  },
  {
   "cell_type": "code",
   "execution_count": 2,
   "id": "2ab13446-88e1-4ae8-baee-cf6e346b3c88",
   "metadata": {},
   "outputs": [
    {
     "name": "stdout",
     "output_type": "stream",
     "text": [
      "Original matrix\n",
      "[[11 12 13]\n",
      " [21 22 23]\n",
      " [31 32 33]]\n"
     ]
    }
   ],
   "source": [
    "import numpy as np\n",
    "\n",
    "mat = np.array([[11,12,13],[21,22,23],[31,32,33]])\n",
    "print(\"Original matrix\")\n",
    "print(mat)\n"
   ]
  },
  {
   "cell_type": "code",
   "execution_count": 4,
   "id": "a9044528-d5e5-4174-ae3b-53ee296e112e",
   "metadata": {},
   "outputs": [
    {
     "name": "stdout",
     "output_type": "stream",
     "text": [
      "\n",
      "Sliced matrix\n",
      "[[11 12]\n",
      " [21 22]]\n"
     ]
    }
   ],
   "source": [
    "mat_slice = mat[0:2,0:2]     # mat[:2,:2] # Simple indexing\n",
    "print (\"\\nSliced matrix\")\n",
    "print(mat_slice)\n"
   ]
  },
  {
   "cell_type": "code",
   "execution_count": 5,
   "id": "50477ee6-dde6-4f00-8444-6427e667f532",
   "metadata": {},
   "outputs": [
    {
     "name": "stdout",
     "output_type": "stream",
     "text": [
      "\n",
      "Change the sliced matrix\n",
      "[[1000   12]\n",
      " [  21   22]]\n",
      "\n",
      "But the original matrix? WHOA! It got changed too!\n",
      "[[1000   12   13]\n",
      " [  21   22   23]\n",
      " [  31   32   33]]\n"
     ]
    }
   ],
   "source": [
    "print (\"\\nChange the sliced matrix\")\n",
    "mat_slice[0,0] = 1000\n",
    "print (mat_slice)\n",
    "print(\"\\nBut the original matrix? WHOA! It got changed too!\")\n",
    "print(mat)"
   ]
  },
  {
   "cell_type": "code",
   "execution_count": null,
   "id": "4cfd443c-a9eb-4ede-8ca2-1c7083cfe77f",
   "metadata": {},
   "outputs": [],
   "source": []
  }
 ],
 "metadata": {
  "kernelspec": {
   "display_name": "Python 3 (ipykernel)",
   "language": "python",
   "name": "python3"
  },
  "language_info": {
   "codemirror_mode": {
    "name": "ipython",
    "version": 3
   },
   "file_extension": ".py",
   "mimetype": "text/x-python",
   "name": "python",
   "nbconvert_exporter": "python",
   "pygments_lexer": "ipython3",
   "version": "3.11.5"
  }
 },
 "nbformat": 4,
 "nbformat_minor": 5
}
