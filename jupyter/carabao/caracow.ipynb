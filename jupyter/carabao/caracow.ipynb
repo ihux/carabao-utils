{
 "cells": [
  {
   "cell_type": "code",
   "execution_count": 2,
   "id": "c8431365-e4a2-416b-a44d-534eaba0da0e",
   "metadata": {},
   "outputs": [
    {
     "data": {
      "text/plain": [
       "struct({'pi': 3.14159})"
      ]
     },
     "execution_count": 2,
     "metadata": {},
     "output_type": "execute_result"
    }
   ],
   "source": [
    "from carabao import *\n",
    "\n",
    "o=Caracow()\n",
    "o.par.pi=3.14159\n",
    "s=o.par\n",
    "s\n",
    "#o('[a b c; 5 6 7]')\n",
    "#o[((1,2,3),(5,6,7))]"
   ]
  },
  {
   "cell_type": "code",
   "execution_count": null,
   "id": "13fd8106-ee8e-4b0c-aa3f-34514a833e37",
   "metadata": {},
   "outputs": [],
   "source": []
  },
  {
   "cell_type": "code",
   "execution_count": 3,
   "id": "9fb4cfe4-727c-4ad9-9de8-94fa03264eb7",
   "metadata": {},
   "outputs": [
    {
     "data": {
      "text/plain": [
       "struct({'type': 'test', 'tag': 'Caracow', 'par': struct({}), 'data': (), 'work': struct({})})"
      ]
     },
     "execution_count": 3,
     "metadata": {},
     "output_type": "execute_result"
    }
   ],
   "source": [
    "o=Caracow('test')\n",
    "bag=o.pack()\n",
    "bag"
   ]
  },
  {
   "cell_type": "code",
   "execution_count": 4,
   "id": "226bfea7-12d5-4523-8cf4-2b8938c3e2ab",
   "metadata": {},
   "outputs": [
    {
     "name": "stdout",
     "output_type": "stream",
     "text": [
      "<Caracow test>\n"
     ]
    }
   ],
   "source": [
    "oo=Caracow(o)\n",
    "print(o)"
   ]
  },
  {
   "cell_type": "code",
   "execution_count": 3,
   "id": "8a9cd6b3-1d41-488f-bd75-b5073d39f80b",
   "metadata": {},
   "outputs": [
    {
     "name": "stdout",
     "output_type": "stream",
     "text": [
      "Help on class Caracow in module carabao:\n",
      "\n",
      "class Caracow(builtins.object)\n",
      " |  Caracow(arg=None)\n",
      " |  \n",
      " |  CARACOW: one of the two basis classes of Carabao class\n",
      " |  \n",
      " |              o = Caracow()     % default construction\n",
      " |              o = Caracow(tag)  % construct with specific tag\n",
      " |              oo = Caracow(o)   % copy constructor\n",
      " |  \n",
      " |  Methods defined here:\n",
      " |  \n",
      " |  __init__(self, arg=None)\n",
      " |      Initialize self.  See help(type(self)) for accurate signature.\n",
      " |  \n",
      " |  __repr__(self)\n",
      " |      Return repr(self).\n",
      " |  \n",
      " |  __str__(self)\n",
      " |      Return str(self).\n",
      " |  \n",
      " |  pack(self)\n",
      " |      PACK:  pack Caracow object into a structure\n",
      " |      \n",
      " |             see also: Caracow\n",
      " |  \n",
      " |  ----------------------------------------------------------------------\n",
      " |  Data descriptors defined here:\n",
      " |  \n",
      " |  __dict__\n",
      " |      dictionary for instance variables (if defined)\n",
      " |  \n",
      " |  __weakref__\n",
      " |      list of weak references to the object (if defined)\n",
      "\n"
     ]
    }
   ],
   "source": [
    "from carabao import *\n",
    "help(Caracow)"
   ]
  },
  {
   "cell_type": "code",
   "execution_count": 1,
   "id": "68676292-b11c-4eff-9812-8453d78321e3",
   "metadata": {},
   "outputs": [
    {
     "name": "stdout",
     "output_type": "stream",
     "text": [
      "Help on function pack in module carabao:\n",
      "\n",
      "pack(self)\n",
      "    PACK:  pack Caracow object into a structure\n",
      "    \n",
      "           see also: Caracow\n",
      "\n"
     ]
    }
   ],
   "source": [
    "from carabao import *\n",
    "help(Caracow.pack)"
   ]
  },
  {
   "cell_type": "code",
   "execution_count": 14,
   "id": "a803c07f-94d2-48bf-a0a8-d9601d517290",
   "metadata": {},
   "outputs": [
    {
     "data": {
      "text/plain": [
       "struct({'type': 'shell', 'tag': 'Caracow', 'par': struct({}), 'data': (), 'work': struct({})})"
      ]
     },
     "execution_count": 14,
     "metadata": {},
     "output_type": "execute_result"
    }
   ],
   "source": [
    "Caracow().pack()"
   ]
  },
  {
   "cell_type": "code",
   "execution_count": 18,
   "id": "9caf6894-f858-4ea7-aeee-4378ba26b983",
   "metadata": {},
   "outputs": [
    {
     "data": {
      "text/plain": [
       "Caracow()"
      ]
     },
     "execution_count": 18,
     "metadata": {},
     "output_type": "execute_result"
    }
   ],
   "source": [
    "o=Caracow('cute')\n",
    "bag=o.pack()\n",
    "oo=Caracow(bag)\n",
    "oo"
   ]
  },
  {
   "cell_type": "code",
   "execution_count": 2,
   "id": "60dc5612-8709-4026-822a-914fdc78ac5d",
   "metadata": {},
   "outputs": [
    {
     "data": {
      "text/plain": [
       "'*** bullshit ***'"
      ]
     },
     "execution_count": 2,
     "metadata": {},
     "output_type": "execute_result"
    }
   ],
   "source": [
    "from carabao import *\n",
    "o=Carashit()\n",
    "o.shit"
   ]
  },
  {
   "cell_type": "code",
   "execution_count": 4,
   "id": "717e6639-75da-44a9-a303-0440ef4a8c49",
   "metadata": {},
   "outputs": [
    {
     "name": "stdout",
     "output_type": "stream",
     "text": [
      "Help on package carabao:\n",
      "\n",
      "NAME\n",
      "    carabao\n",
      "\n",
      "DESCRIPTION\n",
      "    # Carabao Utilities:\n",
      "    # - class Caracow\n",
      "    # - class Carabull\n",
      "    # - class Carabao\n",
      "    # - class Carashit\n",
      "    #\n",
      "    # Try:\n",
      "    #    from carabao import *\n",
      "    #    o = Carashit()\n",
      "    #    o.shit\n",
      "\n",
      "PACKAGE CONTENTS\n",
      "    graphics\n",
      "    htm\n",
      "    math\n",
      "    screen\n",
      "    toy\n",
      "    util\n",
      "\n",
      "CLASSES\n",
      "    builtins.object\n",
      "        Carashit\n",
      "    \n",
      "    class Carashit(builtins.object)\n",
      "     |  Methods defined here:\n",
      "     |  \n",
      "     |  __init__(self)\n",
      "     |      Initialize self.  See help(type(self)) for accurate signature.\n",
      "     |  \n",
      "     |  ----------------------------------------------------------------------\n",
      "     |  Data descriptors defined here:\n",
      "     |  \n",
      "     |  __dict__\n",
      "     |      dictionary for instance variables (if defined)\n",
      "     |  \n",
      "     |  __weakref__\n",
      "     |      list of weak references to the object (if defined)\n",
      "\n",
      "FILE\n",
      "    /Users/hux/Bluenetics/Git/Neural/carabao-utils/venv/lib/python3.11/site-packages/carabao/__init__.py\n",
      "\n",
      "\n"
     ]
    }
   ],
   "source": [
    "import carabao\n",
    "help(carabao)"
   ]
  },
  {
   "cell_type": "code",
   "execution_count": 5,
   "id": "e229c8be-e882-4b63-9b29-7d6daee4eb6d",
   "metadata": {},
   "outputs": [
    {
     "name": "stdout",
     "output_type": "stream",
     "text": [
      "Help on class Caracow in module carabao:\n",
      "\n",
      "class Caracow(builtins.object)\n",
      " |  Caracow(arg=None)\n",
      " |  \n",
      " |  CARACOW: one of the two basis classes of Carabao class\n",
      " |  \n",
      " |              o = Caracow()     % default construction\n",
      " |              o = Caracow(tag)  % construct with specific tag\n",
      " |              oo = Caracow(o)   % copy constructor\n",
      " |  \n",
      " |  Methods defined here:\n",
      " |  \n",
      " |  __init__(self, arg=None)\n",
      " |      Initialize self.  See help(type(self)) for accurate signature.\n",
      " |  \n",
      " |  __repr__(self)\n",
      " |      Return repr(self).\n",
      " |  \n",
      " |  __str__(self)\n",
      " |      Return str(self).\n",
      " |  \n",
      " |  pack(self)\n",
      " |      PACK:  pack Caracow object into a structure\n",
      " |      \n",
      " |             see also: Caracow\n",
      " |  \n",
      " |  ----------------------------------------------------------------------\n",
      " |  Data descriptors defined here:\n",
      " |  \n",
      " |  __dict__\n",
      " |      dictionary for instance variables (if defined)\n",
      " |  \n",
      " |  __weakref__\n",
      " |      list of weak references to the object (if defined)\n",
      "\n"
     ]
    }
   ],
   "source": [
    "help(Caracow)"
   ]
  },
  {
   "cell_type": "code",
   "execution_count": 4,
   "id": "4d0ec56c-d902-48bc-8d95-d947c101f2d2",
   "metadata": {},
   "outputs": [],
   "source": [
    "import torch\n",
    "A=torch.tensor([[1,2,3],[4,5,6]])\n",
    "B=A+2"
   ]
  },
  {
   "cell_type": "code",
   "execution_count": null,
   "id": "b0a6b0c1-4168-450b-8b82-4824951e2027",
   "metadata": {},
   "outputs": [],
   "source": []
  }
 ],
 "metadata": {
  "kernelspec": {
   "display_name": "Python 3 (ipykernel)",
   "language": "python",
   "name": "python3"
  },
  "language_info": {
   "codemirror_mode": {
    "name": "ipython",
    "version": 3
   },
   "file_extension": ".py",
   "mimetype": "text/x-python",
   "name": "python",
   "nbconvert_exporter": "python",
   "pygments_lexer": "ipython3",
   "version": "3.11.5"
  }
 },
 "nbformat": 4,
 "nbformat_minor": 5
}
