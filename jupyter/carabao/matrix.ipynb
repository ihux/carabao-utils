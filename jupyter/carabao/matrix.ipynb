{
 "cells": [
  {
   "cell_type": "code",
   "execution_count": 74,
   "id": "20b327b1-581d-4a3e-a67a-44eaae07295f",
   "metadata": {},
   "outputs": [],
   "source": [
    "# Matrix class\n",
    "\n",
    "import numpy as np\n",
    "from ypstruct import struct\n",
    "\n",
    "class Matrix:\n",
    "    \"\"\"\n",
    "    MATRIX: A matrix class:\n",
    "    \n",
    "       A = Matrix(2,5)\n",
    "       B = Matrix(2,5)\n",
    "       C = A+B or \n",
    "       D = A or (B and C)\n",
    "       D = C+2.45 - A*5.2\n",
    "       a12 = A[1,2]\n",
    "       A12 = A[i1,i2]          # get submatrix\n",
    "       A.set([i1,i2],A12)      # set submatrix\n",
    "       A12 = A[(1,3),(3,6)]\n",
    "       AT = A.T\n",
    "       a = A()                 \n",
    "       A = a[]                 # reshape to original matrix\n",
    "       C = A*B                 # element wise multiplication\n",
    "       b = A@x                 # oprdinary matrix multiplication\n",
    "       \n",
    "    Supporting Functions:\n",
    "\n",
    "       isa    check if object is of given type\n",
    "       rand   create random matrix\n",
    "       zeros  create matrix filled with zeros\n",
    "       ones   create matrix filled with ones\n",
    "       eye    create unity matrix\n",
    "       \n",
    "    See also: Matrix, rand, add, sub, mul, div, index\n",
    "    \"\"\"\n",
    "    def __init__(self,m=None,n=None): return init(self,m,n)\n",
    "    def __repr__(self): return repr(self)\n",
    "    def __add__(self,other): return add(self,other)\n",
    "    def __getitem__(self,i,j): return getitem(self,i,j)\n",
    "\n",
    "#============================================================================\n",
    "# a setting structure for the matrix module\n",
    "#    --matrix__.rand           # random generator object\n",
    "#    --matrix__.format         # print format\n",
    "#============================================================================\n",
    "\n",
    "__matrix__ = struct(rand=Rand(), format='short')\n",
    "\n",
    "#============================================================================\n",
    "# init Matrix        \n",
    "#============================================================================\n",
    "\n",
    "def init(o,m,n):\n",
    "        m = 0 if m == None else m\n",
    "        n = 0 if n == None else n\n",
    "        o.M = np.zeros((m,n))\n",
    "\n",
    "#============================================================================\n",
    "# string representation of Matrix        \n",
    "#============================================================================\n",
    "\n",
    "def repr(o):\n",
    "    m,n = o.M.shape\n",
    "    length = 0\n",
    "    for i in range(0,m):\n",
    "        for j in range(0,n):\n",
    "            s = \"%g\" % o.M[i,j]\n",
    "            length = max(length,len(s))\n",
    "    \n",
    "    str = \"\"\n",
    "    for i in range(0,m):\n",
    "        s = \"\"\n",
    "        for j in range(0,n):\n",
    "            if length < 5:\n",
    "                s = s + \"%5g\" % o.M[i,j]\n",
    "            elif length < 8:\n",
    "                s = s + \"%9g\" % o.M[i,j]\n",
    "            else:\n",
    "                s = s + \"%12g\" % o.M[i,j]\n",
    "        s = s + \"\\n\"\n",
    "        str = str +s\n",
    "    return str\n",
    "\n",
    "#============================================================================\n",
    "# add arg to Matrix        \n",
    "#============================================================================\n",
    "\n",
    "def add(o,other):\n",
    "    m,n = size(o)\n",
    "    result = Matrix(m,n)\n",
    "    if isa(other,'int'):\n",
    "        result.M = o.M + other\n",
    "    else:\n",
    "        result.M = o.M + other\n",
    "    return result\n",
    "\n",
    "#============================================================================\n",
    "# function isa        \n",
    "#============================================================================\n",
    "\n",
    "def isa(arg,classname):\n",
    "    \"\"\"\n",
    "    ISA  Return 1 (true) if A has the data type specified,\n",
    "         otherwise 0 (false)\n",
    "\n",
    "      ok = isa(123,'int')\n",
    "      ok = isa(3.14159,'float')\n",
    "      ok = isa(\"hello world\",'str')\n",
    "      ok = isa(Matrix(2,3),'Matrix')\n",
    "    \"\"\"\n",
    "    return int(type(arg).__name__ == classname)\n",
    "\n",
    "#============================================================================\n",
    "# matrix sizes        \n",
    "#============================================================================\n",
    "\n",
    "def size(o):\n",
    "    if isa(o,'ndarray'):\n",
    "        m,n = o.shape\n",
    "    elif isa(o,'Matrix'): \n",
    "        m,n = o.M.shape\n",
    "    else:\n",
    "        m = 1; n = 1\n",
    "    return m,n\n",
    "\n",
    "#============================================================================\n",
    "# create a random matrix        \n",
    "#============================================================================\n",
    "\n",
    "class Rand:\n",
    "    \"\"\"\n",
    "    RAND Pseudo random generator class\n",
    "\n",
    "            rg = Random            # create random generator (seed = 0)\n",
    "            rg = Random(seed)      # create random generator with given seed\n",
    "            x = rg.rand()          # get random float 0.0 <= x <= 1.0\n",
    "            n = rg.rand(nmax)      # get random integer 0 <= n < nmax\n",
    "            M = rg.rand(m,n)       # get float random matrix in interval [0,1]\n",
    "            M = rg.rand(m,n,nmax)  # get int random matrix with 0 <= M[i,j] < nmax\n",
    "    \"\"\"\n",
    "    def __init__(self,seed=None):\n",
    "        self.p = 1*2*3*5*7*11*13*17*19*23*29*31*37-1    # small prime\n",
    "        self.P = 1*2*3*5*7*11*13*17*19*23*29*31*37*41+1 # large prime\n",
    "        self.seed = 0 if seed == None else seed\n",
    "        self.seed += (self.p+1)/2 \n",
    "        \n",
    "    def rand(self,m=None,n=None,nmax=None):\n",
    "        if m == None:              # x = rg.rand()\n",
    "            self.seed = ((self.seed+1) * self.P) % self.p\n",
    "            return (self.seed / (self.p-1))\n",
    "        elif n == None:            # x = rg.rand(nmax)\n",
    "            self.seed = ((self.seed+1) * self.P) % self.p\n",
    "            return self.seed % m\n",
    "        elif nmax == None:         # x = rg.rand(m,n)\n",
    "            o = Matrix(m,n)\n",
    "            for i in range(0,m):\n",
    "                for j in range(0,n):\n",
    "                    o.M[i,j] = self.rand()\n",
    "            return o\n",
    "        else:\n",
    "            o = Matrix(m,n)\n",
    "            for i in range(0,m):\n",
    "                for j in range(0,n):\n",
    "                    o.M[i,j] = self.rand(nmax)\n",
    "            return o\n",
    "            \n",
    "def rand(m=None,n=None,nmax=None):\n",
    "    \"\"\"\n",
    "    RAND   Uniformly distributed random numbers. This function returns a\n",
    "    random scalar drawn from the uniform distribution in the interval (0,1).\n",
    "\n",
    "       X = rand\n",
    "       X = rand(n)          # n x n matrix\n",
    "       X = rand(m,n)\n",
    "       X = rand(m,n,nmax)\n",
    "       X = rand(size(A))\n",
    "    \"\"\"\n",
    "    \n",
    "    if m == None and n == None:\n",
    "        return __matrix__.rand(1,1)\n",
    "    elif n == None:\n",
    "        if type(m) is tuple:\n",
    "            m,n = m\n",
    "            return __rand__.rand(m,m)\n",
    "        else:\n",
    "            return __rand__.rand(m,m)\n",
    "    elif nmax == None:\n",
    "        return __matrix__.rand(m,n)\n",
    "    else:\n",
    "        return __rand__.rand(m,n,nmax)\n"
   ]
  },
  {
   "cell_type": "code",
   "execution_count": 73,
   "id": "afad6b7c-689c-4867-af1b-bb5725c0dd89",
   "metadata": {},
   "outputs": [
    {
     "data": {
      "text/plain": [
       "    5    2    2    6    5    4    5    6    2    4    1    1    6    1    4    1    3    4    1    2"
      ]
     },
     "execution_count": 73,
     "metadata": {},
     "output_type": "execute_result"
    }
   ],
   "source": [
    "X=rand(1,20,7)\n",
    "X\n"
   ]
  },
  {
   "cell_type": "code",
   "execution_count": 72,
   "id": "04abd937-00d4-442a-b1e7-bf9cba4ba2d5",
   "metadata": {},
   "outputs": [
    {
     "data": {
      "text/plain": [
       "    0    0    0    0    0\n",
       "    0    0    0    0    0\n",
       "    0    0    0    0    0\n",
       "    0    0    0    0    0"
      ]
     },
     "execution_count": 72,
     "metadata": {},
     "output_type": "execute_result"
    }
   ],
   "source": [
    "A=Matrix(4,5)\n",
    "A"
   ]
  },
  {
   "cell_type": "code",
   "execution_count": 43,
   "id": "a53e666c-e113-411a-aee7-f88af76c2fd8",
   "metadata": {},
   "outputs": [
    {
     "data": {
      "text/plain": [
       "    1.12e+37    1.12e+37    1.12e+37    1.12e+37    1.12e+37\n",
       "    1.12e+37    1.12e+37    1.12e+37    1.12e+37    1.12e+37\n",
       "    1.12e+37    1.12e+37    1.12e+37    1.12e+37    1.12e+37\n",
       "    1.12e+37    1.12e+37    1.12e+37    1.12e+37    1.12e+37"
      ]
     },
     "execution_count": 43,
     "metadata": {},
     "output_type": "execute_result"
    }
   ],
   "source": [
    "A=A+2.178654388\n",
    "A\n",
    "A=A+1.12e37\n",
    "A"
   ]
  },
  {
   "cell_type": "code",
   "execution_count": 16,
   "id": "a87281ba-1dd2-49e9-961e-79c71f7a9d25",
   "metadata": {},
   "outputs": [
    {
     "data": {
      "text/plain": [
       "'Matrix'"
      ]
     },
     "execution_count": 16,
     "metadata": {},
     "output_type": "execute_result"
    }
   ],
   "source": [
    "type(A).__name__"
   ]
  },
  {
   "cell_type": "code",
   "execution_count": 75,
   "id": "75a5d0c5-86d1-44f5-b632-211d40a1dd89",
   "metadata": {},
   "outputs": [
    {
     "name": "stdout",
     "output_type": "stream",
     "text": [
      "Help on class Matrix in module __main__:\n",
      "\n",
      "class Matrix(builtins.object)\n",
      " |  Matrix(m=None, n=None)\n",
      " |  \n",
      " |  MATRIX: A matrix class:\n",
      " |  \n",
      " |     A = Matrix(2,5)\n",
      " |     B = Matrix(2,5)\n",
      " |     C = A+B or \n",
      " |     D = A or (B and C)\n",
      " |     D = C+2.45 - A*5.2\n",
      " |     a12 = A[1,2]\n",
      " |     A12 = A[i1,i2]\n",
      " |     A12 = A[(1,3),(3,6)]\n",
      " |     AT = A.T\n",
      " |     a = A()                 \n",
      " |     A = a[]                 # reshape to original matrix\n",
      " |     C = A*B                 # element wise multiplication\n",
      " |     b = A@x                 # oprdinary matrix multiplication\n",
      " |     \n",
      " |  Supporting Functions:\n",
      " |  \n",
      " |     isa    check if object is of given type\n",
      " |     rand   create random matrix\n",
      " |     zeros  create matrix filled with zeros\n",
      " |     ones   create matrix filled with ones\n",
      " |     eye    create unity matrix\n",
      " |     \n",
      " |  See also: Matrix, rand, add, sub, mul, div, index\n",
      " |  \n",
      " |  Methods defined here:\n",
      " |  \n",
      " |  __add__(self, other)\n",
      " |  \n",
      " |  __getitem__(self, i, j)\n",
      " |  \n",
      " |  __init__(self, m=None, n=None)\n",
      " |      Initialize self.  See help(type(self)) for accurate signature.\n",
      " |  \n",
      " |  __repr__(self)\n",
      " |      Return repr(self).\n",
      " |  \n",
      " |  ----------------------------------------------------------------------\n",
      " |  Data descriptors defined here:\n",
      " |  \n",
      " |  __dict__\n",
      " |      dictionary for instance variables (if defined)\n",
      " |  \n",
      " |  __weakref__\n",
      " |      list of weak references to the object (if defined)\n",
      "\n"
     ]
    }
   ],
   "source": [
    "help(Matrix)"
   ]
  },
  {
   "cell_type": "code",
   "execution_count": 105,
   "id": "a708f1b4-101a-471b-8bd6-939e32c763f8",
   "metadata": {},
   "outputs": [
    {
     "data": {
      "text/plain": [
       "4"
      ]
     },
     "execution_count": 105,
     "metadata": {},
     "output_type": "execute_result"
    }
   ],
   "source": [
    "from numpy import array,matrix,ndarray\n",
    "a=array(1)\n",
    "a+3\n",
    "\n"
   ]
  },
  {
   "cell_type": "code",
   "execution_count": 106,
   "id": "04251625-6522-4da7-9b5b-a8df87115e1f",
   "metadata": {},
   "outputs": [
    {
     "name": "stdout",
     "output_type": "stream",
     "text": [
      "Original matrix\n",
      "[[11 12 13]\n",
      " [21 22 23]\n",
      " [31 32 33]]\n"
     ]
    },
    {
     "data": {
      "text/plain": [
       "'\\nmat_slice = mat[:2,:2] # Simple indexing\\nprint (\"\\nSliced matrix\")\\nprint(mat_slice)\\nprint (\"\\nChange the sliced matrix\")\\nmat_slice[0,0] = 1000\\nprint (mat_slice)\\nprint(\"\\nBut the original matrix? WHOA! It got changed too!\")\\nprint(mat)\\n'"
      ]
     },
     "execution_count": 106,
     "metadata": {},
     "output_type": "execute_result"
    }
   ],
   "source": [
    "mat = np.array([[11,12,13],[21,22,23],[31,32,33]])\n",
    "print(\"Original matrix\")\n",
    "print(mat)\n",
    "\n",
    "\"\"\"\n",
    "mat_slice = mat[:2,:2] # Simple indexing\n",
    "print (\"\\nSliced matrix\")\n",
    "print(mat_slice)\n",
    "print (\"\\nChange the sliced matrix\")\n",
    "mat_slice[0,0] = 1000\n",
    "print (mat_slice)\n",
    "print(\"\\nBut the original matrix? WHOA! It got changed too!\")\n",
    "print(mat)\n",
    "\"\"\""
   ]
  },
  {
   "cell_type": "code",
   "execution_count": 118,
   "id": "4bf29d4e-c832-47a4-8f57-fca7db58d604",
   "metadata": {},
   "outputs": [
    {
     "data": {
      "text/plain": [
       "array([[11, 12, 13]])"
      ]
     },
     "execution_count": 118,
     "metadata": {},
     "output_type": "execute_result"
    }
   ],
   "source": [
    "mat[0:1,:]"
   ]
  },
  {
   "cell_type": "code",
   "execution_count": 114,
   "id": "a5c0541d-e35d-441a-a47e-d5a7174f006e",
   "metadata": {},
   "outputs": [
    {
     "ename": "TypeError",
     "evalue": "list indices must be integers or slices, not tuple",
     "output_type": "error",
     "traceback": [
      "\u001b[0;31m---------------------------------------------------------------------------\u001b[0m",
      "\u001b[0;31mTypeError\u001b[0m                                 Traceback (most recent call last)",
      "Cell \u001b[0;32mIn[114], line 1\u001b[0m\n\u001b[0;32m----> 1\u001b[0m \u001b[43ma\u001b[49m\u001b[43m[\u001b[49m\u001b[43m:\u001b[49m\u001b[43m,\u001b[49m\u001b[38;5;241;43m2\u001b[39;49m\u001b[43m]\u001b[49m\n",
      "\u001b[0;31mTypeError\u001b[0m: list indices must be integers or slices, not tuple"
     ]
    }
   ],
   "source": [
    "a[:,2]"
   ]
  },
  {
   "cell_type": "code",
   "execution_count": null,
   "id": "8f8d874e-bfa8-4907-b07d-2e173fc02c31",
   "metadata": {},
   "outputs": [],
   "source": []
  }
 ],
 "metadata": {
  "kernelspec": {
   "display_name": "Python 3 (ipykernel)",
   "language": "python",
   "name": "python3"
  },
  "language_info": {
   "codemirror_mode": {
    "name": "ipython",
    "version": 3
   },
   "file_extension": ".py",
   "mimetype": "text/x-python",
   "name": "python",
   "nbconvert_exporter": "python",
   "pygments_lexer": "ipython3",
   "version": "3.11.5"
  }
 },
 "nbformat": 4,
 "nbformat_minor": 5
}
