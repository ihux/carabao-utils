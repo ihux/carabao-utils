{
 "cells": [
  {
   "cell_type": "code",
   "execution_count": 183,
   "id": "20b327b1-581d-4a3e-a67a-44eaae07295f",
   "metadata": {},
   "outputs": [],
   "source": [
    "# Matrix class\n",
    "#\n",
    "\n",
    "import numpy as np\n",
    "\n",
    "class Matrix:\n",
    "    def __init__(self,m=None,n=None): return init(self,m,n)\n",
    "    def __repr__(self): return repr(self)\n",
    "    def __add__(self,other): return add(self,other)\n",
    "\n",
    "#============================================================================\n",
    "# init Matrix        \n",
    "#============================================================================\n",
    "\n",
    "def init(o,m,n):\n",
    "        m = 0 if m == None else m\n",
    "        n = 0 if n == None else n\n",
    "        o.M = np.zeros((m,n))\n",
    "\n",
    "#============================================================================\n",
    "# string representation of Matrix        \n",
    "#============================================================================\n",
    "\n",
    "def repr(o):\n",
    "    m,n = o.M.shape\n",
    "    length = 0\n",
    "    for i in range(0,m):\n",
    "        for j in range(0,n):\n",
    "            s = \"%g\" % o.M[i,j]\n",
    "            length = max(length,len(s))\n",
    "    \n",
    "    str = \"\"\n",
    "    for i in range(0,m):\n",
    "        s = \"\"\n",
    "        for j in range(0,n):\n",
    "            if length < 5:\n",
    "                s = s + \"%5g\" % o.M[i,j]\n",
    "            elif length < 8:\n",
    "                s = s + \"%9g\" % o.M[i,j]\n",
    "            else:\n",
    "                s = s + \"%12g\" % o.M[i,j]\n",
    "        s = s + \"\\n\"\n",
    "        str = str +s\n",
    "    return str\n",
    "\n",
    "#============================================================================\n",
    "# add arg to Matrix        \n",
    "#============================================================================\n",
    "\n",
    "def add(o,other):\n",
    "    m,n = size(o)\n",
    "    result = Matrix(m,n)\n",
    "    if isa(other,'int'):\n",
    "        result.M = o.M + other\n",
    "    else:\n",
    "        result.M = o.M + other\n",
    "    return result\n",
    "\n",
    "#============================================================================\n",
    "# function isa        \n",
    "#============================================================================\n",
    "\n",
    "def isa(arg,classname):\n",
    "    \"\"\"\n",
    "    ISA  Return 1 (true) if A has the data type specified,\n",
    "         otherwise 0 (false)\n",
    "\n",
    "      ok = isa(123,'int')\n",
    "      ok = isa(3.14159,'float')\n",
    "      ok = isa(\"hello world\",'str')\n",
    "      ok = isa(Matrix(2,3),'Matrix')\n",
    "    \"\"\"\n",
    "    return int(type(arg).__name__ == classname)\n",
    "\n",
    "#============================================================================\n",
    "# matrix sizes        \n",
    "#============================================================================\n",
    "\n",
    "def size(o):\n",
    "    if isa(o,'ndarray'):\n",
    "        m,n = o.shape\n",
    "    elif isa(o,'Matrix'): \n",
    "        m,n = o.M.shape\n",
    "    else:\n",
    "        m = 1; n = 1\n",
    "    return m,n\n",
    "    "
   ]
  },
  {
   "cell_type": "code",
   "execution_count": 184,
   "id": "04abd937-00d4-442a-b1e7-bf9cba4ba2d5",
   "metadata": {},
   "outputs": [
    {
     "data": {
      "text/plain": [
       "    0    0    0    0    0\n",
       "    0    0    0    0    0\n",
       "    0    0    0    0    0\n",
       "    0    0    0    0    0"
      ]
     },
     "execution_count": 184,
     "metadata": {},
     "output_type": "execute_result"
    }
   ],
   "source": [
    "A=Matrix(4,5)\n",
    "A"
   ]
  },
  {
   "cell_type": "code",
   "execution_count": 190,
   "id": "a53e666c-e113-411a-aee7-f88af76c2fd8",
   "metadata": {},
   "outputs": [
    {
     "data": {
      "text/plain": [
       "    3.36e+37    3.36e+37    3.36e+37    3.36e+37    3.36e+37\n",
       "    3.36e+37    3.36e+37    3.36e+37    3.36e+37    3.36e+37\n",
       "    3.36e+37    3.36e+37    3.36e+37    3.36e+37    3.36e+37\n",
       "    3.36e+37    3.36e+37    3.36e+37    3.36e+37    3.36e+37"
      ]
     },
     "execution_count": 190,
     "metadata": {},
     "output_type": "execute_result"
    }
   ],
   "source": [
    "A=A+2.178654388\n",
    "A\n",
    "A=A+1.12e37\n",
    "A"
   ]
  },
  {
   "cell_type": "code",
   "execution_count": 189,
   "id": "a87281ba-1dd2-49e9-961e-79c71f7a9d25",
   "metadata": {},
   "outputs": [
    {
     "data": {
      "text/plain": [
       "'Matrix'"
      ]
     },
     "execution_count": 189,
     "metadata": {},
     "output_type": "execute_result"
    }
   ],
   "source": [
    "type(A).__name__"
   ]
  },
  {
   "cell_type": "code",
   "execution_count": null,
   "id": "75a5d0c5-86d1-44f5-b632-211d40a1dd89",
   "metadata": {},
   "outputs": [],
   "source": []
  },
  {
   "cell_type": "code",
   "execution_count": null,
   "id": "e13d9673-4275-4280-9e43-4f6d6a746032",
   "metadata": {},
   "outputs": [],
   "source": []
  },
  {
   "cell_type": "code",
   "execution_count": null,
   "id": "422911e7-3b66-495b-9c37-5bc61f7b8ac9",
   "metadata": {},
   "outputs": [],
   "source": []
  },
  {
   "cell_type": "code",
   "execution_count": null,
   "id": "525e3051-6e4b-4ab5-9dc4-d3e1fa6da857",
   "metadata": {},
   "outputs": [],
   "source": []
  }
 ],
 "metadata": {
  "kernelspec": {
   "display_name": "Python 3 (ipykernel)",
   "language": "python",
   "name": "python3"
  },
  "language_info": {
   "codemirror_mode": {
    "name": "ipython",
    "version": 3
   },
   "file_extension": ".py",
   "mimetype": "text/x-python",
   "name": "python",
   "nbconvert_exporter": "python",
   "pygments_lexer": "ipython3",
   "version": "3.11.5"
  }
 },
 "nbformat": 4,
 "nbformat_minor": 5
}
