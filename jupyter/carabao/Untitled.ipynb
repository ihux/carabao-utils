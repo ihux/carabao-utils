{
 "cells": [
  {
   "cell_type": "code",
   "execution_count": 41,
   "id": "7e4af5e4-062e-40fd-9855-19b26f78e525",
   "metadata": {},
   "outputs": [],
   "source": [
    "# Caracow class\n",
    "\n",
    "from ypstruct import struct\n",
    "\n",
    "#============================================================================\n",
    "# class Caracow (one of Carabao's basic classes)\n",
    "#============================================================================\n",
    "\n",
    "class Caracow:\n",
    "    \"\"\"\n",
    "    CARACOW: one of the two basis classes of Carabao class\n",
    "\n",
    "                o = Caracow()     % default construction\n",
    "                o = Caracow(tag)  % construct with specific tag\n",
    "                oo = Caracow(o)   % copy constructor\n",
    "    \"\"\"\n",
    "    def __init__(self,arg=None):\n",
    "        tag = 'Caracow'\n",
    "        if arg == None:\n",
    "            arg = 'shell'\n",
    "\n",
    "            # convert a Caracow object into a structure\n",
    "\n",
    "        if type(arg).__name__ == 'Caracow':\n",
    "            arg = arg.pack()\n",
    "            \n",
    "            # dispatch on argument class\n",
    "\n",
    "        if type(arg).__name__ == 'str':\n",
    "            self.tag = tag\n",
    "            self.type = arg\n",
    "            self.par = struct()\n",
    "            self.data = ()\n",
    "            self.work = struct()\n",
    "        elif type(arg).__name__ == 'struct':\n",
    "            self.tag = arg.tag\n",
    "            self.type = arg.type\n",
    "            self.par = arg.par\n",
    "            self.data = arg.data\n",
    "            self.work = arg.work\n",
    "        else:\n",
    "            raise Exception('bad argument class (arg1)!')\n",
    "\n",
    "    def __repr__(self):\n",
    "        return \"Caracow()\"\n",
    "        \n",
    "    def __str__(self):\n",
    "        return \"<Caracow %s>\" % self.type\n",
    "\n",
    "    def pack(self):\n",
    "        \"\"\"\n",
    "        PACK:  pack Caracow object into a structure\n",
    "\n",
    "               see also: Caracow\n",
    "        \"\"\"\n",
    "        return struct(type=self.type, tag=self.tag, par=self.par,\n",
    "                      data=self.data, work=self.work)"
   ]
  },
  {
   "cell_type": "code",
   "execution_count": 42,
   "id": "c8431365-e4a2-416b-a44d-534eaba0da0e",
   "metadata": {},
   "outputs": [
    {
     "data": {
      "text/plain": [
       "struct({'pi': 3.14159})"
      ]
     },
     "execution_count": 42,
     "metadata": {},
     "output_type": "execute_result"
    }
   ],
   "source": [
    "o=Caracow()\n",
    "o.par.pi=3.14159\n",
    "s=o.par\n",
    "s"
   ]
  },
  {
   "cell_type": "code",
   "execution_count": null,
   "id": "13fd8106-ee8e-4b0c-aa3f-34514a833e37",
   "metadata": {},
   "outputs": [],
   "source": []
  },
  {
   "cell_type": "code",
   "execution_count": 43,
   "id": "9fb4cfe4-727c-4ad9-9de8-94fa03264eb7",
   "metadata": {},
   "outputs": [
    {
     "data": {
      "text/plain": [
       "struct({'type': 'test', 'tag': 'Caracow', 'par': struct({}), 'data': (), 'work': struct({})})"
      ]
     },
     "execution_count": 43,
     "metadata": {},
     "output_type": "execute_result"
    }
   ],
   "source": [
    "o=Caracow('test')\n",
    "bag=o.pack()\n",
    "bag"
   ]
  },
  {
   "cell_type": "code",
   "execution_count": 44,
   "id": "226bfea7-12d5-4523-8cf4-2b8938c3e2ab",
   "metadata": {},
   "outputs": [
    {
     "name": "stdout",
     "output_type": "stream",
     "text": [
      "<Caracow test>\n"
     ]
    }
   ],
   "source": [
    "oo=Caracow(o)\n",
    "print(o)"
   ]
  },
  {
   "cell_type": "code",
   "execution_count": null,
   "id": "68676292-b11c-4eff-9812-8453d78321e3",
   "metadata": {},
   "outputs": [],
   "source": []
  }
 ],
 "metadata": {
  "kernelspec": {
   "display_name": "Python 3 (ipykernel)",
   "language": "python",
   "name": "python3"
  },
  "language_info": {
   "codemirror_mode": {
    "name": "ipython",
    "version": 3
   },
   "file_extension": ".py",
   "mimetype": "text/x-python",
   "name": "python",
   "nbconvert_exporter": "python",
   "pygments_lexer": "ipython3",
   "version": "3.11.5"
  }
 },
 "nbformat": 4,
 "nbformat_minor": 5
}
